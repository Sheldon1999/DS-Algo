﻿{
  "nbformat": 4,
  "nbformat_minor": 0,
  "metadata": {
    "kernelspec": {
      "display_name": "Python 3",
      "language": "python",
      "name": "python3"
    },
    "language_info": {
      "codemirror_mode": {
        "name": "ipython",
        "version": 3
      },
      "file_extension": ".py",
      "mimetype": "text/x-python",
      "name": "python",
      "nbconvert_exporter": "python",
      "pygments_lexer": "ipython3",
      "version": "3.6.6"
    },
    "colab": {
      "name": "India vs World - COVID-19.ipynb",
      "provenance": [],
      "collapsed_sections": [
        "RkCHpmwkFOtU",
        "oTiw0LbXCmeW",
        "KW3k0TQcFEO4",
        "dFhorHIrdhCq",
        "0q44og8xdhE1",
        "7auHzQ1edhFV",
        "PfZbFocZdhFh",
        "QvCUF8AQdhFv",
        "AQ73T8PrdhGB",
        "mCQ7l2xJM5Ke"
      ]
    }
  },
  "cells": [
    {
      "cell_type": "markdown",
      "metadata": {
        "id": "t8rlRGrprZ3r",
        "colab_type": "text"
      },
      "source": [
        "\n",
        "![alt text](https://i.imgur.com/HWXuFrR.png)"
      ]
    },
    {
      "cell_type": "markdown",
      "metadata": {
        "id": "YZRcLPvedhCH",
        "colab_type": "text"
      },
      "source": [
        "#COVID-19 - Pandemic in India!"
      ]
    },
    {
      "cell_type": "markdown",
      "metadata": {
        "id": "RkCHpmwkFOtU",
        "colab_type": "text"
      },
      "source": [
        "##About COVID-19"
      ]
    },
    {
      "cell_type": "markdown",
      "metadata": {
        "id": "xFi2gCYLEAp6",
        "colab_type": "text"
      },
      "source": [
        "The **coronavirus (COVID-19)** pandemic has spread across 190 countries infecting 4.2 lakh people and killing 16,500 so far. In India, as many as 562 COVID-19 cases have been reported so far. Of these, 37 have recovered and 10 have died. \n",
        "\n",
        "On March 24, Prime Minister Narendra Modi annouced that the country would go under 21-day lackdown to combat the spread of the virus.\n",
        "Infections are rapidly rising in Italy, France, Germany, Spain, United Kingdom and the United States. It has has a massive impact on the global economy and stock markets\n",
        "\n",
        "The outbreak of COVID-19 is developing into a major international crisis, and it's starting to influence important aspects of daily life. For example in India:\n",
        "\n",
        "- **Travel:** Complete lockdown no domestic or international flights are allowed in India for till next 21 days as decided by Ministry of Civil Aviation.\n",
        "- **Grocery stores:** In highly affected areas, people are starting to stock up on essential goods leading to shortage of essential stuff."
      ]
    },
    {
      "cell_type": "markdown",
      "metadata": {
        "id": "jj7ZlQDsmWam",
        "colab_type": "text"
      },
      "source": [
        "**Corona Virus Explained in Simple Terms:**\n",
        "- Let's say Raghav got infected yesterday, but he won't know it untill next 14 days\n",
        "- Raghav thinks he is healthy but he is infecting 10 persons per day\n",
        "- Now these 10 persons think they are completely healthy, they travel, go out and infect 100 others\n",
        "- These 100 persons think they are healthy but they have already infected 1000 persons\n",
        "- No one knows who is healthy or who can infect you\n",
        "- All you can do is be responsible, stay in quarentine"
      ]
    },
    {
      "cell_type": "markdown",
      "metadata": {
        "id": "oTiw0LbXCmeW",
        "colab_type": "text"
      },
      "source": [
        "##Problem Statement:"
      ]
    },
    {
      "cell_type": "markdown",
      "metadata": {
        "id": "KW3k0TQcFEO4",
        "colab_type": "text"
      },
      "source": [
        "Its **25th March Afternoon** and India has reported its **9th** death with **562 total confirmed cases** due to COVID-19. Fresh cases from Manipur, Bihar, Gujrat, and Madhya Pradhesh have been reported by the Union Ministry of Health and Family Welfare. \n",
        " \n",
        "As the coronavirus outbreak continues to spread in the country, the question that we as Indians are trying to answer is : \n",
        "\n",
        "**\"Will India be able to tackle this pandemic or are we going to witness another Italy/ S.Korea/ Wuhan?\"**\n",
        "### Goal:\n",
        "We need a strong model that predicts how the virus could spread across different countries and regions. The goal of this task is to build a model that predicts the spread of the virus in the next 7 days.\n",
        "###Tasks to be performed:\n",
        "- Analysing the present condition in India\n",
        "- Is this trend similar to Italy/S. Korea/ Wuhan\n",
        "- Exploring the world wide data\n",
        "- Forecasting the world wide COVID-19 cases using Prophet"
      ]
    },
    {
      "cell_type": "markdown",
      "metadata": {
        "id": "bnu_YAjjFxOu",
        "colab_type": "text"
      },
      "source": [
        "###Importing the required libraries"
      ]
    },
    {
      "cell_type": "code",
      "metadata": {
        "_kg_hide-input": true,
        "_kg_hide-output": true,
        "id": "BRQ9saONdhCQ",
        "colab_type": "code",
        "colab": {}
      },
      "source": [
        "# importing the required libraries\n",
        "import pandas as pd\n",
        "\n",
        "# Visualisation libraries\n",
        "import matplotlib.pyplot as plt\n",
        "%matplotlib inline\n",
        "import seaborn as sns\n",
        "import plotly.express as px\n",
        "import plotly.graph_objects as go\n",
        "import folium \n",
        "from folium import plugins\n",
        "\n",
        "# Manipulating the default plot size\n",
        "plt.rcParams['figure.figsize'] = 10, 12\n",
        "\n",
        "# Disable warnings \n",
        "import warnings\n",
        "warnings.filterwarnings('ignore')"
      ],
      "execution_count": 0,
      "outputs": []
    },
    {
      "cell_type": "markdown",
      "metadata": {
        "id": "dFhorHIrdhCq",
        "colab_type": "text"
      },
      "source": [
        "# Part 1: Analysing the present condition in India\n"
      ]
    },
    {
      "cell_type": "markdown",
      "metadata": {
        "id": "gpi83iahUixw",
        "colab_type": "text"
      },
      "source": [
        "**How it started in India?:** \n",
        "\n",
        "The first **COVID-19** case was reported on 30th January 2020 when a student arrived **Kerala** from Wuhan. Just in next 2 days, Kerela reported 2 more cases. For almost a month, no new cases were reported in India, however, on 2nd March 2020, five new cases of corona virus were reported in Kerala again and since then the cases have been rising affecting **25** states, till now *(Bihar and Manipur being the most recent)*. Here is a brief timeline of the cases in India.\n",
        "###COVID-19 in India - Timeline\n",
        " <br>\n",
        "\n",
        "\n",
        "![](https://i.imgur.com/jUwp2jc.png)"
      ]
    },
    {
      "cell_type": "markdown",
      "metadata": {
        "id": "Rzy4cScWBiAd",
        "colab_type": "text"
      },
      "source": [
        "##Recent COVID-19 cases in India: PM Modi Speech - 24th March"
      ]
    },
    {
      "cell_type": "markdown",
      "metadata": {
        "id": "8GshVqvREFj2",
        "colab_type": "text"
      },
      "source": [
        "- **PM Narendra Modi** declared a three-week nationwide lockdown starting midnight Tuesday, explaining that it was the only way of breaking the Covid-19 infection cycle.\n",
        "- Modi told people to **stay inside** their homes for **21 days**, warning that if they didn’t do so the country would be set back 21 years and families would be destroyed. \n",
        "- Modi later issued an appeal to the public to **stop panic buying** as people began crowding markets to stock up before the midnight deadline.\n",
        "- The government also issued a notification that said **all essential services will remain open**, as before, and **all essential commodities and medicines would be available**. Banks, ATMs, petrol pumps, hospitals and grocery shops will continue to function. \n",
        "- **All transport services** — air, rail and roadways — will **remain suspended** until April 14."
      ]
    },
    {
      "cell_type": "markdown",
      "metadata": {
        "id": "QLaxaOyJJvU7",
        "colab_type": "text"
      },
      "source": [
        "## 1.1 Reading the Datasets\n"
      ]
    },
    {
      "cell_type": "code",
      "metadata": {
        "_kg_hide-input": true,
        "_kg_hide-output": true,
        "id": "GT-J_-YQdhCy",
        "colab_type": "code",
        "outputId": "a8810503-d5e0-4fea-c148-1618086b16bb",
        "colab": {
          "base_uri": "https://localhost:8080/",
          "height": 841
        }
      },
      "source": [
        "#Learn how to read a .xls file by creating a dataframe using pandas\n",
        "# Reading the datasets\n",
        "df= pd.read_excel('/content/Covid cases in India.xlsx')\n",
        "df_india = df.copy()\n",
        "df"
      ],
      "execution_count": 5,
      "outputs": [
        {
          "output_type": "execute_result",
          "data": {
            "text/html": [
              "<div>\n",
              "<style scoped>\n",
              "    .dataframe tbody tr th:only-of-type {\n",
              "        vertical-align: middle;\n",
              "    }\n",
              "\n",
              "    .dataframe tbody tr th {\n",
              "        vertical-align: top;\n",
              "    }\n",
              "\n",
              "    .dataframe thead th {\n",
              "        text-align: right;\n",
              "    }\n",
              "</style>\n",
              "<table border=\"1\" class=\"dataframe\">\n",
              "  <thead>\n",
              "    <tr style=\"text-align: right;\">\n",
              "      <th></th>\n",
              "      <th>S. No.</th>\n",
              "      <th>Name of State / UT</th>\n",
              "      <th>Total Confirmed cases (Indian National)</th>\n",
              "      <th>Total Confirmed cases ( Foreign National )</th>\n",
              "      <th>Cured</th>\n",
              "      <th>Death</th>\n",
              "    </tr>\n",
              "  </thead>\n",
              "  <tbody>\n",
              "    <tr>\n",
              "      <th>0</th>\n",
              "      <td>1</td>\n",
              "      <td>Andhra Pradesh</td>\n",
              "      <td>9</td>\n",
              "      <td>0</td>\n",
              "      <td>0</td>\n",
              "      <td>0</td>\n",
              "    </tr>\n",
              "    <tr>\n",
              "      <th>1</th>\n",
              "      <td>2</td>\n",
              "      <td>Bihar</td>\n",
              "      <td>3</td>\n",
              "      <td>0</td>\n",
              "      <td>0</td>\n",
              "      <td>1</td>\n",
              "    </tr>\n",
              "    <tr>\n",
              "      <th>2</th>\n",
              "      <td>3</td>\n",
              "      <td>Chhattisgarh</td>\n",
              "      <td>1</td>\n",
              "      <td>0</td>\n",
              "      <td>0</td>\n",
              "      <td>0</td>\n",
              "    </tr>\n",
              "    <tr>\n",
              "      <th>3</th>\n",
              "      <td>4</td>\n",
              "      <td>Delhi</td>\n",
              "      <td>30</td>\n",
              "      <td>1</td>\n",
              "      <td>6</td>\n",
              "      <td>1</td>\n",
              "    </tr>\n",
              "    <tr>\n",
              "      <th>4</th>\n",
              "      <td>5</td>\n",
              "      <td>Gujarat</td>\n",
              "      <td>32</td>\n",
              "      <td>1</td>\n",
              "      <td>0</td>\n",
              "      <td>1</td>\n",
              "    </tr>\n",
              "    <tr>\n",
              "      <th>5</th>\n",
              "      <td>6</td>\n",
              "      <td>Haryana</td>\n",
              "      <td>14</td>\n",
              "      <td>14</td>\n",
              "      <td>11</td>\n",
              "      <td>0</td>\n",
              "    </tr>\n",
              "    <tr>\n",
              "      <th>6</th>\n",
              "      <td>7</td>\n",
              "      <td>Himachal Pradesh</td>\n",
              "      <td>3</td>\n",
              "      <td>0</td>\n",
              "      <td>0</td>\n",
              "      <td>1</td>\n",
              "    </tr>\n",
              "    <tr>\n",
              "      <th>7</th>\n",
              "      <td>8</td>\n",
              "      <td>Karnataka</td>\n",
              "      <td>41</td>\n",
              "      <td>0</td>\n",
              "      <td>3</td>\n",
              "      <td>1</td>\n",
              "    </tr>\n",
              "    <tr>\n",
              "      <th>8</th>\n",
              "      <td>9</td>\n",
              "      <td>Kerala</td>\n",
              "      <td>101</td>\n",
              "      <td>8</td>\n",
              "      <td>4</td>\n",
              "      <td>0</td>\n",
              "    </tr>\n",
              "    <tr>\n",
              "      <th>9</th>\n",
              "      <td>10</td>\n",
              "      <td>Madhya Pradesh</td>\n",
              "      <td>9</td>\n",
              "      <td>0</td>\n",
              "      <td>0</td>\n",
              "      <td>0</td>\n",
              "    </tr>\n",
              "    <tr>\n",
              "      <th>10</th>\n",
              "      <td>11</td>\n",
              "      <td>Maharashtra</td>\n",
              "      <td>98</td>\n",
              "      <td>3</td>\n",
              "      <td>0</td>\n",
              "      <td>2</td>\n",
              "    </tr>\n",
              "    <tr>\n",
              "      <th>11</th>\n",
              "      <td>12</td>\n",
              "      <td>Manipur</td>\n",
              "      <td>1</td>\n",
              "      <td>0</td>\n",
              "      <td>0</td>\n",
              "      <td>0</td>\n",
              "    </tr>\n",
              "    <tr>\n",
              "      <th>12</th>\n",
              "      <td>13</td>\n",
              "      <td>Mizoram</td>\n",
              "      <td>1</td>\n",
              "      <td>0</td>\n",
              "      <td>0</td>\n",
              "      <td>0</td>\n",
              "    </tr>\n",
              "    <tr>\n",
              "      <th>13</th>\n",
              "      <td>14</td>\n",
              "      <td>Odisha</td>\n",
              "      <td>2</td>\n",
              "      <td>0</td>\n",
              "      <td>0</td>\n",
              "      <td>0</td>\n",
              "    </tr>\n",
              "    <tr>\n",
              "      <th>14</th>\n",
              "      <td>15</td>\n",
              "      <td>Puducherry</td>\n",
              "      <td>1</td>\n",
              "      <td>0</td>\n",
              "      <td>0</td>\n",
              "      <td>0</td>\n",
              "    </tr>\n",
              "    <tr>\n",
              "      <th>15</th>\n",
              "      <td>16</td>\n",
              "      <td>Punjab</td>\n",
              "      <td>29</td>\n",
              "      <td>0</td>\n",
              "      <td>0</td>\n",
              "      <td>1</td>\n",
              "    </tr>\n",
              "    <tr>\n",
              "      <th>16</th>\n",
              "      <td>17</td>\n",
              "      <td>Rajasthan</td>\n",
              "      <td>30</td>\n",
              "      <td>2</td>\n",
              "      <td>3</td>\n",
              "      <td>0</td>\n",
              "    </tr>\n",
              "    <tr>\n",
              "      <th>17</th>\n",
              "      <td>18</td>\n",
              "      <td>Tamil Nadu</td>\n",
              "      <td>16</td>\n",
              "      <td>2</td>\n",
              "      <td>1</td>\n",
              "      <td>0</td>\n",
              "    </tr>\n",
              "    <tr>\n",
              "      <th>18</th>\n",
              "      <td>19</td>\n",
              "      <td>Telengana</td>\n",
              "      <td>25</td>\n",
              "      <td>10</td>\n",
              "      <td>1</td>\n",
              "      <td>0</td>\n",
              "    </tr>\n",
              "    <tr>\n",
              "      <th>19</th>\n",
              "      <td>20</td>\n",
              "      <td>Chandigarh</td>\n",
              "      <td>7</td>\n",
              "      <td>0</td>\n",
              "      <td>0</td>\n",
              "      <td>0</td>\n",
              "    </tr>\n",
              "    <tr>\n",
              "      <th>20</th>\n",
              "      <td>21</td>\n",
              "      <td>Jammu and Kashmir</td>\n",
              "      <td>7</td>\n",
              "      <td>0</td>\n",
              "      <td>1</td>\n",
              "      <td>0</td>\n",
              "    </tr>\n",
              "    <tr>\n",
              "      <th>21</th>\n",
              "      <td>22</td>\n",
              "      <td>Ladakh</td>\n",
              "      <td>13</td>\n",
              "      <td>0</td>\n",
              "      <td>0</td>\n",
              "      <td>0</td>\n",
              "    </tr>\n",
              "    <tr>\n",
              "      <th>22</th>\n",
              "      <td>23</td>\n",
              "      <td>Uttar Pradesh</td>\n",
              "      <td>34</td>\n",
              "      <td>1</td>\n",
              "      <td>11</td>\n",
              "      <td>0</td>\n",
              "    </tr>\n",
              "    <tr>\n",
              "      <th>23</th>\n",
              "      <td>24</td>\n",
              "      <td>Uttarakhand</td>\n",
              "      <td>3</td>\n",
              "      <td>1</td>\n",
              "      <td>0</td>\n",
              "      <td>0</td>\n",
              "    </tr>\n",
              "    <tr>\n",
              "      <th>24</th>\n",
              "      <td>25</td>\n",
              "      <td>West Bengal</td>\n",
              "      <td>9</td>\n",
              "      <td>0</td>\n",
              "      <td>0</td>\n",
              "      <td>1</td>\n",
              "    </tr>\n",
              "  </tbody>\n",
              "</table>\n",
              "</div>"
            ],
            "text/plain": [
              "    S. No. Name of State / UT  ...  Cured  Death\n",
              "0        1     Andhra Pradesh  ...      0      0\n",
              "1        2              Bihar  ...      0      1\n",
              "2        3       Chhattisgarh  ...      0      0\n",
              "3        4              Delhi  ...      6      1\n",
              "4        5            Gujarat  ...      0      1\n",
              "5        6            Haryana  ...     11      0\n",
              "6        7   Himachal Pradesh  ...      0      1\n",
              "7        8          Karnataka  ...      3      1\n",
              "8        9             Kerala  ...      4      0\n",
              "9       10     Madhya Pradesh  ...      0      0\n",
              "10      11        Maharashtra  ...      0      2\n",
              "11      12            Manipur  ...      0      0\n",
              "12      13            Mizoram  ...      0      0\n",
              "13      14             Odisha  ...      0      0\n",
              "14      15         Puducherry  ...      0      0\n",
              "15      16             Punjab  ...      0      1\n",
              "16      17          Rajasthan  ...      3      0\n",
              "17      18         Tamil Nadu  ...      1      0\n",
              "18      19          Telengana  ...      1      0\n",
              "19      20         Chandigarh  ...      0      0\n",
              "20      21  Jammu and Kashmir  ...      1      0\n",
              "21      22             Ladakh  ...      0      0\n",
              "22      23      Uttar Pradesh  ...     11      0\n",
              "23      24        Uttarakhand  ...      0      0\n",
              "24      25        West Bengal  ...      0      1\n",
              "\n",
              "[25 rows x 6 columns]"
            ]
          },
          "metadata": {
            "tags": []
          },
          "execution_count": 5
        }
      ]
    },
    {
      "cell_type": "code",
      "metadata": {
        "id": "pn4GpG2CjX2C",
        "colab_type": "code",
        "colab": {}
      },
      "source": [
        "# Coordinates of India States and Union Territories\n",
        "India_coord = pd.read_excel('/content/Indian Coordinates.xlsx')\n",
        "\n",
        "#Day by day data of India, Korea, Italy and Wuhan\n",
        "dbd_India = pd.read_excel('/content/per_day_cases.xlsx',parse_dates=True, sheet_name='India')\n",
        "dbd_Italy = pd.read_excel('/content/per_day_cases.xlsx',parse_dates=True, sheet_name=\"Italy\")\n",
        "dbd_Korea = pd.read_excel('/content/per_day_cases.xlsx',parse_dates=True, sheet_name=\"Korea\")\n",
        "dbd_Wuhan = pd.read_excel('/content/per_day_cases.xlsx',parse_dates=True, sheet_name=\"Wuhan\")"
      ],
      "execution_count": 0,
      "outputs": []
    },
    {
      "cell_type": "markdown",
      "metadata": {
        "id": "2B1zwo4gdhDd",
        "colab_type": "text"
      },
      "source": [
        "## 1.2 Analysing COVID19 Cases in India"
      ]
    },
    {
      "cell_type": "code",
      "metadata": {
        "_kg_hide-input": true,
        "id": "5x5FEOVEdhDF",
        "colab_type": "code",
        "outputId": "40773afc-428d-4341-8b98-e5b8922d5ba5",
        "colab": {
          "base_uri": "https://localhost:8080/",
          "height": 34
        }
      },
      "source": [
        "#Learn how to play around with the dataframe and create a new attribute of 'Total Case'\n",
        "#Total case is the total number of confirmed cases (Indian National + Foreign National)\n",
        "\n",
        "df.drop(['S. No.'],axis=1,inplace=True)\n",
        "df['Total cases'] = df['Total Confirmed cases (Indian National)'] + df['Total Confirmed cases ( Foreign National )']\n",
        "total_cases = df['Total cases'].sum()\n",
        "print('Total number of confirmed COVID 2019 cases across India till date (22nd March, 2020):', total_cases)\n"
      ],
      "execution_count": 7,
      "outputs": [
        {
          "output_type": "stream",
          "text": [
            "Total number of confirmed COVID 2019 cases across India till date (22nd March, 2020): 562\n"
          ],
          "name": "stdout"
        }
      ]
    },
    {
      "cell_type": "code",
      "metadata": {
        "_kg_hide-input": true,
        "_kg_hide-output": false,
        "id": "jIQzgI5YdhDh",
        "colab_type": "code",
        "outputId": "355c18ad-303e-4091-8fd1-7dbfae32c2ed",
        "colab": {
          "base_uri": "https://localhost:8080/",
          "height": 565
        }
      },
      "source": [
        "#Learn how to highlight your dataframe\n",
        "df.style.background_gradient(cmap='Reds')"
      ],
      "execution_count": 8,
      "outputs": [
        {
          "output_type": "execute_result",
          "data": {
            "text/html": [
              "<style  type=\"text/css\" >\n",
              "    #T_b9ef2f50_6e81_11ea_a637_0242ac1c0002row0_col1 {\n",
              "            background-color:  #fee8dd;\n",
              "            color:  #000000;\n",
              "        }    #T_b9ef2f50_6e81_11ea_a637_0242ac1c0002row0_col2 {\n",
              "            background-color:  #fff5f0;\n",
              "            color:  #000000;\n",
              "        }    #T_b9ef2f50_6e81_11ea_a637_0242ac1c0002row0_col3 {\n",
              "            background-color:  #fff5f0;\n",
              "            color:  #000000;\n",
              "        }    #T_b9ef2f50_6e81_11ea_a637_0242ac1c0002row0_col4 {\n",
              "            background-color:  #fff5f0;\n",
              "            color:  #000000;\n",
              "        }    #T_b9ef2f50_6e81_11ea_a637_0242ac1c0002row0_col5 {\n",
              "            background-color:  #fee9df;\n",
              "            color:  #000000;\n",
              "        }    #T_b9ef2f50_6e81_11ea_a637_0242ac1c0002row1_col1 {\n",
              "            background-color:  #fff2eb;\n",
              "            color:  #000000;\n",
              "        }    #T_b9ef2f50_6e81_11ea_a637_0242ac1c0002row1_col2 {\n",
              "            background-color:  #fff5f0;\n",
              "            color:  #000000;\n",
              "        }    #T_b9ef2f50_6e81_11ea_a637_0242ac1c0002row1_col3 {\n",
              "            background-color:  #fff5f0;\n",
              "            color:  #000000;\n",
              "        }    #T_b9ef2f50_6e81_11ea_a637_0242ac1c0002row1_col4 {\n",
              "            background-color:  #fb694a;\n",
              "            color:  #000000;\n",
              "        }    #T_b9ef2f50_6e81_11ea_a637_0242ac1c0002row1_col5 {\n",
              "            background-color:  #fff2ec;\n",
              "            color:  #000000;\n",
              "        }    #T_b9ef2f50_6e81_11ea_a637_0242ac1c0002row2_col1 {\n",
              "            background-color:  #fff5f0;\n",
              "            color:  #000000;\n",
              "        }    #T_b9ef2f50_6e81_11ea_a637_0242ac1c0002row2_col2 {\n",
              "            background-color:  #fff5f0;\n",
              "            color:  #000000;\n",
              "        }    #T_b9ef2f50_6e81_11ea_a637_0242ac1c0002row2_col3 {\n",
              "            background-color:  #fff5f0;\n",
              "            color:  #000000;\n",
              "        }    #T_b9ef2f50_6e81_11ea_a637_0242ac1c0002row2_col4 {\n",
              "            background-color:  #fff5f0;\n",
              "            color:  #000000;\n",
              "        }    #T_b9ef2f50_6e81_11ea_a637_0242ac1c0002row2_col5 {\n",
              "            background-color:  #fff5f0;\n",
              "            color:  #000000;\n",
              "        }    #T_b9ef2f50_6e81_11ea_a637_0242ac1c0002row3_col1 {\n",
              "            background-color:  #fcae92;\n",
              "            color:  #000000;\n",
              "        }    #T_b9ef2f50_6e81_11ea_a637_0242ac1c0002row3_col2 {\n",
              "            background-color:  #fee9df;\n",
              "            color:  #000000;\n",
              "        }    #T_b9ef2f50_6e81_11ea_a637_0242ac1c0002row3_col3 {\n",
              "            background-color:  #f7593f;\n",
              "            color:  #000000;\n",
              "        }    #T_b9ef2f50_6e81_11ea_a637_0242ac1c0002row3_col4 {\n",
              "            background-color:  #fb694a;\n",
              "            color:  #000000;\n",
              "        }    #T_b9ef2f50_6e81_11ea_a637_0242ac1c0002row3_col5 {\n",
              "            background-color:  #fcb296;\n",
              "            color:  #000000;\n",
              "        }    #T_b9ef2f50_6e81_11ea_a637_0242ac1c0002row4_col1 {\n",
              "            background-color:  #fca78b;\n",
              "            color:  #000000;\n",
              "        }    #T_b9ef2f50_6e81_11ea_a637_0242ac1c0002row4_col2 {\n",
              "            background-color:  #fee9df;\n",
              "            color:  #000000;\n",
              "        }    #T_b9ef2f50_6e81_11ea_a637_0242ac1c0002row4_col3 {\n",
              "            background-color:  #fff5f0;\n",
              "            color:  #000000;\n",
              "        }    #T_b9ef2f50_6e81_11ea_a637_0242ac1c0002row4_col4 {\n",
              "            background-color:  #fb694a;\n",
              "            color:  #000000;\n",
              "        }    #T_b9ef2f50_6e81_11ea_a637_0242ac1c0002row4_col5 {\n",
              "            background-color:  #fcad90;\n",
              "            color:  #000000;\n",
              "        }    #T_b9ef2f50_6e81_11ea_a637_0242ac1c0002row5_col1 {\n",
              "            background-color:  #fedfd0;\n",
              "            color:  #000000;\n",
              "        }    #T_b9ef2f50_6e81_11ea_a637_0242ac1c0002row5_col2 {\n",
              "            background-color:  #67000d;\n",
              "            color:  #f1f1f1;\n",
              "        }    #T_b9ef2f50_6e81_11ea_a637_0242ac1c0002row5_col3 {\n",
              "            background-color:  #67000d;\n",
              "            color:  #f1f1f1;\n",
              "        }    #T_b9ef2f50_6e81_11ea_a637_0242ac1c0002row5_col4 {\n",
              "            background-color:  #fff5f0;\n",
              "            color:  #000000;\n",
              "        }    #T_b9ef2f50_6e81_11ea_a637_0242ac1c0002row5_col5 {\n",
              "            background-color:  #fcbba1;\n",
              "            color:  #000000;\n",
              "        }    #T_b9ef2f50_6e81_11ea_a637_0242ac1c0002row6_col1 {\n",
              "            background-color:  #fff2eb;\n",
              "            color:  #000000;\n",
              "        }    #T_b9ef2f50_6e81_11ea_a637_0242ac1c0002row6_col2 {\n",
              "            background-color:  #fff5f0;\n",
              "            color:  #000000;\n",
              "        }    #T_b9ef2f50_6e81_11ea_a637_0242ac1c0002row6_col3 {\n",
              "            background-color:  #fff5f0;\n",
              "            color:  #000000;\n",
              "        }    #T_b9ef2f50_6e81_11ea_a637_0242ac1c0002row6_col4 {\n",
              "            background-color:  #fb694a;\n",
              "            color:  #000000;\n",
              "        }    #T_b9ef2f50_6e81_11ea_a637_0242ac1c0002row6_col5 {\n",
              "            background-color:  #fff2ec;\n",
              "            color:  #000000;\n",
              "        }    #T_b9ef2f50_6e81_11ea_a637_0242ac1c0002row7_col1 {\n",
              "            background-color:  #fc8a6a;\n",
              "            color:  #000000;\n",
              "        }    #T_b9ef2f50_6e81_11ea_a637_0242ac1c0002row7_col2 {\n",
              "            background-color:  #fff5f0;\n",
              "            color:  #000000;\n",
              "        }    #T_b9ef2f50_6e81_11ea_a637_0242ac1c0002row7_col3 {\n",
              "            background-color:  #fcb499;\n",
              "            color:  #000000;\n",
              "        }    #T_b9ef2f50_6e81_11ea_a637_0242ac1c0002row7_col4 {\n",
              "            background-color:  #fb694a;\n",
              "            color:  #000000;\n",
              "        }    #T_b9ef2f50_6e81_11ea_a637_0242ac1c0002row7_col5 {\n",
              "            background-color:  #fc9474;\n",
              "            color:  #000000;\n",
              "        }    #T_b9ef2f50_6e81_11ea_a637_0242ac1c0002row8_col1 {\n",
              "            background-color:  #67000d;\n",
              "            color:  #f1f1f1;\n",
              "        }    #T_b9ef2f50_6e81_11ea_a637_0242ac1c0002row8_col2 {\n",
              "            background-color:  #f44f39;\n",
              "            color:  #000000;\n",
              "        }    #T_b9ef2f50_6e81_11ea_a637_0242ac1c0002row8_col3 {\n",
              "            background-color:  #fc9576;\n",
              "            color:  #000000;\n",
              "        }    #T_b9ef2f50_6e81_11ea_a637_0242ac1c0002row8_col4 {\n",
              "            background-color:  #fff5f0;\n",
              "            color:  #000000;\n",
              "        }    #T_b9ef2f50_6e81_11ea_a637_0242ac1c0002row8_col5 {\n",
              "            background-color:  #67000d;\n",
              "            color:  #f1f1f1;\n",
              "        }    #T_b9ef2f50_6e81_11ea_a637_0242ac1c0002row9_col1 {\n",
              "            background-color:  #fee8dd;\n",
              "            color:  #000000;\n",
              "        }    #T_b9ef2f50_6e81_11ea_a637_0242ac1c0002row9_col2 {\n",
              "            background-color:  #fff5f0;\n",
              "            color:  #000000;\n",
              "        }    #T_b9ef2f50_6e81_11ea_a637_0242ac1c0002row9_col3 {\n",
              "            background-color:  #fff5f0;\n",
              "            color:  #000000;\n",
              "        }    #T_b9ef2f50_6e81_11ea_a637_0242ac1c0002row9_col4 {\n",
              "            background-color:  #fff5f0;\n",
              "            color:  #000000;\n",
              "        }    #T_b9ef2f50_6e81_11ea_a637_0242ac1c0002row9_col5 {\n",
              "            background-color:  #fee9df;\n",
              "            color:  #000000;\n",
              "        }    #T_b9ef2f50_6e81_11ea_a637_0242ac1c0002row10_col1 {\n",
              "            background-color:  #75030f;\n",
              "            color:  #f1f1f1;\n",
              "        }    #T_b9ef2f50_6e81_11ea_a637_0242ac1c0002row10_col2 {\n",
              "            background-color:  #fdc6b0;\n",
              "            color:  #000000;\n",
              "        }    #T_b9ef2f50_6e81_11ea_a637_0242ac1c0002row10_col3 {\n",
              "            background-color:  #fff5f0;\n",
              "            color:  #000000;\n",
              "        }    #T_b9ef2f50_6e81_11ea_a637_0242ac1c0002row10_col4 {\n",
              "            background-color:  #67000d;\n",
              "            color:  #f1f1f1;\n",
              "        }    #T_b9ef2f50_6e81_11ea_a637_0242ac1c0002row10_col5 {\n",
              "            background-color:  #8a0812;\n",
              "            color:  #f1f1f1;\n",
              "        }    #T_b9ef2f50_6e81_11ea_a637_0242ac1c0002row11_col1 {\n",
              "            background-color:  #fff5f0;\n",
              "            color:  #000000;\n",
              "        }    #T_b9ef2f50_6e81_11ea_a637_0242ac1c0002row11_col2 {\n",
              "            background-color:  #fff5f0;\n",
              "            color:  #000000;\n",
              "        }    #T_b9ef2f50_6e81_11ea_a637_0242ac1c0002row11_col3 {\n",
              "            background-color:  #fff5f0;\n",
              "            color:  #000000;\n",
              "        }    #T_b9ef2f50_6e81_11ea_a637_0242ac1c0002row11_col4 {\n",
              "            background-color:  #fff5f0;\n",
              "            color:  #000000;\n",
              "        }    #T_b9ef2f50_6e81_11ea_a637_0242ac1c0002row11_col5 {\n",
              "            background-color:  #fff5f0;\n",
              "            color:  #000000;\n",
              "        }    #T_b9ef2f50_6e81_11ea_a637_0242ac1c0002row12_col1 {\n",
              "            background-color:  #fff5f0;\n",
              "            color:  #000000;\n",
              "        }    #T_b9ef2f50_6e81_11ea_a637_0242ac1c0002row12_col2 {\n",
              "            background-color:  #fff5f0;\n",
              "            color:  #000000;\n",
              "        }    #T_b9ef2f50_6e81_11ea_a637_0242ac1c0002row12_col3 {\n",
              "            background-color:  #fff5f0;\n",
              "            color:  #000000;\n",
              "        }    #T_b9ef2f50_6e81_11ea_a637_0242ac1c0002row12_col4 {\n",
              "            background-color:  #fff5f0;\n",
              "            color:  #000000;\n",
              "        }    #T_b9ef2f50_6e81_11ea_a637_0242ac1c0002row12_col5 {\n",
              "            background-color:  #fff5f0;\n",
              "            color:  #000000;\n",
              "        }    #T_b9ef2f50_6e81_11ea_a637_0242ac1c0002row13_col1 {\n",
              "            background-color:  #fff4ee;\n",
              "            color:  #000000;\n",
              "        }    #T_b9ef2f50_6e81_11ea_a637_0242ac1c0002row13_col2 {\n",
              "            background-color:  #fff5f0;\n",
              "            color:  #000000;\n",
              "        }    #T_b9ef2f50_6e81_11ea_a637_0242ac1c0002row13_col3 {\n",
              "            background-color:  #fff5f0;\n",
              "            color:  #000000;\n",
              "        }    #T_b9ef2f50_6e81_11ea_a637_0242ac1c0002row13_col4 {\n",
              "            background-color:  #fff5f0;\n",
              "            color:  #000000;\n",
              "        }    #T_b9ef2f50_6e81_11ea_a637_0242ac1c0002row13_col5 {\n",
              "            background-color:  #fff4ee;\n",
              "            color:  #000000;\n",
              "        }    #T_b9ef2f50_6e81_11ea_a637_0242ac1c0002row14_col1 {\n",
              "            background-color:  #fff5f0;\n",
              "            color:  #000000;\n",
              "        }    #T_b9ef2f50_6e81_11ea_a637_0242ac1c0002row14_col2 {\n",
              "            background-color:  #fff5f0;\n",
              "            color:  #000000;\n",
              "        }    #T_b9ef2f50_6e81_11ea_a637_0242ac1c0002row14_col3 {\n",
              "            background-color:  #fff5f0;\n",
              "            color:  #000000;\n",
              "        }    #T_b9ef2f50_6e81_11ea_a637_0242ac1c0002row14_col4 {\n",
              "            background-color:  #fff5f0;\n",
              "            color:  #000000;\n",
              "        }    #T_b9ef2f50_6e81_11ea_a637_0242ac1c0002row14_col5 {\n",
              "            background-color:  #fff5f0;\n",
              "            color:  #000000;\n",
              "        }    #T_b9ef2f50_6e81_11ea_a637_0242ac1c0002row15_col1 {\n",
              "            background-color:  #fcb296;\n",
              "            color:  #000000;\n",
              "        }    #T_b9ef2f50_6e81_11ea_a637_0242ac1c0002row15_col2 {\n",
              "            background-color:  #fff5f0;\n",
              "            color:  #000000;\n",
              "        }    #T_b9ef2f50_6e81_11ea_a637_0242ac1c0002row15_col3 {\n",
              "            background-color:  #fff5f0;\n",
              "            color:  #000000;\n",
              "        }    #T_b9ef2f50_6e81_11ea_a637_0242ac1c0002row15_col4 {\n",
              "            background-color:  #fb694a;\n",
              "            color:  #000000;\n",
              "        }    #T_b9ef2f50_6e81_11ea_a637_0242ac1c0002row15_col5 {\n",
              "            background-color:  #fcb89e;\n",
              "            color:  #000000;\n",
              "        }    #T_b9ef2f50_6e81_11ea_a637_0242ac1c0002row16_col1 {\n",
              "            background-color:  #fcae92;\n",
              "            color:  #000000;\n",
              "        }    #T_b9ef2f50_6e81_11ea_a637_0242ac1c0002row16_col2 {\n",
              "            background-color:  #fedbcc;\n",
              "            color:  #000000;\n",
              "        }    #T_b9ef2f50_6e81_11ea_a637_0242ac1c0002row16_col3 {\n",
              "            background-color:  #fcb499;\n",
              "            color:  #000000;\n",
              "        }    #T_b9ef2f50_6e81_11ea_a637_0242ac1c0002row16_col4 {\n",
              "            background-color:  #fff5f0;\n",
              "            color:  #000000;\n",
              "        }    #T_b9ef2f50_6e81_11ea_a637_0242ac1c0002row16_col5 {\n",
              "            background-color:  #fcaf93;\n",
              "            color:  #000000;\n",
              "        }    #T_b9ef2f50_6e81_11ea_a637_0242ac1c0002row17_col1 {\n",
              "            background-color:  #fed9c9;\n",
              "            color:  #000000;\n",
              "        }    #T_b9ef2f50_6e81_11ea_a637_0242ac1c0002row17_col2 {\n",
              "            background-color:  #fedbcc;\n",
              "            color:  #000000;\n",
              "        }    #T_b9ef2f50_6e81_11ea_a637_0242ac1c0002row17_col3 {\n",
              "            background-color:  #fee6da;\n",
              "            color:  #000000;\n",
              "        }    #T_b9ef2f50_6e81_11ea_a637_0242ac1c0002row17_col4 {\n",
              "            background-color:  #fff5f0;\n",
              "            color:  #000000;\n",
              "        }    #T_b9ef2f50_6e81_11ea_a637_0242ac1c0002row17_col5 {\n",
              "            background-color:  #fdd7c6;\n",
              "            color:  #000000;\n",
              "        }    #T_b9ef2f50_6e81_11ea_a637_0242ac1c0002row18_col1 {\n",
              "            background-color:  #fcbea5;\n",
              "            color:  #000000;\n",
              "        }    #T_b9ef2f50_6e81_11ea_a637_0242ac1c0002row18_col2 {\n",
              "            background-color:  #d52221;\n",
              "            color:  #f1f1f1;\n",
              "        }    #T_b9ef2f50_6e81_11ea_a637_0242ac1c0002row18_col3 {\n",
              "            background-color:  #fee6da;\n",
              "            color:  #000000;\n",
              "        }    #T_b9ef2f50_6e81_11ea_a637_0242ac1c0002row18_col4 {\n",
              "            background-color:  #fff5f0;\n",
              "            color:  #000000;\n",
              "        }    #T_b9ef2f50_6e81_11ea_a637_0242ac1c0002row18_col5 {\n",
              "            background-color:  #fca689;\n",
              "            color:  #000000;\n",
              "        }    #T_b9ef2f50_6e81_11ea_a637_0242ac1c0002row19_col1 {\n",
              "            background-color:  #ffebe2;\n",
              "            color:  #000000;\n",
              "        }    #T_b9ef2f50_6e81_11ea_a637_0242ac1c0002row19_col2 {\n",
              "            background-color:  #fff5f0;\n",
              "            color:  #000000;\n",
              "        }    #T_b9ef2f50_6e81_11ea_a637_0242ac1c0002row19_col3 {\n",
              "            background-color:  #fff5f0;\n",
              "            color:  #000000;\n",
              "        }    #T_b9ef2f50_6e81_11ea_a637_0242ac1c0002row19_col4 {\n",
              "            background-color:  #fff5f0;\n",
              "            color:  #000000;\n",
              "        }    #T_b9ef2f50_6e81_11ea_a637_0242ac1c0002row19_col5 {\n",
              "            background-color:  #ffece3;\n",
              "            color:  #000000;\n",
              "        }    #T_b9ef2f50_6e81_11ea_a637_0242ac1c0002row20_col1 {\n",
              "            background-color:  #ffebe2;\n",
              "            color:  #000000;\n",
              "        }    #T_b9ef2f50_6e81_11ea_a637_0242ac1c0002row20_col2 {\n",
              "            background-color:  #fff5f0;\n",
              "            color:  #000000;\n",
              "        }    #T_b9ef2f50_6e81_11ea_a637_0242ac1c0002row20_col3 {\n",
              "            background-color:  #fee6da;\n",
              "            color:  #000000;\n",
              "        }    #T_b9ef2f50_6e81_11ea_a637_0242ac1c0002row20_col4 {\n",
              "            background-color:  #fff5f0;\n",
              "            color:  #000000;\n",
              "        }    #T_b9ef2f50_6e81_11ea_a637_0242ac1c0002row20_col5 {\n",
              "            background-color:  #ffece3;\n",
              "            color:  #000000;\n",
              "        }    #T_b9ef2f50_6e81_11ea_a637_0242ac1c0002row21_col1 {\n",
              "            background-color:  #fee1d4;\n",
              "            color:  #000000;\n",
              "        }    #T_b9ef2f50_6e81_11ea_a637_0242ac1c0002row21_col2 {\n",
              "            background-color:  #fff5f0;\n",
              "            color:  #000000;\n",
              "        }    #T_b9ef2f50_6e81_11ea_a637_0242ac1c0002row21_col3 {\n",
              "            background-color:  #fff5f0;\n",
              "            color:  #000000;\n",
              "        }    #T_b9ef2f50_6e81_11ea_a637_0242ac1c0002row21_col4 {\n",
              "            background-color:  #fff5f0;\n",
              "            color:  #000000;\n",
              "        }    #T_b9ef2f50_6e81_11ea_a637_0242ac1c0002row21_col5 {\n",
              "            background-color:  #fee3d6;\n",
              "            color:  #000000;\n",
              "        }    #T_b9ef2f50_6e81_11ea_a637_0242ac1c0002row22_col1 {\n",
              "            background-color:  #fca183;\n",
              "            color:  #000000;\n",
              "        }    #T_b9ef2f50_6e81_11ea_a637_0242ac1c0002row22_col2 {\n",
              "            background-color:  #fee9df;\n",
              "            color:  #000000;\n",
              "        }    #T_b9ef2f50_6e81_11ea_a637_0242ac1c0002row22_col3 {\n",
              "            background-color:  #67000d;\n",
              "            color:  #f1f1f1;\n",
              "        }    #T_b9ef2f50_6e81_11ea_a637_0242ac1c0002row22_col4 {\n",
              "            background-color:  #fff5f0;\n",
              "            color:  #000000;\n",
              "        }    #T_b9ef2f50_6e81_11ea_a637_0242ac1c0002row22_col5 {\n",
              "            background-color:  #fca689;\n",
              "            color:  #000000;\n",
              "        }    #T_b9ef2f50_6e81_11ea_a637_0242ac1c0002row23_col1 {\n",
              "            background-color:  #fff2eb;\n",
              "            color:  #000000;\n",
              "        }    #T_b9ef2f50_6e81_11ea_a637_0242ac1c0002row23_col2 {\n",
              "            background-color:  #fee9df;\n",
              "            color:  #000000;\n",
              "        }    #T_b9ef2f50_6e81_11ea_a637_0242ac1c0002row23_col3 {\n",
              "            background-color:  #fff5f0;\n",
              "            color:  #000000;\n",
              "        }    #T_b9ef2f50_6e81_11ea_a637_0242ac1c0002row23_col4 {\n",
              "            background-color:  #fff5f0;\n",
              "            color:  #000000;\n",
              "        }    #T_b9ef2f50_6e81_11ea_a637_0242ac1c0002row23_col5 {\n",
              "            background-color:  #fff0e9;\n",
              "            color:  #000000;\n",
              "        }    #T_b9ef2f50_6e81_11ea_a637_0242ac1c0002row24_col1 {\n",
              "            background-color:  #fee8dd;\n",
              "            color:  #000000;\n",
              "        }    #T_b9ef2f50_6e81_11ea_a637_0242ac1c0002row24_col2 {\n",
              "            background-color:  #fff5f0;\n",
              "            color:  #000000;\n",
              "        }    #T_b9ef2f50_6e81_11ea_a637_0242ac1c0002row24_col3 {\n",
              "            background-color:  #fff5f0;\n",
              "            color:  #000000;\n",
              "        }    #T_b9ef2f50_6e81_11ea_a637_0242ac1c0002row24_col4 {\n",
              "            background-color:  #fb694a;\n",
              "            color:  #000000;\n",
              "        }    #T_b9ef2f50_6e81_11ea_a637_0242ac1c0002row24_col5 {\n",
              "            background-color:  #fee9df;\n",
              "            color:  #000000;\n",
              "        }</style><table id=\"T_b9ef2f50_6e81_11ea_a637_0242ac1c0002\" ><thead>    <tr>        <th class=\"blank level0\" ></th>        <th class=\"col_heading level0 col0\" >Name of State / UT</th>        <th class=\"col_heading level0 col1\" >Total Confirmed cases (Indian National)</th>        <th class=\"col_heading level0 col2\" >Total Confirmed cases ( Foreign National )</th>        <th class=\"col_heading level0 col3\" >Cured</th>        <th class=\"col_heading level0 col4\" >Death</th>        <th class=\"col_heading level0 col5\" >Total cases</th>    </tr></thead><tbody>\n",
              "                <tr>\n",
              "                        <th id=\"T_b9ef2f50_6e81_11ea_a637_0242ac1c0002level0_row0\" class=\"row_heading level0 row0\" >0</th>\n",
              "                        <td id=\"T_b9ef2f50_6e81_11ea_a637_0242ac1c0002row0_col0\" class=\"data row0 col0\" >Andhra Pradesh</td>\n",
              "                        <td id=\"T_b9ef2f50_6e81_11ea_a637_0242ac1c0002row0_col1\" class=\"data row0 col1\" >9</td>\n",
              "                        <td id=\"T_b9ef2f50_6e81_11ea_a637_0242ac1c0002row0_col2\" class=\"data row0 col2\" >0</td>\n",
              "                        <td id=\"T_b9ef2f50_6e81_11ea_a637_0242ac1c0002row0_col3\" class=\"data row0 col3\" >0</td>\n",
              "                        <td id=\"T_b9ef2f50_6e81_11ea_a637_0242ac1c0002row0_col4\" class=\"data row0 col4\" >0</td>\n",
              "                        <td id=\"T_b9ef2f50_6e81_11ea_a637_0242ac1c0002row0_col5\" class=\"data row0 col5\" >9</td>\n",
              "            </tr>\n",
              "            <tr>\n",
              "                        <th id=\"T_b9ef2f50_6e81_11ea_a637_0242ac1c0002level0_row1\" class=\"row_heading level0 row1\" >1</th>\n",
              "                        <td id=\"T_b9ef2f50_6e81_11ea_a637_0242ac1c0002row1_col0\" class=\"data row1 col0\" >Bihar</td>\n",
              "                        <td id=\"T_b9ef2f50_6e81_11ea_a637_0242ac1c0002row1_col1\" class=\"data row1 col1\" >3</td>\n",
              "                        <td id=\"T_b9ef2f50_6e81_11ea_a637_0242ac1c0002row1_col2\" class=\"data row1 col2\" >0</td>\n",
              "                        <td id=\"T_b9ef2f50_6e81_11ea_a637_0242ac1c0002row1_col3\" class=\"data row1 col3\" >0</td>\n",
              "                        <td id=\"T_b9ef2f50_6e81_11ea_a637_0242ac1c0002row1_col4\" class=\"data row1 col4\" >1</td>\n",
              "                        <td id=\"T_b9ef2f50_6e81_11ea_a637_0242ac1c0002row1_col5\" class=\"data row1 col5\" >3</td>\n",
              "            </tr>\n",
              "            <tr>\n",
              "                        <th id=\"T_b9ef2f50_6e81_11ea_a637_0242ac1c0002level0_row2\" class=\"row_heading level0 row2\" >2</th>\n",
              "                        <td id=\"T_b9ef2f50_6e81_11ea_a637_0242ac1c0002row2_col0\" class=\"data row2 col0\" >Chhattisgarh</td>\n",
              "                        <td id=\"T_b9ef2f50_6e81_11ea_a637_0242ac1c0002row2_col1\" class=\"data row2 col1\" >1</td>\n",
              "                        <td id=\"T_b9ef2f50_6e81_11ea_a637_0242ac1c0002row2_col2\" class=\"data row2 col2\" >0</td>\n",
              "                        <td id=\"T_b9ef2f50_6e81_11ea_a637_0242ac1c0002row2_col3\" class=\"data row2 col3\" >0</td>\n",
              "                        <td id=\"T_b9ef2f50_6e81_11ea_a637_0242ac1c0002row2_col4\" class=\"data row2 col4\" >0</td>\n",
              "                        <td id=\"T_b9ef2f50_6e81_11ea_a637_0242ac1c0002row2_col5\" class=\"data row2 col5\" >1</td>\n",
              "            </tr>\n",
              "            <tr>\n",
              "                        <th id=\"T_b9ef2f50_6e81_11ea_a637_0242ac1c0002level0_row3\" class=\"row_heading level0 row3\" >3</th>\n",
              "                        <td id=\"T_b9ef2f50_6e81_11ea_a637_0242ac1c0002row3_col0\" class=\"data row3 col0\" >Delhi</td>\n",
              "                        <td id=\"T_b9ef2f50_6e81_11ea_a637_0242ac1c0002row3_col1\" class=\"data row3 col1\" >30</td>\n",
              "                        <td id=\"T_b9ef2f50_6e81_11ea_a637_0242ac1c0002row3_col2\" class=\"data row3 col2\" >1</td>\n",
              "                        <td id=\"T_b9ef2f50_6e81_11ea_a637_0242ac1c0002row3_col3\" class=\"data row3 col3\" >6</td>\n",
              "                        <td id=\"T_b9ef2f50_6e81_11ea_a637_0242ac1c0002row3_col4\" class=\"data row3 col4\" >1</td>\n",
              "                        <td id=\"T_b9ef2f50_6e81_11ea_a637_0242ac1c0002row3_col5\" class=\"data row3 col5\" >31</td>\n",
              "            </tr>\n",
              "            <tr>\n",
              "                        <th id=\"T_b9ef2f50_6e81_11ea_a637_0242ac1c0002level0_row4\" class=\"row_heading level0 row4\" >4</th>\n",
              "                        <td id=\"T_b9ef2f50_6e81_11ea_a637_0242ac1c0002row4_col0\" class=\"data row4 col0\" >Gujarat</td>\n",
              "                        <td id=\"T_b9ef2f50_6e81_11ea_a637_0242ac1c0002row4_col1\" class=\"data row4 col1\" >32</td>\n",
              "                        <td id=\"T_b9ef2f50_6e81_11ea_a637_0242ac1c0002row4_col2\" class=\"data row4 col2\" >1</td>\n",
              "                        <td id=\"T_b9ef2f50_6e81_11ea_a637_0242ac1c0002row4_col3\" class=\"data row4 col3\" >0</td>\n",
              "                        <td id=\"T_b9ef2f50_6e81_11ea_a637_0242ac1c0002row4_col4\" class=\"data row4 col4\" >1</td>\n",
              "                        <td id=\"T_b9ef2f50_6e81_11ea_a637_0242ac1c0002row4_col5\" class=\"data row4 col5\" >33</td>\n",
              "            </tr>\n",
              "            <tr>\n",
              "                        <th id=\"T_b9ef2f50_6e81_11ea_a637_0242ac1c0002level0_row5\" class=\"row_heading level0 row5\" >5</th>\n",
              "                        <td id=\"T_b9ef2f50_6e81_11ea_a637_0242ac1c0002row5_col0\" class=\"data row5 col0\" >Haryana</td>\n",
              "                        <td id=\"T_b9ef2f50_6e81_11ea_a637_0242ac1c0002row5_col1\" class=\"data row5 col1\" >14</td>\n",
              "                        <td id=\"T_b9ef2f50_6e81_11ea_a637_0242ac1c0002row5_col2\" class=\"data row5 col2\" >14</td>\n",
              "                        <td id=\"T_b9ef2f50_6e81_11ea_a637_0242ac1c0002row5_col3\" class=\"data row5 col3\" >11</td>\n",
              "                        <td id=\"T_b9ef2f50_6e81_11ea_a637_0242ac1c0002row5_col4\" class=\"data row5 col4\" >0</td>\n",
              "                        <td id=\"T_b9ef2f50_6e81_11ea_a637_0242ac1c0002row5_col5\" class=\"data row5 col5\" >28</td>\n",
              "            </tr>\n",
              "            <tr>\n",
              "                        <th id=\"T_b9ef2f50_6e81_11ea_a637_0242ac1c0002level0_row6\" class=\"row_heading level0 row6\" >6</th>\n",
              "                        <td id=\"T_b9ef2f50_6e81_11ea_a637_0242ac1c0002row6_col0\" class=\"data row6 col0\" >Himachal Pradesh</td>\n",
              "                        <td id=\"T_b9ef2f50_6e81_11ea_a637_0242ac1c0002row6_col1\" class=\"data row6 col1\" >3</td>\n",
              "                        <td id=\"T_b9ef2f50_6e81_11ea_a637_0242ac1c0002row6_col2\" class=\"data row6 col2\" >0</td>\n",
              "                        <td id=\"T_b9ef2f50_6e81_11ea_a637_0242ac1c0002row6_col3\" class=\"data row6 col3\" >0</td>\n",
              "                        <td id=\"T_b9ef2f50_6e81_11ea_a637_0242ac1c0002row6_col4\" class=\"data row6 col4\" >1</td>\n",
              "                        <td id=\"T_b9ef2f50_6e81_11ea_a637_0242ac1c0002row6_col5\" class=\"data row6 col5\" >3</td>\n",
              "            </tr>\n",
              "            <tr>\n",
              "                        <th id=\"T_b9ef2f50_6e81_11ea_a637_0242ac1c0002level0_row7\" class=\"row_heading level0 row7\" >7</th>\n",
              "                        <td id=\"T_b9ef2f50_6e81_11ea_a637_0242ac1c0002row7_col0\" class=\"data row7 col0\" >Karnataka</td>\n",
              "                        <td id=\"T_b9ef2f50_6e81_11ea_a637_0242ac1c0002row7_col1\" class=\"data row7 col1\" >41</td>\n",
              "                        <td id=\"T_b9ef2f50_6e81_11ea_a637_0242ac1c0002row7_col2\" class=\"data row7 col2\" >0</td>\n",
              "                        <td id=\"T_b9ef2f50_6e81_11ea_a637_0242ac1c0002row7_col3\" class=\"data row7 col3\" >3</td>\n",
              "                        <td id=\"T_b9ef2f50_6e81_11ea_a637_0242ac1c0002row7_col4\" class=\"data row7 col4\" >1</td>\n",
              "                        <td id=\"T_b9ef2f50_6e81_11ea_a637_0242ac1c0002row7_col5\" class=\"data row7 col5\" >41</td>\n",
              "            </tr>\n",
              "            <tr>\n",
              "                        <th id=\"T_b9ef2f50_6e81_11ea_a637_0242ac1c0002level0_row8\" class=\"row_heading level0 row8\" >8</th>\n",
              "                        <td id=\"T_b9ef2f50_6e81_11ea_a637_0242ac1c0002row8_col0\" class=\"data row8 col0\" >Kerala</td>\n",
              "                        <td id=\"T_b9ef2f50_6e81_11ea_a637_0242ac1c0002row8_col1\" class=\"data row8 col1\" >101</td>\n",
              "                        <td id=\"T_b9ef2f50_6e81_11ea_a637_0242ac1c0002row8_col2\" class=\"data row8 col2\" >8</td>\n",
              "                        <td id=\"T_b9ef2f50_6e81_11ea_a637_0242ac1c0002row8_col3\" class=\"data row8 col3\" >4</td>\n",
              "                        <td id=\"T_b9ef2f50_6e81_11ea_a637_0242ac1c0002row8_col4\" class=\"data row8 col4\" >0</td>\n",
              "                        <td id=\"T_b9ef2f50_6e81_11ea_a637_0242ac1c0002row8_col5\" class=\"data row8 col5\" >109</td>\n",
              "            </tr>\n",
              "            <tr>\n",
              "                        <th id=\"T_b9ef2f50_6e81_11ea_a637_0242ac1c0002level0_row9\" class=\"row_heading level0 row9\" >9</th>\n",
              "                        <td id=\"T_b9ef2f50_6e81_11ea_a637_0242ac1c0002row9_col0\" class=\"data row9 col0\" >Madhya Pradesh</td>\n",
              "                        <td id=\"T_b9ef2f50_6e81_11ea_a637_0242ac1c0002row9_col1\" class=\"data row9 col1\" >9</td>\n",
              "                        <td id=\"T_b9ef2f50_6e81_11ea_a637_0242ac1c0002row9_col2\" class=\"data row9 col2\" >0</td>\n",
              "                        <td id=\"T_b9ef2f50_6e81_11ea_a637_0242ac1c0002row9_col3\" class=\"data row9 col3\" >0</td>\n",
              "                        <td id=\"T_b9ef2f50_6e81_11ea_a637_0242ac1c0002row9_col4\" class=\"data row9 col4\" >0</td>\n",
              "                        <td id=\"T_b9ef2f50_6e81_11ea_a637_0242ac1c0002row9_col5\" class=\"data row9 col5\" >9</td>\n",
              "            </tr>\n",
              "            <tr>\n",
              "                        <th id=\"T_b9ef2f50_6e81_11ea_a637_0242ac1c0002level0_row10\" class=\"row_heading level0 row10\" >10</th>\n",
              "                        <td id=\"T_b9ef2f50_6e81_11ea_a637_0242ac1c0002row10_col0\" class=\"data row10 col0\" >Maharashtra</td>\n",
              "                        <td id=\"T_b9ef2f50_6e81_11ea_a637_0242ac1c0002row10_col1\" class=\"data row10 col1\" >98</td>\n",
              "                        <td id=\"T_b9ef2f50_6e81_11ea_a637_0242ac1c0002row10_col2\" class=\"data row10 col2\" >3</td>\n",
              "                        <td id=\"T_b9ef2f50_6e81_11ea_a637_0242ac1c0002row10_col3\" class=\"data row10 col3\" >0</td>\n",
              "                        <td id=\"T_b9ef2f50_6e81_11ea_a637_0242ac1c0002row10_col4\" class=\"data row10 col4\" >2</td>\n",
              "                        <td id=\"T_b9ef2f50_6e81_11ea_a637_0242ac1c0002row10_col5\" class=\"data row10 col5\" >101</td>\n",
              "            </tr>\n",
              "            <tr>\n",
              "                        <th id=\"T_b9ef2f50_6e81_11ea_a637_0242ac1c0002level0_row11\" class=\"row_heading level0 row11\" >11</th>\n",
              "                        <td id=\"T_b9ef2f50_6e81_11ea_a637_0242ac1c0002row11_col0\" class=\"data row11 col0\" >Manipur</td>\n",
              "                        <td id=\"T_b9ef2f50_6e81_11ea_a637_0242ac1c0002row11_col1\" class=\"data row11 col1\" >1</td>\n",
              "                        <td id=\"T_b9ef2f50_6e81_11ea_a637_0242ac1c0002row11_col2\" class=\"data row11 col2\" >0</td>\n",
              "                        <td id=\"T_b9ef2f50_6e81_11ea_a637_0242ac1c0002row11_col3\" class=\"data row11 col3\" >0</td>\n",
              "                        <td id=\"T_b9ef2f50_6e81_11ea_a637_0242ac1c0002row11_col4\" class=\"data row11 col4\" >0</td>\n",
              "                        <td id=\"T_b9ef2f50_6e81_11ea_a637_0242ac1c0002row11_col5\" class=\"data row11 col5\" >1</td>\n",
              "            </tr>\n",
              "            <tr>\n",
              "                        <th id=\"T_b9ef2f50_6e81_11ea_a637_0242ac1c0002level0_row12\" class=\"row_heading level0 row12\" >12</th>\n",
              "                        <td id=\"T_b9ef2f50_6e81_11ea_a637_0242ac1c0002row12_col0\" class=\"data row12 col0\" >Mizoram</td>\n",
              "                        <td id=\"T_b9ef2f50_6e81_11ea_a637_0242ac1c0002row12_col1\" class=\"data row12 col1\" >1</td>\n",
              "                        <td id=\"T_b9ef2f50_6e81_11ea_a637_0242ac1c0002row12_col2\" class=\"data row12 col2\" >0</td>\n",
              "                        <td id=\"T_b9ef2f50_6e81_11ea_a637_0242ac1c0002row12_col3\" class=\"data row12 col3\" >0</td>\n",
              "                        <td id=\"T_b9ef2f50_6e81_11ea_a637_0242ac1c0002row12_col4\" class=\"data row12 col4\" >0</td>\n",
              "                        <td id=\"T_b9ef2f50_6e81_11ea_a637_0242ac1c0002row12_col5\" class=\"data row12 col5\" >1</td>\n",
              "            </tr>\n",
              "            <tr>\n",
              "                        <th id=\"T_b9ef2f50_6e81_11ea_a637_0242ac1c0002level0_row13\" class=\"row_heading level0 row13\" >13</th>\n",
              "                        <td id=\"T_b9ef2f50_6e81_11ea_a637_0242ac1c0002row13_col0\" class=\"data row13 col0\" >Odisha</td>\n",
              "                        <td id=\"T_b9ef2f50_6e81_11ea_a637_0242ac1c0002row13_col1\" class=\"data row13 col1\" >2</td>\n",
              "                        <td id=\"T_b9ef2f50_6e81_11ea_a637_0242ac1c0002row13_col2\" class=\"data row13 col2\" >0</td>\n",
              "                        <td id=\"T_b9ef2f50_6e81_11ea_a637_0242ac1c0002row13_col3\" class=\"data row13 col3\" >0</td>\n",
              "                        <td id=\"T_b9ef2f50_6e81_11ea_a637_0242ac1c0002row13_col4\" class=\"data row13 col4\" >0</td>\n",
              "                        <td id=\"T_b9ef2f50_6e81_11ea_a637_0242ac1c0002row13_col5\" class=\"data row13 col5\" >2</td>\n",
              "            </tr>\n",
              "            <tr>\n",
              "                        <th id=\"T_b9ef2f50_6e81_11ea_a637_0242ac1c0002level0_row14\" class=\"row_heading level0 row14\" >14</th>\n",
              "                        <td id=\"T_b9ef2f50_6e81_11ea_a637_0242ac1c0002row14_col0\" class=\"data row14 col0\" >Puducherry</td>\n",
              "                        <td id=\"T_b9ef2f50_6e81_11ea_a637_0242ac1c0002row14_col1\" class=\"data row14 col1\" >1</td>\n",
              "                        <td id=\"T_b9ef2f50_6e81_11ea_a637_0242ac1c0002row14_col2\" class=\"data row14 col2\" >0</td>\n",
              "                        <td id=\"T_b9ef2f50_6e81_11ea_a637_0242ac1c0002row14_col3\" class=\"data row14 col3\" >0</td>\n",
              "                        <td id=\"T_b9ef2f50_6e81_11ea_a637_0242ac1c0002row14_col4\" class=\"data row14 col4\" >0</td>\n",
              "                        <td id=\"T_b9ef2f50_6e81_11ea_a637_0242ac1c0002row14_col5\" class=\"data row14 col5\" >1</td>\n",
              "            </tr>\n",
              "            <tr>\n",
              "                        <th id=\"T_b9ef2f50_6e81_11ea_a637_0242ac1c0002level0_row15\" class=\"row_heading level0 row15\" >15</th>\n",
              "                        <td id=\"T_b9ef2f50_6e81_11ea_a637_0242ac1c0002row15_col0\" class=\"data row15 col0\" >Punjab</td>\n",
              "                        <td id=\"T_b9ef2f50_6e81_11ea_a637_0242ac1c0002row15_col1\" class=\"data row15 col1\" >29</td>\n",
              "                        <td id=\"T_b9ef2f50_6e81_11ea_a637_0242ac1c0002row15_col2\" class=\"data row15 col2\" >0</td>\n",
              "                        <td id=\"T_b9ef2f50_6e81_11ea_a637_0242ac1c0002row15_col3\" class=\"data row15 col3\" >0</td>\n",
              "                        <td id=\"T_b9ef2f50_6e81_11ea_a637_0242ac1c0002row15_col4\" class=\"data row15 col4\" >1</td>\n",
              "                        <td id=\"T_b9ef2f50_6e81_11ea_a637_0242ac1c0002row15_col5\" class=\"data row15 col5\" >29</td>\n",
              "            </tr>\n",
              "            <tr>\n",
              "                        <th id=\"T_b9ef2f50_6e81_11ea_a637_0242ac1c0002level0_row16\" class=\"row_heading level0 row16\" >16</th>\n",
              "                        <td id=\"T_b9ef2f50_6e81_11ea_a637_0242ac1c0002row16_col0\" class=\"data row16 col0\" >Rajasthan</td>\n",
              "                        <td id=\"T_b9ef2f50_6e81_11ea_a637_0242ac1c0002row16_col1\" class=\"data row16 col1\" >30</td>\n",
              "                        <td id=\"T_b9ef2f50_6e81_11ea_a637_0242ac1c0002row16_col2\" class=\"data row16 col2\" >2</td>\n",
              "                        <td id=\"T_b9ef2f50_6e81_11ea_a637_0242ac1c0002row16_col3\" class=\"data row16 col3\" >3</td>\n",
              "                        <td id=\"T_b9ef2f50_6e81_11ea_a637_0242ac1c0002row16_col4\" class=\"data row16 col4\" >0</td>\n",
              "                        <td id=\"T_b9ef2f50_6e81_11ea_a637_0242ac1c0002row16_col5\" class=\"data row16 col5\" >32</td>\n",
              "            </tr>\n",
              "            <tr>\n",
              "                        <th id=\"T_b9ef2f50_6e81_11ea_a637_0242ac1c0002level0_row17\" class=\"row_heading level0 row17\" >17</th>\n",
              "                        <td id=\"T_b9ef2f50_6e81_11ea_a637_0242ac1c0002row17_col0\" class=\"data row17 col0\" >Tamil Nadu</td>\n",
              "                        <td id=\"T_b9ef2f50_6e81_11ea_a637_0242ac1c0002row17_col1\" class=\"data row17 col1\" >16</td>\n",
              "                        <td id=\"T_b9ef2f50_6e81_11ea_a637_0242ac1c0002row17_col2\" class=\"data row17 col2\" >2</td>\n",
              "                        <td id=\"T_b9ef2f50_6e81_11ea_a637_0242ac1c0002row17_col3\" class=\"data row17 col3\" >1</td>\n",
              "                        <td id=\"T_b9ef2f50_6e81_11ea_a637_0242ac1c0002row17_col4\" class=\"data row17 col4\" >0</td>\n",
              "                        <td id=\"T_b9ef2f50_6e81_11ea_a637_0242ac1c0002row17_col5\" class=\"data row17 col5\" >18</td>\n",
              "            </tr>\n",
              "            <tr>\n",
              "                        <th id=\"T_b9ef2f50_6e81_11ea_a637_0242ac1c0002level0_row18\" class=\"row_heading level0 row18\" >18</th>\n",
              "                        <td id=\"T_b9ef2f50_6e81_11ea_a637_0242ac1c0002row18_col0\" class=\"data row18 col0\" >Telengana</td>\n",
              "                        <td id=\"T_b9ef2f50_6e81_11ea_a637_0242ac1c0002row18_col1\" class=\"data row18 col1\" >25</td>\n",
              "                        <td id=\"T_b9ef2f50_6e81_11ea_a637_0242ac1c0002row18_col2\" class=\"data row18 col2\" >10</td>\n",
              "                        <td id=\"T_b9ef2f50_6e81_11ea_a637_0242ac1c0002row18_col3\" class=\"data row18 col3\" >1</td>\n",
              "                        <td id=\"T_b9ef2f50_6e81_11ea_a637_0242ac1c0002row18_col4\" class=\"data row18 col4\" >0</td>\n",
              "                        <td id=\"T_b9ef2f50_6e81_11ea_a637_0242ac1c0002row18_col5\" class=\"data row18 col5\" >35</td>\n",
              "            </tr>\n",
              "            <tr>\n",
              "                        <th id=\"T_b9ef2f50_6e81_11ea_a637_0242ac1c0002level0_row19\" class=\"row_heading level0 row19\" >19</th>\n",
              "                        <td id=\"T_b9ef2f50_6e81_11ea_a637_0242ac1c0002row19_col0\" class=\"data row19 col0\" >Chandigarh</td>\n",
              "                        <td id=\"T_b9ef2f50_6e81_11ea_a637_0242ac1c0002row19_col1\" class=\"data row19 col1\" >7</td>\n",
              "                        <td id=\"T_b9ef2f50_6e81_11ea_a637_0242ac1c0002row19_col2\" class=\"data row19 col2\" >0</td>\n",
              "                        <td id=\"T_b9ef2f50_6e81_11ea_a637_0242ac1c0002row19_col3\" class=\"data row19 col3\" >0</td>\n",
              "                        <td id=\"T_b9ef2f50_6e81_11ea_a637_0242ac1c0002row19_col4\" class=\"data row19 col4\" >0</td>\n",
              "                        <td id=\"T_b9ef2f50_6e81_11ea_a637_0242ac1c0002row19_col5\" class=\"data row19 col5\" >7</td>\n",
              "            </tr>\n",
              "            <tr>\n",
              "                        <th id=\"T_b9ef2f50_6e81_11ea_a637_0242ac1c0002level0_row20\" class=\"row_heading level0 row20\" >20</th>\n",
              "                        <td id=\"T_b9ef2f50_6e81_11ea_a637_0242ac1c0002row20_col0\" class=\"data row20 col0\" >Jammu and Kashmir</td>\n",
              "                        <td id=\"T_b9ef2f50_6e81_11ea_a637_0242ac1c0002row20_col1\" class=\"data row20 col1\" >7</td>\n",
              "                        <td id=\"T_b9ef2f50_6e81_11ea_a637_0242ac1c0002row20_col2\" class=\"data row20 col2\" >0</td>\n",
              "                        <td id=\"T_b9ef2f50_6e81_11ea_a637_0242ac1c0002row20_col3\" class=\"data row20 col3\" >1</td>\n",
              "                        <td id=\"T_b9ef2f50_6e81_11ea_a637_0242ac1c0002row20_col4\" class=\"data row20 col4\" >0</td>\n",
              "                        <td id=\"T_b9ef2f50_6e81_11ea_a637_0242ac1c0002row20_col5\" class=\"data row20 col5\" >7</td>\n",
              "            </tr>\n",
              "            <tr>\n",
              "                        <th id=\"T_b9ef2f50_6e81_11ea_a637_0242ac1c0002level0_row21\" class=\"row_heading level0 row21\" >21</th>\n",
              "                        <td id=\"T_b9ef2f50_6e81_11ea_a637_0242ac1c0002row21_col0\" class=\"data row21 col0\" >Ladakh</td>\n",
              "                        <td id=\"T_b9ef2f50_6e81_11ea_a637_0242ac1c0002row21_col1\" class=\"data row21 col1\" >13</td>\n",
              "                        <td id=\"T_b9ef2f50_6e81_11ea_a637_0242ac1c0002row21_col2\" class=\"data row21 col2\" >0</td>\n",
              "                        <td id=\"T_b9ef2f50_6e81_11ea_a637_0242ac1c0002row21_col3\" class=\"data row21 col3\" >0</td>\n",
              "                        <td id=\"T_b9ef2f50_6e81_11ea_a637_0242ac1c0002row21_col4\" class=\"data row21 col4\" >0</td>\n",
              "                        <td id=\"T_b9ef2f50_6e81_11ea_a637_0242ac1c0002row21_col5\" class=\"data row21 col5\" >13</td>\n",
              "            </tr>\n",
              "            <tr>\n",
              "                        <th id=\"T_b9ef2f50_6e81_11ea_a637_0242ac1c0002level0_row22\" class=\"row_heading level0 row22\" >22</th>\n",
              "                        <td id=\"T_b9ef2f50_6e81_11ea_a637_0242ac1c0002row22_col0\" class=\"data row22 col0\" >Uttar Pradesh</td>\n",
              "                        <td id=\"T_b9ef2f50_6e81_11ea_a637_0242ac1c0002row22_col1\" class=\"data row22 col1\" >34</td>\n",
              "                        <td id=\"T_b9ef2f50_6e81_11ea_a637_0242ac1c0002row22_col2\" class=\"data row22 col2\" >1</td>\n",
              "                        <td id=\"T_b9ef2f50_6e81_11ea_a637_0242ac1c0002row22_col3\" class=\"data row22 col3\" >11</td>\n",
              "                        <td id=\"T_b9ef2f50_6e81_11ea_a637_0242ac1c0002row22_col4\" class=\"data row22 col4\" >0</td>\n",
              "                        <td id=\"T_b9ef2f50_6e81_11ea_a637_0242ac1c0002row22_col5\" class=\"data row22 col5\" >35</td>\n",
              "            </tr>\n",
              "            <tr>\n",
              "                        <th id=\"T_b9ef2f50_6e81_11ea_a637_0242ac1c0002level0_row23\" class=\"row_heading level0 row23\" >23</th>\n",
              "                        <td id=\"T_b9ef2f50_6e81_11ea_a637_0242ac1c0002row23_col0\" class=\"data row23 col0\" >Uttarakhand</td>\n",
              "                        <td id=\"T_b9ef2f50_6e81_11ea_a637_0242ac1c0002row23_col1\" class=\"data row23 col1\" >3</td>\n",
              "                        <td id=\"T_b9ef2f50_6e81_11ea_a637_0242ac1c0002row23_col2\" class=\"data row23 col2\" >1</td>\n",
              "                        <td id=\"T_b9ef2f50_6e81_11ea_a637_0242ac1c0002row23_col3\" class=\"data row23 col3\" >0</td>\n",
              "                        <td id=\"T_b9ef2f50_6e81_11ea_a637_0242ac1c0002row23_col4\" class=\"data row23 col4\" >0</td>\n",
              "                        <td id=\"T_b9ef2f50_6e81_11ea_a637_0242ac1c0002row23_col5\" class=\"data row23 col5\" >4</td>\n",
              "            </tr>\n",
              "            <tr>\n",
              "                        <th id=\"T_b9ef2f50_6e81_11ea_a637_0242ac1c0002level0_row24\" class=\"row_heading level0 row24\" >24</th>\n",
              "                        <td id=\"T_b9ef2f50_6e81_11ea_a637_0242ac1c0002row24_col0\" class=\"data row24 col0\" >West Bengal</td>\n",
              "                        <td id=\"T_b9ef2f50_6e81_11ea_a637_0242ac1c0002row24_col1\" class=\"data row24 col1\" >9</td>\n",
              "                        <td id=\"T_b9ef2f50_6e81_11ea_a637_0242ac1c0002row24_col2\" class=\"data row24 col2\" >0</td>\n",
              "                        <td id=\"T_b9ef2f50_6e81_11ea_a637_0242ac1c0002row24_col3\" class=\"data row24 col3\" >0</td>\n",
              "                        <td id=\"T_b9ef2f50_6e81_11ea_a637_0242ac1c0002row24_col4\" class=\"data row24 col4\" >1</td>\n",
              "                        <td id=\"T_b9ef2f50_6e81_11ea_a637_0242ac1c0002row24_col5\" class=\"data row24 col5\" >9</td>\n",
              "            </tr>\n",
              "    </tbody></table>"
            ],
            "text/plain": [
              "<pandas.io.formats.style.Styler at 0x7f50c24f6208>"
            ]
          },
          "metadata": {
            "tags": []
          },
          "execution_count": 8
        }
      ]
    },
    {
      "cell_type": "markdown",
      "metadata": {
        "id": "XAYwGG6ljgcN",
        "colab_type": "text"
      },
      "source": [
        "**Visualization Inference:** \n",
        "* Manipur and Mizoram reports thier first case. \n",
        "* Kerela has crossed Maharashtra in terms of highest number of confirmed cases.\n",
        "* Haryana and Telengana has the highest count of confirmed Foreign National count.\n",
        "* Till 25th of March 9 people have died in India\n",
        "* Kerala, Maharashtra, and karnataka are currently TOP 3 states with maximum number of confirmed cases"
      ]
    },
    {
      "cell_type": "markdown",
      "metadata": {
        "id": "4imKOeZFdhDy",
        "colab_type": "text"
      },
      "source": [
        "## 1.3 Number of Active COVID-19 cases in affected State/Union Territories   "
      ]
    },
    {
      "cell_type": "code",
      "metadata": {
        "_kg_hide-input": true,
        "_kg_hide-output": false,
        "id": "GPBIP4-mdhD6",
        "colab_type": "code",
        "outputId": "c3b88136-a746-43d6-d2b5-34544c3ce816",
        "colab": {
          "base_uri": "https://localhost:8080/",
          "height": 603
        }
      },
      "source": [
        "#Total Active  is the Total cases - (Number of death + Cured)\n",
        "df['Total Active'] = df['Total cases'] - (df['Death'] + df['Cured'])\n",
        "total_active = df['Total Active'].sum()\n",
        "print('Total number of active COVID 2019 cases across India:', total_active)\n",
        "Tot_Cases = df.groupby('Name of State / UT')['Total Active'].sum().sort_values(ascending=False).to_frame()\n",
        "Tot_Cases.style.background_gradient(cmap='Reds')"
      ],
      "execution_count": 9,
      "outputs": [
        {
          "output_type": "stream",
          "text": [
            "Total number of active COVID 2019 cases across India: 512\n"
          ],
          "name": "stdout"
        },
        {
          "output_type": "execute_result",
          "data": {
            "text/html": [
              "<style  type=\"text/css\" >\n",
              "    #T_0b1e3164_6e82_11ea_a637_0242ac1c0002row0_col0 {\n",
              "            background-color:  #67000d;\n",
              "            color:  #f1f1f1;\n",
              "        }    #T_0b1e3164_6e82_11ea_a637_0242ac1c0002row1_col0 {\n",
              "            background-color:  #820711;\n",
              "            color:  #f1f1f1;\n",
              "        }    #T_0b1e3164_6e82_11ea_a637_0242ac1c0002row2_col0 {\n",
              "            background-color:  #fc9c7d;\n",
              "            color:  #000000;\n",
              "        }    #T_0b1e3164_6e82_11ea_a637_0242ac1c0002row3_col0 {\n",
              "            background-color:  #fca588;\n",
              "            color:  #000000;\n",
              "        }    #T_0b1e3164_6e82_11ea_a637_0242ac1c0002row4_col0 {\n",
              "            background-color:  #fcab8f;\n",
              "            color:  #000000;\n",
              "        }    #T_0b1e3164_6e82_11ea_a637_0242ac1c0002row5_col0 {\n",
              "            background-color:  #fcb69b;\n",
              "            color:  #000000;\n",
              "        }    #T_0b1e3164_6e82_11ea_a637_0242ac1c0002row6_col0 {\n",
              "            background-color:  #fcb89e;\n",
              "            color:  #000000;\n",
              "        }    #T_0b1e3164_6e82_11ea_a637_0242ac1c0002row7_col0 {\n",
              "            background-color:  #fcc4ad;\n",
              "            color:  #000000;\n",
              "        }    #T_0b1e3164_6e82_11ea_a637_0242ac1c0002row8_col0 {\n",
              "            background-color:  #fcc4ad;\n",
              "            color:  #000000;\n",
              "        }    #T_0b1e3164_6e82_11ea_a637_0242ac1c0002row9_col0 {\n",
              "            background-color:  #fed8c7;\n",
              "            color:  #000000;\n",
              "        }    #T_0b1e3164_6e82_11ea_a637_0242ac1c0002row10_col0 {\n",
              "            background-color:  #fed8c7;\n",
              "            color:  #000000;\n",
              "        }    #T_0b1e3164_6e82_11ea_a637_0242ac1c0002row11_col0 {\n",
              "            background-color:  #fee2d5;\n",
              "            color:  #000000;\n",
              "        }    #T_0b1e3164_6e82_11ea_a637_0242ac1c0002row12_col0 {\n",
              "            background-color:  #fee8de;\n",
              "            color:  #000000;\n",
              "        }    #T_0b1e3164_6e82_11ea_a637_0242ac1c0002row13_col0 {\n",
              "            background-color:  #fee8de;\n",
              "            color:  #000000;\n",
              "        }    #T_0b1e3164_6e82_11ea_a637_0242ac1c0002row14_col0 {\n",
              "            background-color:  #feeae0;\n",
              "            color:  #000000;\n",
              "        }    #T_0b1e3164_6e82_11ea_a637_0242ac1c0002row15_col0 {\n",
              "            background-color:  #ffece3;\n",
              "            color:  #000000;\n",
              "        }    #T_0b1e3164_6e82_11ea_a637_0242ac1c0002row16_col0 {\n",
              "            background-color:  #ffede5;\n",
              "            color:  #000000;\n",
              "        }    #T_0b1e3164_6e82_11ea_a637_0242ac1c0002row17_col0 {\n",
              "            background-color:  #fff0e9;\n",
              "            color:  #000000;\n",
              "        }    #T_0b1e3164_6e82_11ea_a637_0242ac1c0002row18_col0 {\n",
              "            background-color:  #fff4ee;\n",
              "            color:  #000000;\n",
              "        }    #T_0b1e3164_6e82_11ea_a637_0242ac1c0002row19_col0 {\n",
              "            background-color:  #fff4ee;\n",
              "            color:  #000000;\n",
              "        }    #T_0b1e3164_6e82_11ea_a637_0242ac1c0002row20_col0 {\n",
              "            background-color:  #fff4ee;\n",
              "            color:  #000000;\n",
              "        }    #T_0b1e3164_6e82_11ea_a637_0242ac1c0002row21_col0 {\n",
              "            background-color:  #fff5f0;\n",
              "            color:  #000000;\n",
              "        }    #T_0b1e3164_6e82_11ea_a637_0242ac1c0002row22_col0 {\n",
              "            background-color:  #fff5f0;\n",
              "            color:  #000000;\n",
              "        }    #T_0b1e3164_6e82_11ea_a637_0242ac1c0002row23_col0 {\n",
              "            background-color:  #fff5f0;\n",
              "            color:  #000000;\n",
              "        }    #T_0b1e3164_6e82_11ea_a637_0242ac1c0002row24_col0 {\n",
              "            background-color:  #fff5f0;\n",
              "            color:  #000000;\n",
              "        }</style><table id=\"T_0b1e3164_6e82_11ea_a637_0242ac1c0002\" ><thead>    <tr>        <th class=\"blank level0\" ></th>        <th class=\"col_heading level0 col0\" >Total Active</th>    </tr>    <tr>        <th class=\"index_name level0\" >Name of State / UT</th>        <th class=\"blank\" ></th>    </tr></thead><tbody>\n",
              "                <tr>\n",
              "                        <th id=\"T_0b1e3164_6e82_11ea_a637_0242ac1c0002level0_row0\" class=\"row_heading level0 row0\" >Kerala</th>\n",
              "                        <td id=\"T_0b1e3164_6e82_11ea_a637_0242ac1c0002row0_col0\" class=\"data row0 col0\" >105</td>\n",
              "            </tr>\n",
              "            <tr>\n",
              "                        <th id=\"T_0b1e3164_6e82_11ea_a637_0242ac1c0002level0_row1\" class=\"row_heading level0 row1\" >Maharashtra</th>\n",
              "                        <td id=\"T_0b1e3164_6e82_11ea_a637_0242ac1c0002row1_col0\" class=\"data row1 col0\" >99</td>\n",
              "            </tr>\n",
              "            <tr>\n",
              "                        <th id=\"T_0b1e3164_6e82_11ea_a637_0242ac1c0002level0_row2\" class=\"row_heading level0 row2\" >Karnataka</th>\n",
              "                        <td id=\"T_0b1e3164_6e82_11ea_a637_0242ac1c0002row2_col0\" class=\"data row2 col0\" >37</td>\n",
              "            </tr>\n",
              "            <tr>\n",
              "                        <th id=\"T_0b1e3164_6e82_11ea_a637_0242ac1c0002level0_row3\" class=\"row_heading level0 row3\" >Telengana</th>\n",
              "                        <td id=\"T_0b1e3164_6e82_11ea_a637_0242ac1c0002row3_col0\" class=\"data row3 col0\" >34</td>\n",
              "            </tr>\n",
              "            <tr>\n",
              "                        <th id=\"T_0b1e3164_6e82_11ea_a637_0242ac1c0002level0_row4\" class=\"row_heading level0 row4\" >Gujarat</th>\n",
              "                        <td id=\"T_0b1e3164_6e82_11ea_a637_0242ac1c0002row4_col0\" class=\"data row4 col0\" >32</td>\n",
              "            </tr>\n",
              "            <tr>\n",
              "                        <th id=\"T_0b1e3164_6e82_11ea_a637_0242ac1c0002level0_row5\" class=\"row_heading level0 row5\" >Rajasthan</th>\n",
              "                        <td id=\"T_0b1e3164_6e82_11ea_a637_0242ac1c0002row5_col0\" class=\"data row5 col0\" >29</td>\n",
              "            </tr>\n",
              "            <tr>\n",
              "                        <th id=\"T_0b1e3164_6e82_11ea_a637_0242ac1c0002level0_row6\" class=\"row_heading level0 row6\" >Punjab</th>\n",
              "                        <td id=\"T_0b1e3164_6e82_11ea_a637_0242ac1c0002row6_col0\" class=\"data row6 col0\" >28</td>\n",
              "            </tr>\n",
              "            <tr>\n",
              "                        <th id=\"T_0b1e3164_6e82_11ea_a637_0242ac1c0002level0_row7\" class=\"row_heading level0 row7\" >Uttar Pradesh</th>\n",
              "                        <td id=\"T_0b1e3164_6e82_11ea_a637_0242ac1c0002row7_col0\" class=\"data row7 col0\" >24</td>\n",
              "            </tr>\n",
              "            <tr>\n",
              "                        <th id=\"T_0b1e3164_6e82_11ea_a637_0242ac1c0002level0_row8\" class=\"row_heading level0 row8\" >Delhi</th>\n",
              "                        <td id=\"T_0b1e3164_6e82_11ea_a637_0242ac1c0002row8_col0\" class=\"data row8 col0\" >24</td>\n",
              "            </tr>\n",
              "            <tr>\n",
              "                        <th id=\"T_0b1e3164_6e82_11ea_a637_0242ac1c0002level0_row9\" class=\"row_heading level0 row9\" >Tamil Nadu</th>\n",
              "                        <td id=\"T_0b1e3164_6e82_11ea_a637_0242ac1c0002row9_col0\" class=\"data row9 col0\" >17</td>\n",
              "            </tr>\n",
              "            <tr>\n",
              "                        <th id=\"T_0b1e3164_6e82_11ea_a637_0242ac1c0002level0_row10\" class=\"row_heading level0 row10\" >Haryana</th>\n",
              "                        <td id=\"T_0b1e3164_6e82_11ea_a637_0242ac1c0002row10_col0\" class=\"data row10 col0\" >17</td>\n",
              "            </tr>\n",
              "            <tr>\n",
              "                        <th id=\"T_0b1e3164_6e82_11ea_a637_0242ac1c0002level0_row11\" class=\"row_heading level0 row11\" >Ladakh</th>\n",
              "                        <td id=\"T_0b1e3164_6e82_11ea_a637_0242ac1c0002row11_col0\" class=\"data row11 col0\" >13</td>\n",
              "            </tr>\n",
              "            <tr>\n",
              "                        <th id=\"T_0b1e3164_6e82_11ea_a637_0242ac1c0002level0_row12\" class=\"row_heading level0 row12\" >Madhya Pradesh</th>\n",
              "                        <td id=\"T_0b1e3164_6e82_11ea_a637_0242ac1c0002row12_col0\" class=\"data row12 col0\" >9</td>\n",
              "            </tr>\n",
              "            <tr>\n",
              "                        <th id=\"T_0b1e3164_6e82_11ea_a637_0242ac1c0002level0_row13\" class=\"row_heading level0 row13\" >Andhra Pradesh</th>\n",
              "                        <td id=\"T_0b1e3164_6e82_11ea_a637_0242ac1c0002row13_col0\" class=\"data row13 col0\" >9</td>\n",
              "            </tr>\n",
              "            <tr>\n",
              "                        <th id=\"T_0b1e3164_6e82_11ea_a637_0242ac1c0002level0_row14\" class=\"row_heading level0 row14\" >West Bengal</th>\n",
              "                        <td id=\"T_0b1e3164_6e82_11ea_a637_0242ac1c0002row14_col0\" class=\"data row14 col0\" >8</td>\n",
              "            </tr>\n",
              "            <tr>\n",
              "                        <th id=\"T_0b1e3164_6e82_11ea_a637_0242ac1c0002level0_row15\" class=\"row_heading level0 row15\" >Chandigarh</th>\n",
              "                        <td id=\"T_0b1e3164_6e82_11ea_a637_0242ac1c0002row15_col0\" class=\"data row15 col0\" >7</td>\n",
              "            </tr>\n",
              "            <tr>\n",
              "                        <th id=\"T_0b1e3164_6e82_11ea_a637_0242ac1c0002level0_row16\" class=\"row_heading level0 row16\" >Jammu and Kashmir</th>\n",
              "                        <td id=\"T_0b1e3164_6e82_11ea_a637_0242ac1c0002row16_col0\" class=\"data row16 col0\" >6</td>\n",
              "            </tr>\n",
              "            <tr>\n",
              "                        <th id=\"T_0b1e3164_6e82_11ea_a637_0242ac1c0002level0_row17\" class=\"row_heading level0 row17\" >Uttarakhand</th>\n",
              "                        <td id=\"T_0b1e3164_6e82_11ea_a637_0242ac1c0002row17_col0\" class=\"data row17 col0\" >4</td>\n",
              "            </tr>\n",
              "            <tr>\n",
              "                        <th id=\"T_0b1e3164_6e82_11ea_a637_0242ac1c0002level0_row18\" class=\"row_heading level0 row18\" >Himachal Pradesh</th>\n",
              "                        <td id=\"T_0b1e3164_6e82_11ea_a637_0242ac1c0002row18_col0\" class=\"data row18 col0\" >2</td>\n",
              "            </tr>\n",
              "            <tr>\n",
              "                        <th id=\"T_0b1e3164_6e82_11ea_a637_0242ac1c0002level0_row19\" class=\"row_heading level0 row19\" >Odisha</th>\n",
              "                        <td id=\"T_0b1e3164_6e82_11ea_a637_0242ac1c0002row19_col0\" class=\"data row19 col0\" >2</td>\n",
              "            </tr>\n",
              "            <tr>\n",
              "                        <th id=\"T_0b1e3164_6e82_11ea_a637_0242ac1c0002level0_row20\" class=\"row_heading level0 row20\" >Bihar</th>\n",
              "                        <td id=\"T_0b1e3164_6e82_11ea_a637_0242ac1c0002row20_col0\" class=\"data row20 col0\" >2</td>\n",
              "            </tr>\n",
              "            <tr>\n",
              "                        <th id=\"T_0b1e3164_6e82_11ea_a637_0242ac1c0002level0_row21\" class=\"row_heading level0 row21\" >Manipur</th>\n",
              "                        <td id=\"T_0b1e3164_6e82_11ea_a637_0242ac1c0002row21_col0\" class=\"data row21 col0\" >1</td>\n",
              "            </tr>\n",
              "            <tr>\n",
              "                        <th id=\"T_0b1e3164_6e82_11ea_a637_0242ac1c0002level0_row22\" class=\"row_heading level0 row22\" >Mizoram</th>\n",
              "                        <td id=\"T_0b1e3164_6e82_11ea_a637_0242ac1c0002row22_col0\" class=\"data row22 col0\" >1</td>\n",
              "            </tr>\n",
              "            <tr>\n",
              "                        <th id=\"T_0b1e3164_6e82_11ea_a637_0242ac1c0002level0_row23\" class=\"row_heading level0 row23\" >Puducherry</th>\n",
              "                        <td id=\"T_0b1e3164_6e82_11ea_a637_0242ac1c0002row23_col0\" class=\"data row23 col0\" >1</td>\n",
              "            </tr>\n",
              "            <tr>\n",
              "                        <th id=\"T_0b1e3164_6e82_11ea_a637_0242ac1c0002level0_row24\" class=\"row_heading level0 row24\" >Chhattisgarh</th>\n",
              "                        <td id=\"T_0b1e3164_6e82_11ea_a637_0242ac1c0002row24_col0\" class=\"data row24 col0\" >1</td>\n",
              "            </tr>\n",
              "    </tbody></table>"
            ],
            "text/plain": [
              "<pandas.io.formats.style.Styler at 0x7f50c11c15f8>"
            ]
          },
          "metadata": {
            "tags": []
          },
          "execution_count": 9
        }
      ]
    },
    {
      "cell_type": "markdown",
      "metadata": {
        "id": "0q44og8xdhE1",
        "colab_type": "text"
      },
      "source": [
        "## 1.4 Visualising the spread geographically"
      ]
    },
    {
      "cell_type": "code",
      "metadata": {
        "_kg_hide-input": true,
        "_kg_hide-output": false,
        "id": "d6_6oRNadhE5",
        "colab_type": "code",
        "outputId": "030dd43a-c2da-46b4-89f9-90f36dbbd6c1",
        "colab": {
          "base_uri": "https://localhost:8080/",
          "height": 583
        }
      },
      "source": [
        "# Learn how to use folium to create a zoomable map\n",
        "df_full = pd.merge(India_coord,df,on='Name of State / UT')\n",
        "map = folium.Map(location=[20, 70], zoom_start=4,tiles='Stamenterrain')\n",
        "\n",
        "for lat, lon, value, name in zip(df_full['Latitude'], df_full['Longitude'], df_full['Total cases'], df_full['Name of State / UT']):\n",
        "    folium.CircleMarker([lat, lon], radius=value*0.8, popup = ('<strong>State</strong>: ' + str(name).capitalize() + '<br>''<strong>Total Cases</strong>: ' + str(value) + '<br>'),color='red',fill_color='red',fill_opacity=0.3 ).add_to(map)\n",
        "map"
      ],
      "execution_count": 10,
      "outputs": [
        {
          "output_type": "execute_result",
          "data": {
            "text/html": [
              "<div style=\"width:100%;\"><div style=\"position:relative;width:100%;height:0;padding-bottom:60%;\"><iframe src=\"about:blank\" style=\"position:absolute;width:100%;height:100%;left:0;top:0;border:none !important;\" data-html=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 onload=\"this.contentDocument.open();this.contentDocument.write(atob(this.getAttribute('data-html')));this.contentDocument.close();\" allowfullscreen webkitallowfullscreen mozallowfullscreen></iframe></div></div>"
            ],
            "text/plain": [
              "<folium.folium.Map at 0x7f50c11ded30>"
            ]
          },
          "metadata": {
            "tags": []
          },
          "execution_count": 10
        }
      ]
    },
    {
      "cell_type": "markdown",
      "metadata": {
        "id": "bl6V3wPkdhFE",
        "colab_type": "text"
      },
      "source": [
        "## 1.5 Confirmed vs Recovered figures"
      ]
    },
    {
      "cell_type": "code",
      "metadata": {
        "_kg_hide-input": true,
        "_kg_hide-output": false,
        "id": "yBavZ1TndhFG",
        "colab_type": "code",
        "outputId": "45447482-00f0-4d29-e367-8d8a4c4e1a14",
        "colab": {
          "base_uri": "https://localhost:8080/",
          "height": 497
        }
      },
      "source": [
        "#Learn how to use Seaborn for visualization\n",
        "f, ax = plt.subplots(figsize=(12, 8))\n",
        "data = df_full[['Name of State / UT','Total cases','Cured','Death']]\n",
        "data.sort_values('Total cases',ascending=False,inplace=True)\n",
        "sns.set_color_codes(\"pastel\")\n",
        "sns.barplot(x=\"Total cases\", y=\"Name of State / UT\", data=data,label=\"Total\", color=\"r\")\n",
        "\n",
        "sns.set_color_codes(\"muted\")\n",
        "sns.barplot(x=\"Cured\", y=\"Name of State / UT\", data=data, label=\"Cured\", color=\"g\")\n",
        "\n",
        "\n",
        "# Add a legend and informative axis label\n",
        "ax.legend(ncol=2, loc=\"lower right\", frameon=True)\n",
        "ax.set(xlim=(0, 35), ylabel=\"\",xlabel=\"Cases\")\n",
        "sns.despine(left=True, bottom=True)"
      ],
      "execution_count": 11,
      "outputs": [
        {
          "output_type": "display_data",
          "data": {
            "image/png": "[encoded data removed]",
            "text/plain": [
              "<Figure size 864x576 with 1 Axes>"
            ]
          },
          "metadata": {
            "tags": []
          }
        }
      ]
    },
    {
      "cell_type": "markdown",
      "metadata": {
        "id": "8cj9ugfEdhFL",
        "colab_type": "text"
      },
      "source": [
        "## 1.6 How the Coronavirus cases are rising?"
      ]
    },
    {
      "cell_type": "code",
      "metadata": {
        "id": "ee1EkgweFR3i",
        "colab_type": "code",
        "colab": {}
      },
      "source": [
        "#This cell's code is required when you are working with plotly on colab\n",
        "import plotly\n",
        "plotly.io.renderers.default = 'colab'"
      ],
      "execution_count": 0,
      "outputs": []
    },
    {
      "cell_type": "code",
      "metadata": {
        "_kg_hide-input": true,
        "_kg_hide-output": false,
        "id": "sAu20QbRdhFO",
        "colab_type": "code",
        "outputId": "33515fc2-9d12-423c-94a3-0554a7675a7b",
        "colab": {
          "base_uri": "https://localhost:8080/",
          "height": 942
        }
      },
      "source": [
        "#Learn how to create interactive graphs using plotly\n",
        "# import plotly.graph_objects as go\n",
        "# Rise of COVID-19 cases in India\n",
        "fig = go.Figure()\n",
        "fig.add_trace(go.Scatter(x=dbd_India['Date'], y = dbd_India['Total Cases'], mode='lines+markers',name='Total Cases'))\n",
        "fig.update_layout(title_text='Trend of Coronavirus Cases in India (Cumulative cases)',plot_bgcolor='rgb(230, 230, 230)')\n",
        "fig.show()\n",
        "\n",
        "# New COVID-19 cases reported daily in India\n",
        "\n",
        "import plotly.express as px\n",
        "fig = px.bar(dbd_India, x=\"Date\", y=\"New Cases\", barmode='group', height=400)\n",
        "fig.update_layout(title_text='Coronavirus Cases in India on daily basis',plot_bgcolor='rgb(230, 230, 230)')\n",
        "\n",
        "fig.show()"
      ],
      "execution_count": 15,
      "outputs": [
        {
          "output_type": "display_data",
          "data": {
            "text/html": [
              "<html>\n",
              "<head><meta charset=\"utf-8\" /></head>\n",
              "<body>\n",
              "    <div>\n",
              "            <script src=\"https://cdnjs.cloudflare.com/ajax/libs/mathjax/2.7.5/MathJax.js?config=TeX-AMS-MML_SVG\"></script><script type=\"text/javascript\">if (window.MathJax) {MathJax.Hub.Config({SVG: {font: \"STIX-Web\"}});}</script>\n",
              "                <script type=\"text/javascript\">window.PlotlyConfig = {MathJaxConfig: 'local'};</script>\n",
              "        <script src=\"https://cdn.plot.ly/plotly-latest.min.js\"></script>    \n",
              "            <div id=\"d2ec0dd8-b81b-4b3f-8c70-86d8f1379398\" class=\"plotly-graph-div\" style=\"height:525px; width:100%;\"></div>\n",
              "            <script type=\"text/javascript\">\n",
              "                \n",
              "                    window.PLOTLYENV=window.PLOTLYENV || {};\n",
              "                    \n",
              "                if (document.getElementById(\"d2ec0dd8-b81b-4b3f-8c70-86d8f1379398\")) {\n",
              "                    Plotly.newPlot(\n",
              "                        'd2ec0dd8-b81b-4b3f-8c70-86d8f1379398',\n",
              "                        [{\"mode\": \"lines+markers\", \"name\": \"Total Cases\", \"type\": \"scatter\", \"x\": [\"2020-01-30T00:00:00\", \"2020-01-31T00:00:00\", \"2020-02-01T00:00:00\", \"2020-02-02T00:00:00\", \"2020-02-03T00:00:00\", \"2020-02-04T00:00:00\", \"2020-02-05T00:00:00\", \"2020-02-06T00:00:00\", \"2020-02-07T00:00:00\", \"2020-02-08T00:00:00\", \"2020-02-09T00:00:00\", \"2020-02-10T00:00:00\", \"2020-02-11T00:00:00\", \"2020-02-12T00:00:00\", \"2020-02-13T00:00:00\", \"2020-02-14T00:00:00\", \"2020-02-15T00:00:00\", \"2020-02-16T00:00:00\", \"2020-02-17T00:00:00\", \"2020-02-18T00:00:00\", \"2020-02-19T00:00:00\", \"2020-02-20T00:00:00\", \"2020-02-21T00:00:00\", \"2020-02-22T00:00:00\", \"2020-02-23T00:00:00\", \"2020-02-24T00:00:00\", \"2020-02-25T00:00:00\", \"2020-02-26T00:00:00\", \"2020-02-27T00:00:00\", \"2020-02-28T00:00:00\", \"2020-02-29T00:00:00\", \"2020-03-01T00:00:00\", \"2020-03-02T00:00:00\", \"2020-03-03T00:00:00\", \"2020-03-04T00:00:00\", \"2020-03-05T00:00:00\", \"2020-03-06T00:00:00\", \"2020-03-07T00:00:00\", \"2020-03-08T00:00:00\", \"2020-03-09T00:00:00\", \"2020-03-10T00:00:00\", \"2020-03-11T00:00:00\", \"2020-03-12T00:00:00\", \"2020-03-13T00:00:00\", \"2020-03-14T00:00:00\", \"2020-03-15T00:00:00\", \"2020-03-16T00:00:00\", \"2020-03-17T00:00:00\", \"2020-03-18T00:00:00\", \"2020-03-19T00:00:00\", \"2020-03-20T00:00:00\", \"2020-03-21T00:00:00\", \"2020-03-22T00:00:00\", \"2020-03-23T00:00:00\", \"2020-03-24T00:00:00\", \"2020-03-25T00:00:00\"], \"y\": [1, 1, 1, 2, 3, 3, 3, 3, 3, 3, 3, 3, 3, 3, 3, 3, 3, 3, 3, 3, 3, 3, 3, 3, 3, 3, 3, 3, 3, 3, 3, 3, 6, 9, 28, 30, 31, 34, 39, 43, 56, 62, 73, 82, 102, 113, 119, 142, 156, 194, 244, 330, 396, 499, 536, 562]}],\n",
              "                        {\"plot_bgcolor\": \"rgb(230, 230, 230)\", \"template\": {\"data\": {\"bar\": [{\"error_x\": {\"color\": \"#2a3f5f\"}, \"error_y\": {\"color\": \"#2a3f5f\"}, \"marker\": {\"line\": {\"color\": \"#E5ECF6\", \"width\": 0.5}}, \"type\": \"bar\"}], \"barpolar\": [{\"marker\": {\"line\": {\"color\": \"#E5ECF6\", \"width\": 0.5}}, \"type\": \"barpolar\"}], \"carpet\": [{\"aaxis\": {\"endlinecolor\": \"#2a3f5f\", \"gridcolor\": \"white\", \"linecolor\": \"white\", \"minorgridcolor\": \"white\", \"startlinecolor\": \"#2a3f5f\"}, \"baxis\": {\"endlinecolor\": \"#2a3f5f\", \"gridcolor\": \"white\", \"linecolor\": \"white\", \"minorgridcolor\": \"white\", \"startlinecolor\": \"#2a3f5f\"}, \"type\": \"carpet\"}], \"choropleth\": [{\"colorbar\": {\"outlinewidth\": 0, \"ticks\": \"\"}, \"type\": \"choropleth\"}], \"contour\": [{\"colorbar\": {\"outlinewidth\": 0, \"ticks\": \"\"}, \"colorscale\": [[0.0, \"#0d0887\"], [0.1111111111111111, \"#46039f\"], [0.2222222222222222, \"#7201a8\"], [0.3333333333333333, \"#9c179e\"], [0.4444444444444444, \"#bd3786\"], [0.5555555555555556, \"#d8576b\"], [0.6666666666666666, \"#ed7953\"], [0.7777777777777778, \"#fb9f3a\"], [0.8888888888888888, \"#fdca26\"], [1.0, \"#f0f921\"]], \"type\": \"contour\"}], \"contourcarpet\": [{\"colorbar\": {\"outlinewidth\": 0, \"ticks\": \"\"}, \"type\": \"contourcarpet\"}], \"heatmap\": [{\"colorbar\": {\"outlinewidth\": 0, \"ticks\": \"\"}, \"colorscale\": [[0.0, \"#0d0887\"], [0.1111111111111111, \"#46039f\"], [0.2222222222222222, \"#7201a8\"], [0.3333333333333333, \"#9c179e\"], [0.4444444444444444, \"#bd3786\"], [0.5555555555555556, \"#d8576b\"], [0.6666666666666666, \"#ed7953\"], [0.7777777777777778, \"#fb9f3a\"], [0.8888888888888888, \"#fdca26\"], [1.0, \"#f0f921\"]], \"type\": \"heatmap\"}], \"heatmapgl\": [{\"colorbar\": {\"outlinewidth\": 0, \"ticks\": \"\"}, \"colorscale\": [[0.0, \"#0d0887\"], [0.1111111111111111, \"#46039f\"], [0.2222222222222222, \"#7201a8\"], [0.3333333333333333, \"#9c179e\"], [0.4444444444444444, \"#bd3786\"], [0.5555555555555556, \"#d8576b\"], [0.6666666666666666, \"#ed7953\"], [0.7777777777777778, \"#fb9f3a\"], [0.8888888888888888, \"#fdca26\"], [1.0, \"#f0f921\"]], \"type\": \"heatmapgl\"}], \"histogram\": [{\"marker\": {\"colorbar\": {\"outlinewidth\": 0, \"ticks\": \"\"}}, \"type\": \"histogram\"}], \"histogram2d\": [{\"colorbar\": {\"outlinewidth\": 0, \"ticks\": \"\"}, \"colorscale\": [[0.0, \"#0d0887\"], [0.1111111111111111, \"#46039f\"], [0.2222222222222222, \"#7201a8\"], [0.3333333333333333, \"#9c179e\"], [0.4444444444444444, \"#bd3786\"], [0.5555555555555556, \"#d8576b\"], [0.6666666666666666, \"#ed7953\"], [0.7777777777777778, \"#fb9f3a\"], [0.8888888888888888, \"#fdca26\"], [1.0, \"#f0f921\"]], \"type\": \"histogram2d\"}], \"histogram2dcontour\": [{\"colorbar\": {\"outlinewidth\": 0, \"ticks\": \"\"}, \"colorscale\": [[0.0, \"#0d0887\"], [0.1111111111111111, \"#46039f\"], [0.2222222222222222, \"#7201a8\"], [0.3333333333333333, \"#9c179e\"], [0.4444444444444444, \"#bd3786\"], [0.5555555555555556, \"#d8576b\"], [0.6666666666666666, \"#ed7953\"], [0.7777777777777778, \"#fb9f3a\"], [0.8888888888888888, \"#fdca26\"], [1.0, \"#f0f921\"]], \"type\": \"histogram2dcontour\"}], \"mesh3d\": [{\"colorbar\": {\"outlinewidth\": 0, \"ticks\": \"\"}, \"type\": \"mesh3d\"}], \"parcoords\": [{\"line\": {\"colorbar\": {\"outlinewidth\": 0, \"ticks\": \"\"}}, \"type\": \"parcoords\"}], \"pie\": [{\"automargin\": true, \"type\": \"pie\"}], \"scatter\": [{\"marker\": {\"colorbar\": {\"outlinewidth\": 0, \"ticks\": \"\"}}, \"type\": \"scatter\"}], \"scatter3d\": [{\"line\": {\"colorbar\": {\"outlinewidth\": 0, \"ticks\": \"\"}}, \"marker\": {\"colorbar\": {\"outlinewidth\": 0, \"ticks\": \"\"}}, \"type\": \"scatter3d\"}], \"scattercarpet\": [{\"marker\": {\"colorbar\": {\"outlinewidth\": 0, \"ticks\": \"\"}}, \"type\": \"scattercarpet\"}], \"scattergeo\": [{\"marker\": {\"colorbar\": {\"outlinewidth\": 0, \"ticks\": \"\"}}, \"type\": \"scattergeo\"}], \"scattergl\": [{\"marker\": {\"colorbar\": {\"outlinewidth\": 0, \"ticks\": \"\"}}, \"type\": \"scattergl\"}], \"scattermapbox\": [{\"marker\": {\"colorbar\": {\"outlinewidth\": 0, \"ticks\": \"\"}}, \"type\": \"scattermapbox\"}], \"scatterpolar\": [{\"marker\": {\"colorbar\": {\"outlinewidth\": 0, \"ticks\": \"\"}}, \"type\": \"scatterpolar\"}], \"scatterpolargl\": [{\"marker\": {\"colorbar\": {\"outlinewidth\": 0, \"ticks\": \"\"}}, \"type\": \"scatterpolargl\"}], \"scatterternary\": [{\"marker\": {\"colorbar\": {\"outlinewidth\": 0, \"ticks\": \"\"}}, \"type\": \"scatterternary\"}], \"surface\": [{\"colorbar\": {\"outlinewidth\": 0, \"ticks\": \"\"}, \"colorscale\": [[0.0, \"#0d0887\"], [0.1111111111111111, \"#46039f\"], [0.2222222222222222, \"#7201a8\"], [0.3333333333333333, \"#9c179e\"], [0.4444444444444444, \"#bd3786\"], [0.5555555555555556, \"#d8576b\"], [0.6666666666666666, \"#ed7953\"], [0.7777777777777778, \"#fb9f3a\"], [0.8888888888888888, \"#fdca26\"], [1.0, \"#f0f921\"]], \"type\": \"surface\"}], \"table\": [{\"cells\": {\"fill\": {\"color\": \"#EBF0F8\"}, \"line\": {\"color\": \"white\"}}, \"header\": {\"fill\": {\"color\": \"#C8D4E3\"}, \"line\": {\"color\": \"white\"}}, \"type\": \"table\"}]}, \"layout\": {\"annotationdefaults\": {\"arrowcolor\": \"#2a3f5f\", \"arrowhead\": 0, \"arrowwidth\": 1}, \"coloraxis\": {\"colorbar\": {\"outlinewidth\": 0, \"ticks\": \"\"}}, \"colorscale\": {\"diverging\": [[0, \"#8e0152\"], [0.1, \"#c51b7d\"], [0.2, \"#de77ae\"], [0.3, \"#f1b6da\"], [0.4, \"#fde0ef\"], [0.5, \"#f7f7f7\"], [0.6, \"#e6f5d0\"], [0.7, \"#b8e186\"], [0.8, \"#7fbc41\"], [0.9, \"#4d9221\"], [1, \"#276419\"]], \"sequential\": [[0.0, \"#0d0887\"], [0.1111111111111111, \"#46039f\"], [0.2222222222222222, \"#7201a8\"], [0.3333333333333333, \"#9c179e\"], [0.4444444444444444, \"#bd3786\"], [0.5555555555555556, \"#d8576b\"], [0.6666666666666666, \"#ed7953\"], [0.7777777777777778, \"#fb9f3a\"], [0.8888888888888888, \"#fdca26\"], [1.0, \"#f0f921\"]], \"sequentialminus\": [[0.0, \"#0d0887\"], [0.1111111111111111, \"#46039f\"], [0.2222222222222222, \"#7201a8\"], [0.3333333333333333, \"#9c179e\"], [0.4444444444444444, \"#bd3786\"], [0.5555555555555556, \"#d8576b\"], [0.6666666666666666, \"#ed7953\"], [0.7777777777777778, \"#fb9f3a\"], [0.8888888888888888, \"#fdca26\"], [1.0, \"#f0f921\"]]}, \"colorway\": [\"#636efa\", \"#EF553B\", \"#00cc96\", \"#ab63fa\", \"#FFA15A\", \"#19d3f3\", \"#FF6692\", \"#B6E880\", \"#FF97FF\", \"#FECB52\"], \"font\": {\"color\": \"#2a3f5f\"}, \"geo\": {\"bgcolor\": \"white\", \"lakecolor\": \"white\", \"landcolor\": \"#E5ECF6\", \"showlakes\": true, \"showland\": true, \"subunitcolor\": \"white\"}, \"hoverlabel\": {\"align\": \"left\"}, \"hovermode\": \"closest\", \"mapbox\": {\"style\": \"light\"}, \"paper_bgcolor\": \"white\", \"plot_bgcolor\": \"#E5ECF6\", \"polar\": {\"angularaxis\": {\"gridcolor\": \"white\", \"linecolor\": \"white\", \"ticks\": \"\"}, \"bgcolor\": \"#E5ECF6\", \"radialaxis\": {\"gridcolor\": \"white\", \"linecolor\": \"white\", \"ticks\": \"\"}}, \"scene\": {\"xaxis\": {\"backgroundcolor\": \"#E5ECF6\", \"gridcolor\": \"white\", \"gridwidth\": 2, \"linecolor\": \"white\", \"showbackground\": true, \"ticks\": \"\", \"zerolinecolor\": \"white\"}, \"yaxis\": {\"backgroundcolor\": \"#E5ECF6\", \"gridcolor\": \"white\", \"gridwidth\": 2, \"linecolor\": \"white\", \"showbackground\": true, \"ticks\": \"\", \"zerolinecolor\": \"white\"}, \"zaxis\": {\"backgroundcolor\": \"#E5ECF6\", \"gridcolor\": \"white\", \"gridwidth\": 2, \"linecolor\": \"white\", \"showbackground\": true, \"ticks\": \"\", \"zerolinecolor\": \"white\"}}, \"shapedefaults\": {\"line\": {\"color\": \"#2a3f5f\"}}, \"ternary\": {\"aaxis\": {\"gridcolor\": \"white\", \"linecolor\": \"white\", \"ticks\": \"\"}, \"baxis\": {\"gridcolor\": \"white\", \"linecolor\": \"white\", \"ticks\": \"\"}, \"bgcolor\": \"#E5ECF6\", \"caxis\": {\"gridcolor\": \"white\", \"linecolor\": \"white\", \"ticks\": \"\"}}, \"title\": {\"x\": 0.05}, \"xaxis\": {\"automargin\": true, \"gridcolor\": \"white\", \"linecolor\": \"white\", \"ticks\": \"\", \"title\": {\"standoff\": 15}, \"zerolinecolor\": \"white\", \"zerolinewidth\": 2}, \"yaxis\": {\"automargin\": true, \"gridcolor\": \"white\", \"linecolor\": \"white\", \"ticks\": \"\", \"title\": {\"standoff\": 15}, \"zerolinecolor\": \"white\", \"zerolinewidth\": 2}}}, \"title\": {\"text\": \"Trend of Coronavirus Cases in India (Cumulative cases)\"}},\n",
              "                        {\"responsive\": true}\n",
              "                    ).then(function(){\n",
              "                            \n",
              "var gd = document.getElementById('d2ec0dd8-b81b-4b3f-8c70-86d8f1379398');\n",
              "var x = new MutationObserver(function (mutations, observer) {{\n",
              "        var display = window.getComputedStyle(gd).display;\n",
              "        if (!display || display === 'none') {{\n",
              "            console.log([gd, 'removed!']);\n",
              "            Plotly.purge(gd);\n",
              "            observer.disconnect();\n",
              "        }}\n",
              "}});\n",
              "\n",
              "// Listen for the removal of the full notebook cells\n",
              "var notebookContainer = gd.closest('#notebook-container');\n",
              "if (notebookContainer) {{\n",
              "    x.observe(notebookContainer, {childList: true});\n",
              "}}\n",
              "\n",
              "// Listen for the clearing of the current output cell\n",
              "var outputEl = gd.closest('.output');\n",
              "if (outputEl) {{\n",
              "    x.observe(outputEl, {childList: true});\n",
              "}}\n",
              "\n",
              "                        })\n",
              "                };\n",
              "                \n",
              "            </script>\n",
              "        </div>\n",
              "</body>\n",
              "</html>"
            ]
          },
          "metadata": {
            "tags": []
          }
        },
        {
          "output_type": "display_data",
          "data": {
            "text/html": [
              "<html>\n",
              "<head><meta charset=\"utf-8\" /></head>\n",
              "<body>\n",
              "    <div>\n",
              "            <script src=\"https://cdnjs.cloudflare.com/ajax/libs/mathjax/2.7.5/MathJax.js?config=TeX-AMS-MML_SVG\"></script><script type=\"text/javascript\">if (window.MathJax) {MathJax.Hub.Config({SVG: {font: \"STIX-Web\"}});}</script>\n",
              "                <script type=\"text/javascript\">window.PlotlyConfig = {MathJaxConfig: 'local'};</script>\n",
              "        <script src=\"https://cdn.plot.ly/plotly-latest.min.js\"></script>    \n",
              "            <div id=\"e73f1fa2-d458-4ae5-84e7-e2a91b8ece52\" class=\"plotly-graph-div\" style=\"height:400px; width:100%;\"></div>\n",
              "            <script type=\"text/javascript\">\n",
              "                \n",
              "                    window.PLOTLYENV=window.PLOTLYENV || {};\n",
              "                    \n",
              "                if (document.getElementById(\"e73f1fa2-d458-4ae5-84e7-e2a91b8ece52\")) {\n",
              "                    Plotly.newPlot(\n",
              "                        'e73f1fa2-d458-4ae5-84e7-e2a91b8ece52',\n",
              "                        [{\"alignmentgroup\": \"True\", \"hoverlabel\": {\"namelength\": 0}, \"hovertemplate\": \"Date=%{x}<br>New Cases=%{y}\", \"legendgroup\": \"\", \"marker\": {\"color\": \"#636efa\"}, \"name\": \"\", \"offsetgroup\": \"\", \"orientation\": \"v\", \"showlegend\": false, \"textposition\": \"auto\", \"type\": \"bar\", \"x\": [\"2020-01-30T00:00:00\", \"2020-01-31T00:00:00\", \"2020-02-01T00:00:00\", \"2020-02-02T00:00:00\", \"2020-02-03T00:00:00\", \"2020-02-04T00:00:00\", \"2020-02-05T00:00:00\", \"2020-02-06T00:00:00\", \"2020-02-07T00:00:00\", \"2020-02-08T00:00:00\", \"2020-02-09T00:00:00\", \"2020-02-10T00:00:00\", \"2020-02-11T00:00:00\", \"2020-02-12T00:00:00\", \"2020-02-13T00:00:00\", \"2020-02-14T00:00:00\", \"2020-02-15T00:00:00\", \"2020-02-16T00:00:00\", \"2020-02-17T00:00:00\", \"2020-02-18T00:00:00\", \"2020-02-19T00:00:00\", \"2020-02-20T00:00:00\", \"2020-02-21T00:00:00\", \"2020-02-22T00:00:00\", \"2020-02-23T00:00:00\", \"2020-02-24T00:00:00\", \"2020-02-25T00:00:00\", \"2020-02-26T00:00:00\", \"2020-02-27T00:00:00\", \"2020-02-28T00:00:00\", \"2020-02-29T00:00:00\", \"2020-03-01T00:00:00\", \"2020-03-02T00:00:00\", \"2020-03-03T00:00:00\", \"2020-03-04T00:00:00\", \"2020-03-05T00:00:00\", \"2020-03-06T00:00:00\", \"2020-03-07T00:00:00\", \"2020-03-08T00:00:00\", \"2020-03-09T00:00:00\", \"2020-03-10T00:00:00\", \"2020-03-11T00:00:00\", \"2020-03-12T00:00:00\", \"2020-03-13T00:00:00\", \"2020-03-14T00:00:00\", \"2020-03-15T00:00:00\", \"2020-03-16T00:00:00\", \"2020-03-17T00:00:00\", \"2020-03-18T00:00:00\", \"2020-03-19T00:00:00\", \"2020-03-20T00:00:00\", \"2020-03-21T00:00:00\", \"2020-03-22T00:00:00\", \"2020-03-23T00:00:00\", \"2020-03-24T00:00:00\", \"2020-03-25T00:00:00\"], \"xaxis\": \"x\", \"y\": [1, 0, 0, 1, 1, 0, 0, 0, 0, 0, 0, 0, 0, 0, 0, 0, 0, 0, 0, 0, 0, 0, 0, 0, 0, 0, 0, 0, 0, 0, 0, 0, 3, 3, 19, 2, 1, 3, 5, 4, 13, 6, 11, 9, 20, 11, 6, 23, 14, 38, 50, 86, 66, 103, 37, 26], \"yaxis\": \"y\"}],\n",
              "                        {\"barmode\": \"group\", \"height\": 400, \"legend\": {\"tracegroupgap\": 0}, \"margin\": {\"t\": 60}, \"plot_bgcolor\": \"rgb(230, 230, 230)\", \"template\": {\"data\": {\"bar\": [{\"error_x\": {\"color\": \"#2a3f5f\"}, \"error_y\": {\"color\": \"#2a3f5f\"}, \"marker\": {\"line\": {\"color\": \"#E5ECF6\", \"width\": 0.5}}, \"type\": \"bar\"}], \"barpolar\": [{\"marker\": {\"line\": {\"color\": \"#E5ECF6\", \"width\": 0.5}}, \"type\": \"barpolar\"}], \"carpet\": [{\"aaxis\": {\"endlinecolor\": \"#2a3f5f\", \"gridcolor\": \"white\", \"linecolor\": \"white\", \"minorgridcolor\": \"white\", \"startlinecolor\": \"#2a3f5f\"}, \"baxis\": {\"endlinecolor\": \"#2a3f5f\", \"gridcolor\": \"white\", \"linecolor\": \"white\", \"minorgridcolor\": \"white\", \"startlinecolor\": \"#2a3f5f\"}, \"type\": \"carpet\"}], \"choropleth\": [{\"colorbar\": {\"outlinewidth\": 0, \"ticks\": \"\"}, \"type\": \"choropleth\"}], \"contour\": [{\"colorbar\": {\"outlinewidth\": 0, \"ticks\": \"\"}, \"colorscale\": [[0.0, \"#0d0887\"], [0.1111111111111111, \"#46039f\"], [0.2222222222222222, \"#7201a8\"], [0.3333333333333333, \"#9c179e\"], [0.4444444444444444, \"#bd3786\"], [0.5555555555555556, \"#d8576b\"], [0.6666666666666666, \"#ed7953\"], [0.7777777777777778, \"#fb9f3a\"], [0.8888888888888888, \"#fdca26\"], [1.0, \"#f0f921\"]], \"type\": \"contour\"}], \"contourcarpet\": [{\"colorbar\": {\"outlinewidth\": 0, \"ticks\": \"\"}, \"type\": \"contourcarpet\"}], \"heatmap\": [{\"colorbar\": {\"outlinewidth\": 0, \"ticks\": \"\"}, \"colorscale\": [[0.0, \"#0d0887\"], [0.1111111111111111, \"#46039f\"], [0.2222222222222222, \"#7201a8\"], [0.3333333333333333, \"#9c179e\"], [0.4444444444444444, \"#bd3786\"], [0.5555555555555556, \"#d8576b\"], [0.6666666666666666, \"#ed7953\"], [0.7777777777777778, \"#fb9f3a\"], [0.8888888888888888, \"#fdca26\"], [1.0, \"#f0f921\"]], \"type\": \"heatmap\"}], \"heatmapgl\": [{\"colorbar\": {\"outlinewidth\": 0, \"ticks\": \"\"}, \"colorscale\": [[0.0, \"#0d0887\"], [0.1111111111111111, \"#46039f\"], [0.2222222222222222, \"#7201a8\"], [0.3333333333333333, \"#9c179e\"], [0.4444444444444444, \"#bd3786\"], [0.5555555555555556, \"#d8576b\"], [0.6666666666666666, \"#ed7953\"], [0.7777777777777778, \"#fb9f3a\"], [0.8888888888888888, \"#fdca26\"], [1.0, \"#f0f921\"]], \"type\": \"heatmapgl\"}], \"histogram\": [{\"marker\": {\"colorbar\": {\"outlinewidth\": 0, \"ticks\": \"\"}}, \"type\": \"histogram\"}], \"histogram2d\": [{\"colorbar\": {\"outlinewidth\": 0, \"ticks\": \"\"}, \"colorscale\": [[0.0, \"#0d0887\"], [0.1111111111111111, \"#46039f\"], [0.2222222222222222, \"#7201a8\"], [0.3333333333333333, \"#9c179e\"], [0.4444444444444444, \"#bd3786\"], [0.5555555555555556, \"#d8576b\"], [0.6666666666666666, \"#ed7953\"], [0.7777777777777778, \"#fb9f3a\"], [0.8888888888888888, \"#fdca26\"], [1.0, \"#f0f921\"]], \"type\": \"histogram2d\"}], \"histogram2dcontour\": [{\"colorbar\": {\"outlinewidth\": 0, \"ticks\": \"\"}, \"colorscale\": [[0.0, \"#0d0887\"], [0.1111111111111111, \"#46039f\"], [0.2222222222222222, \"#7201a8\"], [0.3333333333333333, \"#9c179e\"], [0.4444444444444444, \"#bd3786\"], [0.5555555555555556, \"#d8576b\"], [0.6666666666666666, \"#ed7953\"], [0.7777777777777778, \"#fb9f3a\"], [0.8888888888888888, \"#fdca26\"], [1.0, \"#f0f921\"]], \"type\": \"histogram2dcontour\"}], \"mesh3d\": [{\"colorbar\": {\"outlinewidth\": 0, \"ticks\": \"\"}, \"type\": \"mesh3d\"}], \"parcoords\": [{\"line\": {\"colorbar\": {\"outlinewidth\": 0, \"ticks\": \"\"}}, \"type\": \"parcoords\"}], \"pie\": [{\"automargin\": true, \"type\": \"pie\"}], \"scatter\": [{\"marker\": {\"colorbar\": {\"outlinewidth\": 0, \"ticks\": \"\"}}, \"type\": \"scatter\"}], \"scatter3d\": [{\"line\": {\"colorbar\": {\"outlinewidth\": 0, \"ticks\": \"\"}}, \"marker\": {\"colorbar\": {\"outlinewidth\": 0, \"ticks\": \"\"}}, \"type\": \"scatter3d\"}], \"scattercarpet\": [{\"marker\": {\"colorbar\": {\"outlinewidth\": 0, \"ticks\": \"\"}}, \"type\": \"scattercarpet\"}], \"scattergeo\": [{\"marker\": {\"colorbar\": {\"outlinewidth\": 0, \"ticks\": \"\"}}, \"type\": \"scattergeo\"}], \"scattergl\": [{\"marker\": {\"colorbar\": {\"outlinewidth\": 0, \"ticks\": \"\"}}, \"type\": \"scattergl\"}], \"scattermapbox\": [{\"marker\": {\"colorbar\": {\"outlinewidth\": 0, \"ticks\": \"\"}}, \"type\": \"scattermapbox\"}], \"scatterpolar\": [{\"marker\": {\"colorbar\": {\"outlinewidth\": 0, \"ticks\": \"\"}}, \"type\": \"scatterpolar\"}], \"scatterpolargl\": [{\"marker\": {\"colorbar\": {\"outlinewidth\": 0, \"ticks\": \"\"}}, \"type\": \"scatterpolargl\"}], \"scatterternary\": [{\"marker\": {\"colorbar\": {\"outlinewidth\": 0, \"ticks\": \"\"}}, \"type\": \"scatterternary\"}], \"surface\": [{\"colorbar\": {\"outlinewidth\": 0, \"ticks\": \"\"}, \"colorscale\": [[0.0, \"#0d0887\"], [0.1111111111111111, \"#46039f\"], [0.2222222222222222, \"#7201a8\"], [0.3333333333333333, \"#9c179e\"], [0.4444444444444444, \"#bd3786\"], [0.5555555555555556, \"#d8576b\"], [0.6666666666666666, \"#ed7953\"], [0.7777777777777778, \"#fb9f3a\"], [0.8888888888888888, \"#fdca26\"], [1.0, \"#f0f921\"]], \"type\": \"surface\"}], \"table\": [{\"cells\": {\"fill\": {\"color\": \"#EBF0F8\"}, \"line\": {\"color\": \"white\"}}, \"header\": {\"fill\": {\"color\": \"#C8D4E3\"}, \"line\": {\"color\": \"white\"}}, \"type\": \"table\"}]}, \"layout\": {\"annotationdefaults\": {\"arrowcolor\": \"#2a3f5f\", \"arrowhead\": 0, \"arrowwidth\": 1}, \"coloraxis\": {\"colorbar\": {\"outlinewidth\": 0, \"ticks\": \"\"}}, \"colorscale\": {\"diverging\": [[0, \"#8e0152\"], [0.1, \"#c51b7d\"], [0.2, \"#de77ae\"], [0.3, \"#f1b6da\"], [0.4, \"#fde0ef\"], [0.5, \"#f7f7f7\"], [0.6, \"#e6f5d0\"], [0.7, \"#b8e186\"], [0.8, \"#7fbc41\"], [0.9, \"#4d9221\"], [1, \"#276419\"]], \"sequential\": [[0.0, \"#0d0887\"], [0.1111111111111111, \"#46039f\"], [0.2222222222222222, \"#7201a8\"], [0.3333333333333333, \"#9c179e\"], [0.4444444444444444, \"#bd3786\"], [0.5555555555555556, \"#d8576b\"], [0.6666666666666666, \"#ed7953\"], [0.7777777777777778, \"#fb9f3a\"], [0.8888888888888888, \"#fdca26\"], [1.0, \"#f0f921\"]], \"sequentialminus\": [[0.0, \"#0d0887\"], [0.1111111111111111, \"#46039f\"], [0.2222222222222222, \"#7201a8\"], [0.3333333333333333, \"#9c179e\"], [0.4444444444444444, \"#bd3786\"], [0.5555555555555556, \"#d8576b\"], [0.6666666666666666, \"#ed7953\"], [0.7777777777777778, \"#fb9f3a\"], [0.8888888888888888, \"#fdca26\"], [1.0, \"#f0f921\"]]}, \"colorway\": [\"#636efa\", \"#EF553B\", \"#00cc96\", \"#ab63fa\", \"#FFA15A\", \"#19d3f3\", \"#FF6692\", \"#B6E880\", \"#FF97FF\", \"#FECB52\"], \"font\": {\"color\": \"#2a3f5f\"}, \"geo\": {\"bgcolor\": \"white\", \"lakecolor\": \"white\", \"landcolor\": \"#E5ECF6\", \"showlakes\": true, \"showland\": true, \"subunitcolor\": \"white\"}, \"hoverlabel\": {\"align\": \"left\"}, \"hovermode\": \"closest\", \"mapbox\": {\"style\": \"light\"}, \"paper_bgcolor\": \"white\", \"plot_bgcolor\": \"#E5ECF6\", \"polar\": {\"angularaxis\": {\"gridcolor\": \"white\", \"linecolor\": \"white\", \"ticks\": \"\"}, \"bgcolor\": \"#E5ECF6\", \"radialaxis\": {\"gridcolor\": \"white\", \"linecolor\": \"white\", \"ticks\": \"\"}}, \"scene\": {\"xaxis\": {\"backgroundcolor\": \"#E5ECF6\", \"gridcolor\": \"white\", \"gridwidth\": 2, \"linecolor\": \"white\", \"showbackground\": true, \"ticks\": \"\", \"zerolinecolor\": \"white\"}, \"yaxis\": {\"backgroundcolor\": \"#E5ECF6\", \"gridcolor\": \"white\", \"gridwidth\": 2, \"linecolor\": \"white\", \"showbackground\": true, \"ticks\": \"\", \"zerolinecolor\": \"white\"}, \"zaxis\": {\"backgroundcolor\": \"#E5ECF6\", \"gridcolor\": \"white\", \"gridwidth\": 2, \"linecolor\": \"white\", \"showbackground\": true, \"ticks\": \"\", \"zerolinecolor\": \"white\"}}, \"shapedefaults\": {\"line\": {\"color\": \"#2a3f5f\"}}, \"ternary\": {\"aaxis\": {\"gridcolor\": \"white\", \"linecolor\": \"white\", \"ticks\": \"\"}, \"baxis\": {\"gridcolor\": \"white\", \"linecolor\": \"white\", \"ticks\": \"\"}, \"bgcolor\": \"#E5ECF6\", \"caxis\": {\"gridcolor\": \"white\", \"linecolor\": \"white\", \"ticks\": \"\"}}, \"title\": {\"x\": 0.05}, \"xaxis\": {\"automargin\": true, \"gridcolor\": \"white\", \"linecolor\": \"white\", \"ticks\": \"\", \"title\": {\"standoff\": 15}, \"zerolinecolor\": \"white\", \"zerolinewidth\": 2}, \"yaxis\": {\"automargin\": true, \"gridcolor\": \"white\", \"linecolor\": \"white\", \"ticks\": \"\", \"title\": {\"standoff\": 15}, \"zerolinecolor\": \"white\", \"zerolinewidth\": 2}}}, \"title\": {\"text\": \"Coronavirus Cases in India on daily basis\"}, \"xaxis\": {\"anchor\": \"y\", \"domain\": [0.0, 1.0], \"title\": {\"text\": \"Date\"}}, \"yaxis\": {\"anchor\": \"x\", \"domain\": [0.0, 1.0], \"title\": {\"text\": \"New Cases\"}}},\n",
              "                        {\"responsive\": true}\n",
              "                    ).then(function(){\n",
              "                            \n",
              "var gd = document.getElementById('e73f1fa2-d458-4ae5-84e7-e2a91b8ece52');\n",
              "var x = new MutationObserver(function (mutations, observer) {{\n",
              "        var display = window.getComputedStyle(gd).display;\n",
              "        if (!display || display === 'none') {{\n",
              "            console.log([gd, 'removed!']);\n",
              "            Plotly.purge(gd);\n",
              "            observer.disconnect();\n",
              "        }}\n",
              "}});\n",
              "\n",
              "// Listen for the removal of the full notebook cells\n",
              "var notebookContainer = gd.closest('#notebook-container');\n",
              "if (notebookContainer) {{\n",
              "    x.observe(notebookContainer, {childList: true});\n",
              "}}\n",
              "\n",
              "// Listen for the clearing of the current output cell\n",
              "var outputEl = gd.closest('.output');\n",
              "if (outputEl) {{\n",
              "    x.observe(outputEl, {childList: true});\n",
              "}}\n",
              "\n",
              "                        })\n",
              "                };\n",
              "                \n",
              "            </script>\n",
              "        </div>\n",
              "</body>\n",
              "</html>"
            ]
          },
          "metadata": {
            "tags": []
          }
        }
      ]
    },
    {
      "cell_type": "markdown",
      "metadata": {
        "id": "7auHzQ1edhFV",
        "colab_type": "text"
      },
      "source": [
        "# Part 2: Is the trend similar to Italy/ S.Korea/ Wuhan?\n"
      ]
    },
    {
      "cell_type": "markdown",
      "metadata": {
        "id": "pNymUdqdpLMd",
        "colab_type": "text"
      },
      "source": [
        "India has already crossed 562 cases. It is very important to contain the situation in the coming 21 days.The numbers of coronavirus patients starting doubling after these countries hit the 100 mark and almost starting increasing exponentially."
      ]
    },
    {
      "cell_type": "markdown",
      "metadata": {
        "id": "PfZbFocZdhFh",
        "colab_type": "text"
      },
      "source": [
        "## 2.1 Cumulative cases in India, Italy, S.Korea, and Wuhan"
      ]
    },
    {
      "cell_type": "code",
      "metadata": {
        "_kg_hide-input": true,
        "_kg_hide-output": false,
        "id": "EhWz417_dhFk",
        "colab_type": "code",
        "outputId": "691ff722-eb6e-45bc-fc37-b64e6505e2b1",
        "colab": {
          "base_uri": "https://localhost:8080/",
          "height": 1000
        }
      },
      "source": [
        "# import plotly.express as px\n",
        "fig = px.bar(dbd_India, x=\"Date\", y=\"Total Cases\", color='Total Cases', orientation='v', height=600,\n",
        "             title='Confirmed Cases in India', color_discrete_sequence = px.colors.cyclical.IceFire)\n",
        "\n",
        "'''Colour Scale for plotly\n",
        "https://plot.ly/python/builtin-colorscales/\n",
        "'''\n",
        "\n",
        "fig.update_layout(plot_bgcolor='rgb(230, 230, 230)')\n",
        "fig.show()\n",
        "\n",
        "fig = px.bar(dbd_Italy, x=\"Date\", y=\"Total Cases\", color='Total Cases', orientation='v', height=600,\n",
        "             title='Confirmed Cases in Italy', color_discrete_sequence = px.colors.cyclical.IceFire)\n",
        "\n",
        "fig.update_layout(plot_bgcolor='rgb(230, 230, 230)')\n",
        "fig.show()\n",
        "\n",
        "fig = px.bar(dbd_Korea, x=\"Date\", y=\"Total Cases\", color='Total Cases', orientation='v', height=600,\n",
        "             title='Confirmed Cases in South Korea', color_discrete_sequence = px.colors.cyclical.IceFire)\n",
        "\n",
        "fig.update_layout(plot_bgcolor='rgb(230, 230, 230)')\n",
        "fig.show()\n",
        "fig = px.bar(dbd_Wuhan, x=\"Date\", y=\"Total Cases\", color='Total Cases', orientation='v', height=600,\n",
        "             title='Confirmed Cases in Wuhan', color_discrete_sequence = px.colors.cyclical.IceFire)\n",
        "\n",
        "fig.update_layout(plot_bgcolor='rgb(230, 230, 230)')\n",
        "fig.show()"
      ],
      "execution_count": 16,
      "outputs": [
        {
          "output_type": "display_data",
          "data": {
            "text/html": [
              "<html>\n",
              "<head><meta charset=\"utf-8\" /></head>\n",
              "<body>\n",
              "    <div>\n",
              "            <script src=\"https://cdnjs.cloudflare.com/ajax/libs/mathjax/2.7.5/MathJax.js?config=TeX-AMS-MML_SVG\"></script><script type=\"text/javascript\">if (window.MathJax) {MathJax.Hub.Config({SVG: {font: \"STIX-Web\"}});}</script>\n",
              "                <script type=\"text/javascript\">window.PlotlyConfig = {MathJaxConfig: 'local'};</script>\n",
              "        <script src=\"https://cdn.plot.ly/plotly-latest.min.js\"></script>    \n",
              "            <div id=\"4f77ff27-53ee-4c41-b695-7bffe3b187d0\" class=\"plotly-graph-div\" style=\"height:600px; width:100%;\"></div>\n",
              "            <script type=\"text/javascript\">\n",
              "                \n",
              "                    window.PLOTLYENV=window.PLOTLYENV || {};\n",
              "                    \n",
              "                if (document.getElementById(\"4f77ff27-53ee-4c41-b695-7bffe3b187d0\")) {\n",
              "                    Plotly.newPlot(\n",
              "                        '4f77ff27-53ee-4c41-b695-7bffe3b187d0',\n",
              "                        [{\"alignmentgroup\": \"True\", \"hoverlabel\": {\"namelength\": 0}, \"hovertemplate\": \"Date=%{x}<br>Total Cases=%{marker.color}\", \"legendgroup\": \"\", \"marker\": {\"color\": [1, 1, 1, 2, 3, 3, 3, 3, 3, 3, 3, 3, 3, 3, 3, 3, 3, 3, 3, 3, 3, 3, 3, 3, 3, 3, 3, 3, 3, 3, 3, 3, 6, 9, 28, 30, 31, 34, 39, 43, 56, 62, 73, 82, 102, 113, 119, 142, 156, 194, 244, 330, 396, 499, 536, 562], \"coloraxis\": \"coloraxis\"}, \"name\": \"\", \"offsetgroup\": \"\", \"orientation\": \"v\", \"showlegend\": false, \"textposition\": \"auto\", \"type\": \"bar\", \"x\": [\"2020-01-30T00:00:00\", \"2020-01-31T00:00:00\", \"2020-02-01T00:00:00\", \"2020-02-02T00:00:00\", \"2020-02-03T00:00:00\", \"2020-02-04T00:00:00\", \"2020-02-05T00:00:00\", \"2020-02-06T00:00:00\", \"2020-02-07T00:00:00\", \"2020-02-08T00:00:00\", \"2020-02-09T00:00:00\", \"2020-02-10T00:00:00\", \"2020-02-11T00:00:00\", \"2020-02-12T00:00:00\", \"2020-02-13T00:00:00\", \"2020-02-14T00:00:00\", \"2020-02-15T00:00:00\", \"2020-02-16T00:00:00\", \"2020-02-17T00:00:00\", \"2020-02-18T00:00:00\", \"2020-02-19T00:00:00\", \"2020-02-20T00:00:00\", \"2020-02-21T00:00:00\", \"2020-02-22T00:00:00\", \"2020-02-23T00:00:00\", \"2020-02-24T00:00:00\", \"2020-02-25T00:00:00\", \"2020-02-26T00:00:00\", \"2020-02-27T00:00:00\", \"2020-02-28T00:00:00\", \"2020-02-29T00:00:00\", \"2020-03-01T00:00:00\", \"2020-03-02T00:00:00\", \"2020-03-03T00:00:00\", \"2020-03-04T00:00:00\", \"2020-03-05T00:00:00\", \"2020-03-06T00:00:00\", \"2020-03-07T00:00:00\", \"2020-03-08T00:00:00\", \"2020-03-09T00:00:00\", \"2020-03-10T00:00:00\", \"2020-03-11T00:00:00\", \"2020-03-12T00:00:00\", \"2020-03-13T00:00:00\", \"2020-03-14T00:00:00\", \"2020-03-15T00:00:00\", \"2020-03-16T00:00:00\", \"2020-03-17T00:00:00\", \"2020-03-18T00:00:00\", \"2020-03-19T00:00:00\", \"2020-03-20T00:00:00\", \"2020-03-21T00:00:00\", \"2020-03-22T00:00:00\", \"2020-03-23T00:00:00\", \"2020-03-24T00:00:00\", \"2020-03-25T00:00:00\"], \"xaxis\": \"x\", \"y\": [1, 1, 1, 2, 3, 3, 3, 3, 3, 3, 3, 3, 3, 3, 3, 3, 3, 3, 3, 3, 3, 3, 3, 3, 3, 3, 3, 3, 3, 3, 3, 3, 6, 9, 28, 30, 31, 34, 39, 43, 56, 62, 73, 82, 102, 113, 119, 142, 156, 194, 244, 330, 396, 499, 536, 562], \"yaxis\": \"y\"}],\n",
              "                        {\"barmode\": \"relative\", \"coloraxis\": {\"colorbar\": {\"title\": {\"text\": \"Total Cases\"}}, \"colorscale\": [[0.0, \"#0d0887\"], [0.1111111111111111, \"#46039f\"], [0.2222222222222222, \"#7201a8\"], [0.3333333333333333, \"#9c179e\"], [0.4444444444444444, \"#bd3786\"], [0.5555555555555556, \"#d8576b\"], [0.6666666666666666, \"#ed7953\"], [0.7777777777777778, \"#fb9f3a\"], [0.8888888888888888, \"#fdca26\"], [1.0, \"#f0f921\"]]}, \"height\": 600, \"legend\": {\"tracegroupgap\": 0}, \"plot_bgcolor\": \"rgb(230, 230, 230)\", \"template\": {\"data\": {\"bar\": [{\"error_x\": {\"color\": \"#2a3f5f\"}, \"error_y\": {\"color\": \"#2a3f5f\"}, \"marker\": {\"line\": {\"color\": \"#E5ECF6\", \"width\": 0.5}}, \"type\": \"bar\"}], \"barpolar\": [{\"marker\": {\"line\": {\"color\": \"#E5ECF6\", \"width\": 0.5}}, \"type\": \"barpolar\"}], \"carpet\": [{\"aaxis\": {\"endlinecolor\": \"#2a3f5f\", \"gridcolor\": \"white\", \"linecolor\": \"white\", \"minorgridcolor\": \"white\", \"startlinecolor\": \"#2a3f5f\"}, \"baxis\": {\"endlinecolor\": \"#2a3f5f\", \"gridcolor\": \"white\", \"linecolor\": \"white\", \"minorgridcolor\": \"white\", \"startlinecolor\": \"#2a3f5f\"}, \"type\": \"carpet\"}], \"choropleth\": [{\"colorbar\": {\"outlinewidth\": 0, \"ticks\": \"\"}, \"type\": \"choropleth\"}], \"contour\": [{\"colorbar\": {\"outlinewidth\": 0, \"ticks\": \"\"}, \"colorscale\": [[0.0, \"#0d0887\"], [0.1111111111111111, \"#46039f\"], [0.2222222222222222, \"#7201a8\"], [0.3333333333333333, \"#9c179e\"], [0.4444444444444444, \"#bd3786\"], [0.5555555555555556, \"#d8576b\"], [0.6666666666666666, \"#ed7953\"], [0.7777777777777778, \"#fb9f3a\"], [0.8888888888888888, \"#fdca26\"], [1.0, \"#f0f921\"]], \"type\": \"contour\"}], \"contourcarpet\": [{\"colorbar\": {\"outlinewidth\": 0, \"ticks\": \"\"}, \"type\": \"contourcarpet\"}], \"heatmap\": [{\"colorbar\": {\"outlinewidth\": 0, \"ticks\": \"\"}, \"colorscale\": [[0.0, \"#0d0887\"], [0.1111111111111111, \"#46039f\"], [0.2222222222222222, \"#7201a8\"], [0.3333333333333333, \"#9c179e\"], [0.4444444444444444, \"#bd3786\"], [0.5555555555555556, \"#d8576b\"], [0.6666666666666666, \"#ed7953\"], [0.7777777777777778, \"#fb9f3a\"], [0.8888888888888888, \"#fdca26\"], [1.0, \"#f0f921\"]], \"type\": \"heatmap\"}], \"heatmapgl\": [{\"colorbar\": {\"outlinewidth\": 0, \"ticks\": \"\"}, \"colorscale\": [[0.0, \"#0d0887\"], [0.1111111111111111, \"#46039f\"], [0.2222222222222222, \"#7201a8\"], [0.3333333333333333, \"#9c179e\"], [0.4444444444444444, \"#bd3786\"], [0.5555555555555556, \"#d8576b\"], [0.6666666666666666, \"#ed7953\"], [0.7777777777777778, \"#fb9f3a\"], [0.8888888888888888, \"#fdca26\"], [1.0, \"#f0f921\"]], \"type\": \"heatmapgl\"}], \"histogram\": [{\"marker\": {\"colorbar\": {\"outlinewidth\": 0, \"ticks\": \"\"}}, \"type\": \"histogram\"}], \"histogram2d\": [{\"colorbar\": {\"outlinewidth\": 0, \"ticks\": \"\"}, \"colorscale\": [[0.0, \"#0d0887\"], [0.1111111111111111, \"#46039f\"], [0.2222222222222222, \"#7201a8\"], [0.3333333333333333, \"#9c179e\"], [0.4444444444444444, \"#bd3786\"], [0.5555555555555556, \"#d8576b\"], [0.6666666666666666, \"#ed7953\"], [0.7777777777777778, \"#fb9f3a\"], [0.8888888888888888, \"#fdca26\"], [1.0, \"#f0f921\"]], \"type\": \"histogram2d\"}], \"histogram2dcontour\": [{\"colorbar\": {\"outlinewidth\": 0, \"ticks\": \"\"}, \"colorscale\": [[0.0, \"#0d0887\"], [0.1111111111111111, \"#46039f\"], [0.2222222222222222, \"#7201a8\"], [0.3333333333333333, \"#9c179e\"], [0.4444444444444444, \"#bd3786\"], [0.5555555555555556, \"#d8576b\"], [0.6666666666666666, \"#ed7953\"], [0.7777777777777778, \"#fb9f3a\"], [0.8888888888888888, \"#fdca26\"], [1.0, \"#f0f921\"]], \"type\": \"histogram2dcontour\"}], \"mesh3d\": [{\"colorbar\": {\"outlinewidth\": 0, \"ticks\": \"\"}, \"type\": \"mesh3d\"}], \"parcoords\": [{\"line\": {\"colorbar\": {\"outlinewidth\": 0, \"ticks\": \"\"}}, \"type\": \"parcoords\"}], \"pie\": [{\"automargin\": true, \"type\": \"pie\"}], \"scatter\": [{\"marker\": {\"colorbar\": {\"outlinewidth\": 0, \"ticks\": \"\"}}, \"type\": \"scatter\"}], \"scatter3d\": [{\"line\": {\"colorbar\": {\"outlinewidth\": 0, \"ticks\": \"\"}}, \"marker\": {\"colorbar\": {\"outlinewidth\": 0, \"ticks\": \"\"}}, \"type\": \"scatter3d\"}], \"scattercarpet\": [{\"marker\": {\"colorbar\": {\"outlinewidth\": 0, \"ticks\": \"\"}}, \"type\": \"scattercarpet\"}], \"scattergeo\": [{\"marker\": {\"colorbar\": {\"outlinewidth\": 0, \"ticks\": \"\"}}, \"type\": \"scattergeo\"}], \"scattergl\": [{\"marker\": {\"colorbar\": {\"outlinewidth\": 0, \"ticks\": \"\"}}, \"type\": \"scattergl\"}], \"scattermapbox\": [{\"marker\": {\"colorbar\": {\"outlinewidth\": 0, \"ticks\": \"\"}}, \"type\": \"scattermapbox\"}], \"scatterpolar\": [{\"marker\": {\"colorbar\": {\"outlinewidth\": 0, \"ticks\": \"\"}}, \"type\": \"scatterpolar\"}], \"scatterpolargl\": [{\"marker\": {\"colorbar\": {\"outlinewidth\": 0, \"ticks\": \"\"}}, \"type\": \"scatterpolargl\"}], \"scatterternary\": [{\"marker\": {\"colorbar\": {\"outlinewidth\": 0, \"ticks\": \"\"}}, \"type\": \"scatterternary\"}], \"surface\": [{\"colorbar\": {\"outlinewidth\": 0, \"ticks\": \"\"}, \"colorscale\": [[0.0, \"#0d0887\"], [0.1111111111111111, \"#46039f\"], [0.2222222222222222, \"#7201a8\"], [0.3333333333333333, \"#9c179e\"], [0.4444444444444444, \"#bd3786\"], [0.5555555555555556, \"#d8576b\"], [0.6666666666666666, \"#ed7953\"], [0.7777777777777778, \"#fb9f3a\"], [0.8888888888888888, \"#fdca26\"], [1.0, \"#f0f921\"]], \"type\": \"surface\"}], \"table\": [{\"cells\": {\"fill\": {\"color\": \"#EBF0F8\"}, \"line\": {\"color\": \"white\"}}, \"header\": {\"fill\": {\"color\": \"#C8D4E3\"}, \"line\": {\"color\": \"white\"}}, \"type\": \"table\"}]}, \"layout\": {\"annotationdefaults\": {\"arrowcolor\": \"#2a3f5f\", \"arrowhead\": 0, \"arrowwidth\": 1}, \"coloraxis\": {\"colorbar\": {\"outlinewidth\": 0, \"ticks\": \"\"}}, \"colorscale\": {\"diverging\": [[0, \"#8e0152\"], [0.1, \"#c51b7d\"], [0.2, \"#de77ae\"], [0.3, \"#f1b6da\"], [0.4, \"#fde0ef\"], [0.5, \"#f7f7f7\"], [0.6, \"#e6f5d0\"], [0.7, \"#b8e186\"], [0.8, \"#7fbc41\"], [0.9, \"#4d9221\"], [1, \"#276419\"]], \"sequential\": [[0.0, \"#0d0887\"], [0.1111111111111111, \"#46039f\"], [0.2222222222222222, \"#7201a8\"], [0.3333333333333333, \"#9c179e\"], [0.4444444444444444, \"#bd3786\"], [0.5555555555555556, \"#d8576b\"], [0.6666666666666666, \"#ed7953\"], [0.7777777777777778, \"#fb9f3a\"], [0.8888888888888888, \"#fdca26\"], [1.0, \"#f0f921\"]], \"sequentialminus\": [[0.0, \"#0d0887\"], [0.1111111111111111, \"#46039f\"], [0.2222222222222222, \"#7201a8\"], [0.3333333333333333, \"#9c179e\"], [0.4444444444444444, \"#bd3786\"], [0.5555555555555556, \"#d8576b\"], [0.6666666666666666, \"#ed7953\"], [0.7777777777777778, \"#fb9f3a\"], [0.8888888888888888, \"#fdca26\"], [1.0, \"#f0f921\"]]}, \"colorway\": [\"#636efa\", \"#EF553B\", \"#00cc96\", \"#ab63fa\", \"#FFA15A\", \"#19d3f3\", \"#FF6692\", \"#B6E880\", \"#FF97FF\", \"#FECB52\"], \"font\": {\"color\": \"#2a3f5f\"}, \"geo\": {\"bgcolor\": \"white\", \"lakecolor\": \"white\", \"landcolor\": \"#E5ECF6\", \"showlakes\": true, \"showland\": true, \"subunitcolor\": \"white\"}, \"hoverlabel\": {\"align\": \"left\"}, \"hovermode\": \"closest\", \"mapbox\": {\"style\": \"light\"}, \"paper_bgcolor\": \"white\", \"plot_bgcolor\": \"#E5ECF6\", \"polar\": {\"angularaxis\": {\"gridcolor\": \"white\", \"linecolor\": \"white\", \"ticks\": \"\"}, \"bgcolor\": \"#E5ECF6\", \"radialaxis\": {\"gridcolor\": \"white\", \"linecolor\": \"white\", \"ticks\": \"\"}}, \"scene\": {\"xaxis\": {\"backgroundcolor\": \"#E5ECF6\", \"gridcolor\": \"white\", \"gridwidth\": 2, \"linecolor\": \"white\", \"showbackground\": true, \"ticks\": \"\", \"zerolinecolor\": \"white\"}, \"yaxis\": {\"backgroundcolor\": \"#E5ECF6\", \"gridcolor\": \"white\", \"gridwidth\": 2, \"linecolor\": \"white\", \"showbackground\": true, \"ticks\": \"\", \"zerolinecolor\": \"white\"}, \"zaxis\": {\"backgroundcolor\": \"#E5ECF6\", \"gridcolor\": \"white\", \"gridwidth\": 2, \"linecolor\": \"white\", \"showbackground\": true, \"ticks\": \"\", \"zerolinecolor\": \"white\"}}, \"shapedefaults\": {\"line\": {\"color\": \"#2a3f5f\"}}, \"ternary\": {\"aaxis\": {\"gridcolor\": \"white\", \"linecolor\": \"white\", \"ticks\": \"\"}, \"baxis\": {\"gridcolor\": \"white\", \"linecolor\": \"white\", \"ticks\": \"\"}, \"bgcolor\": \"#E5ECF6\", \"caxis\": {\"gridcolor\": \"white\", \"linecolor\": \"white\", \"ticks\": \"\"}}, \"title\": {\"x\": 0.05}, \"xaxis\": {\"automargin\": true, \"gridcolor\": \"white\", \"linecolor\": \"white\", \"ticks\": \"\", \"title\": {\"standoff\": 15}, \"zerolinecolor\": \"white\", \"zerolinewidth\": 2}, \"yaxis\": {\"automargin\": true, \"gridcolor\": \"white\", \"linecolor\": \"white\", \"ticks\": \"\", \"title\": {\"standoff\": 15}, \"zerolinecolor\": \"white\", \"zerolinewidth\": 2}}}, \"title\": {\"text\": \"Confirmed Cases in India\"}, \"xaxis\": {\"anchor\": \"y\", \"domain\": [0.0, 1.0], \"title\": {\"text\": \"Date\"}}, \"yaxis\": {\"anchor\": \"x\", \"domain\": [0.0, 1.0], \"title\": {\"text\": \"Total Cases\"}}},\n",
              "                        {\"responsive\": true}\n",
              "                    ).then(function(){\n",
              "                            \n",
              "var gd = document.getElementById('4f77ff27-53ee-4c41-b695-7bffe3b187d0');\n",
              "var x = new MutationObserver(function (mutations, observer) {{\n",
              "        var display = window.getComputedStyle(gd).display;\n",
              "        if (!display || display === 'none') {{\n",
              "            console.log([gd, 'removed!']);\n",
              "            Plotly.purge(gd);\n",
              "            observer.disconnect();\n",
              "        }}\n",
              "}});\n",
              "\n",
              "// Listen for the removal of the full notebook cells\n",
              "var notebookContainer = gd.closest('#notebook-container');\n",
              "if (notebookContainer) {{\n",
              "    x.observe(notebookContainer, {childList: true});\n",
              "}}\n",
              "\n",
              "// Listen for the clearing of the current output cell\n",
              "var outputEl = gd.closest('.output');\n",
              "if (outputEl) {{\n",
              "    x.observe(outputEl, {childList: true});\n",
              "}}\n",
              "\n",
              "                        })\n",
              "                };\n",
              "                \n",
              "            </script>\n",
              "        </div>\n",
              "</body>\n",
              "</html>"
            ]
          },
          "metadata": {
            "tags": []
          }
        },
        {
          "output_type": "display_data",
          "data": {
            "text/html": [
              "<html>\n",
              "<head><meta charset=\"utf-8\" /></head>\n",
              "<body>\n",
              "    <div>\n",
              "            <script src=\"https://cdnjs.cloudflare.com/ajax/libs/mathjax/2.7.5/MathJax.js?config=TeX-AMS-MML_SVG\"></script><script type=\"text/javascript\">if (window.MathJax) {MathJax.Hub.Config({SVG: {font: \"STIX-Web\"}});}</script>\n",
              "                <script type=\"text/javascript\">window.PlotlyConfig = {MathJaxConfig: 'local'};</script>\n",
              "        <script src=\"https://cdn.plot.ly/plotly-latest.min.js\"></script>    \n",
              "            <div id=\"3ca3b9d0-2a0d-4dbb-9f39-59999211f695\" class=\"plotly-graph-div\" style=\"height:600px; width:100%;\"></div>\n",
              "            <script type=\"text/javascript\">\n",
              "                \n",
              "                    window.PLOTLYENV=window.PLOTLYENV || {};\n",
              "                    \n",
              "                if (document.getElementById(\"3ca3b9d0-2a0d-4dbb-9f39-59999211f695\")) {\n",
              "                    Plotly.newPlot(\n",
              "                        '3ca3b9d0-2a0d-4dbb-9f39-59999211f695',\n",
              "                        [{\"alignmentgroup\": \"True\", \"hoverlabel\": {\"namelength\": 0}, \"hovertemplate\": \"Date=%{x}<br>Total Cases=%{marker.color}\", \"legendgroup\": \"\", \"marker\": {\"color\": [2, 2, 2, 2, 2, 2, 3, 3, 3, 3, 3, 3, 3, 3, 3, 3, 3, 3, 3, 3, 3, 3, 20, 79, 157, 229, 323, 470, 655, 889, 1128, 1701, 2036, 2502, 3089, 3858, 4636, 5883, 7375, 9172, 10149, 12462, 15113, 17660, 21157, 24747, 27980, 31506, 35713, 41035, 47021, 53578, 59138, 63927, 69176], \"coloraxis\": \"coloraxis\"}, \"name\": \"\", \"offsetgroup\": \"\", \"orientation\": \"v\", \"showlegend\": false, \"textposition\": \"auto\", \"type\": \"bar\", \"x\": [\"2020-01-31T00:00:00\", \"2020-02-01T00:00:00\", \"2020-02-02T00:00:00\", \"2020-02-03T00:00:00\", \"2020-02-04T00:00:00\", \"2020-02-05T00:00:00\", \"2020-02-06T00:00:00\", \"2020-02-07T00:00:00\", \"2020-02-08T00:00:00\", \"2020-02-09T00:00:00\", \"2020-02-10T00:00:00\", \"2020-02-11T00:00:00\", \"2020-02-12T00:00:00\", \"2020-02-13T00:00:00\", \"2020-02-14T00:00:00\", \"2020-02-15T00:00:00\", \"2020-02-15T00:00:00\", \"2020-02-16T00:00:00\", \"2020-02-17T00:00:00\", \"2020-02-18T00:00:00\", \"2020-02-19T00:00:00\", \"2020-02-20T00:00:00\", \"2020-02-21T00:00:00\", \"2020-02-22T00:00:00\", \"2020-02-23T00:00:00\", \"2020-02-24T00:00:00\", \"2020-02-25T00:00:00\", \"2020-02-26T00:00:00\", \"2020-02-27T00:00:00\", \"2020-02-28T00:00:00\", \"2020-02-29T00:00:00\", \"2020-03-01T00:00:00\", \"2020-03-02T00:00:00\", \"2020-03-03T00:00:00\", \"2020-03-04T00:00:00\", \"2020-03-05T00:00:00\", \"2020-03-06T00:00:00\", \"2020-03-07T00:00:00\", \"2020-03-08T00:00:00\", \"2020-03-09T00:00:00\", \"2020-03-10T00:00:00\", \"2020-03-11T00:00:00\", \"2020-03-12T00:00:00\", \"2020-03-13T00:00:00\", \"2020-03-14T00:00:00\", \"2020-03-15T00:00:00\", \"2020-03-16T00:00:00\", \"2020-03-17T00:00:00\", \"2020-03-18T00:00:00\", \"2020-03-19T00:00:00\", \"2020-03-20T00:00:00\", \"2020-03-21T00:00:00\", \"2020-03-22T00:00:00\", \"2020-03-23T00:00:00\", \"2020-03-24T00:00:00\"], \"xaxis\": \"x\", \"y\": [2, 2, 2, 2, 2, 2, 3, 3, 3, 3, 3, 3, 3, 3, 3, 3, 3, 3, 3, 3, 3, 3, 20, 79, 157, 229, 323, 470, 655, 889, 1128, 1701, 2036, 2502, 3089, 3858, 4636, 5883, 7375, 9172, 10149, 12462, 15113, 17660, 21157, 24747, 27980, 31506, 35713, 41035, 47021, 53578, 59138, 63927, 69176], \"yaxis\": \"y\"}],\n",
              "                        {\"barmode\": \"relative\", \"coloraxis\": {\"colorbar\": {\"title\": {\"text\": \"Total Cases\"}}, \"colorscale\": [[0.0, \"#0d0887\"], [0.1111111111111111, \"#46039f\"], [0.2222222222222222, \"#7201a8\"], [0.3333333333333333, \"#9c179e\"], [0.4444444444444444, \"#bd3786\"], [0.5555555555555556, \"#d8576b\"], [0.6666666666666666, \"#ed7953\"], [0.7777777777777778, \"#fb9f3a\"], [0.8888888888888888, \"#fdca26\"], [1.0, \"#f0f921\"]]}, \"height\": 600, \"legend\": {\"tracegroupgap\": 0}, \"plot_bgcolor\": \"rgb(230, 230, 230)\", \"template\": {\"data\": {\"bar\": [{\"error_x\": {\"color\": \"#2a3f5f\"}, \"error_y\": {\"color\": \"#2a3f5f\"}, \"marker\": {\"line\": {\"color\": \"#E5ECF6\", \"width\": 0.5}}, \"type\": \"bar\"}], \"barpolar\": [{\"marker\": {\"line\": {\"color\": \"#E5ECF6\", \"width\": 0.5}}, \"type\": \"barpolar\"}], \"carpet\": [{\"aaxis\": {\"endlinecolor\": \"#2a3f5f\", \"gridcolor\": \"white\", \"linecolor\": \"white\", \"minorgridcolor\": \"white\", \"startlinecolor\": \"#2a3f5f\"}, \"baxis\": {\"endlinecolor\": \"#2a3f5f\", \"gridcolor\": \"white\", \"linecolor\": \"white\", \"minorgridcolor\": \"white\", \"startlinecolor\": \"#2a3f5f\"}, \"type\": \"carpet\"}], \"choropleth\": [{\"colorbar\": {\"outlinewidth\": 0, \"ticks\": \"\"}, \"type\": \"choropleth\"}], \"contour\": [{\"colorbar\": {\"outlinewidth\": 0, \"ticks\": \"\"}, \"colorscale\": [[0.0, \"#0d0887\"], [0.1111111111111111, \"#46039f\"], [0.2222222222222222, \"#7201a8\"], [0.3333333333333333, \"#9c179e\"], [0.4444444444444444, \"#bd3786\"], [0.5555555555555556, \"#d8576b\"], [0.6666666666666666, \"#ed7953\"], [0.7777777777777778, \"#fb9f3a\"], [0.8888888888888888, \"#fdca26\"], [1.0, \"#f0f921\"]], \"type\": \"contour\"}], \"contourcarpet\": [{\"colorbar\": {\"outlinewidth\": 0, \"ticks\": \"\"}, \"type\": \"contourcarpet\"}], \"heatmap\": [{\"colorbar\": {\"outlinewidth\": 0, \"ticks\": \"\"}, \"colorscale\": [[0.0, \"#0d0887\"], [0.1111111111111111, \"#46039f\"], [0.2222222222222222, \"#7201a8\"], [0.3333333333333333, \"#9c179e\"], [0.4444444444444444, \"#bd3786\"], [0.5555555555555556, \"#d8576b\"], [0.6666666666666666, \"#ed7953\"], [0.7777777777777778, \"#fb9f3a\"], [0.8888888888888888, \"#fdca26\"], [1.0, \"#f0f921\"]], \"type\": \"heatmap\"}], \"heatmapgl\": [{\"colorbar\": {\"outlinewidth\": 0, \"ticks\": \"\"}, \"colorscale\": [[0.0, \"#0d0887\"], [0.1111111111111111, \"#46039f\"], [0.2222222222222222, \"#7201a8\"], [0.3333333333333333, \"#9c179e\"], [0.4444444444444444, \"#bd3786\"], [0.5555555555555556, \"#d8576b\"], [0.6666666666666666, \"#ed7953\"], [0.7777777777777778, \"#fb9f3a\"], [0.8888888888888888, \"#fdca26\"], [1.0, \"#f0f921\"]], \"type\": \"heatmapgl\"}], \"histogram\": [{\"marker\": {\"colorbar\": {\"outlinewidth\": 0, \"ticks\": \"\"}}, \"type\": \"histogram\"}], \"histogram2d\": [{\"colorbar\": {\"outlinewidth\": 0, \"ticks\": \"\"}, \"colorscale\": [[0.0, \"#0d0887\"], [0.1111111111111111, \"#46039f\"], [0.2222222222222222, \"#7201a8\"], [0.3333333333333333, \"#9c179e\"], [0.4444444444444444, \"#bd3786\"], [0.5555555555555556, \"#d8576b\"], [0.6666666666666666, \"#ed7953\"], [0.7777777777777778, \"#fb9f3a\"], [0.8888888888888888, \"#fdca26\"], [1.0, \"#f0f921\"]], \"type\": \"histogram2d\"}], \"histogram2dcontour\": [{\"colorbar\": {\"outlinewidth\": 0, \"ticks\": \"\"}, \"colorscale\": [[0.0, \"#0d0887\"], [0.1111111111111111, \"#46039f\"], [0.2222222222222222, \"#7201a8\"], [0.3333333333333333, \"#9c179e\"], [0.4444444444444444, \"#bd3786\"], [0.5555555555555556, \"#d8576b\"], [0.6666666666666666, \"#ed7953\"], [0.7777777777777778, \"#fb9f3a\"], [0.8888888888888888, \"#fdca26\"], [1.0, \"#f0f921\"]], \"type\": \"histogram2dcontour\"}], \"mesh3d\": [{\"colorbar\": {\"outlinewidth\": 0, \"ticks\": \"\"}, \"type\": \"mesh3d\"}], \"parcoords\": [{\"line\": {\"colorbar\": {\"outlinewidth\": 0, \"ticks\": \"\"}}, \"type\": \"parcoords\"}], \"pie\": [{\"automargin\": true, \"type\": \"pie\"}], \"scatter\": [{\"marker\": {\"colorbar\": {\"outlinewidth\": 0, \"ticks\": \"\"}}, \"type\": \"scatter\"}], \"scatter3d\": [{\"line\": {\"colorbar\": {\"outlinewidth\": 0, \"ticks\": \"\"}}, \"marker\": {\"colorbar\": {\"outlinewidth\": 0, \"ticks\": \"\"}}, \"type\": \"scatter3d\"}], \"scattercarpet\": [{\"marker\": {\"colorbar\": {\"outlinewidth\": 0, \"ticks\": \"\"}}, \"type\": \"scattercarpet\"}], \"scattergeo\": [{\"marker\": {\"colorbar\": {\"outlinewidth\": 0, \"ticks\": \"\"}}, \"type\": \"scattergeo\"}], \"scattergl\": [{\"marker\": {\"colorbar\": {\"outlinewidth\": 0, \"ticks\": \"\"}}, \"type\": \"scattergl\"}], \"scattermapbox\": [{\"marker\": {\"colorbar\": {\"outlinewidth\": 0, \"ticks\": \"\"}}, \"type\": \"scattermapbox\"}], \"scatterpolar\": [{\"marker\": {\"colorbar\": {\"outlinewidth\": 0, \"ticks\": \"\"}}, \"type\": \"scatterpolar\"}], \"scatterpolargl\": [{\"marker\": {\"colorbar\": {\"outlinewidth\": 0, \"ticks\": \"\"}}, \"type\": \"scatterpolargl\"}], \"scatterternary\": [{\"marker\": {\"colorbar\": {\"outlinewidth\": 0, \"ticks\": \"\"}}, \"type\": \"scatterternary\"}], \"surface\": [{\"colorbar\": {\"outlinewidth\": 0, \"ticks\": \"\"}, \"colorscale\": [[0.0, \"#0d0887\"], [0.1111111111111111, \"#46039f\"], [0.2222222222222222, \"#7201a8\"], [0.3333333333333333, \"#9c179e\"], [0.4444444444444444, \"#bd3786\"], [0.5555555555555556, \"#d8576b\"], [0.6666666666666666, \"#ed7953\"], [0.7777777777777778, \"#fb9f3a\"], [0.8888888888888888, \"#fdca26\"], [1.0, \"#f0f921\"]], \"type\": \"surface\"}], \"table\": [{\"cells\": {\"fill\": {\"color\": \"#EBF0F8\"}, \"line\": {\"color\": \"white\"}}, \"header\": {\"fill\": {\"color\": \"#C8D4E3\"}, \"line\": {\"color\": \"white\"}}, \"type\": \"table\"}]}, \"layout\": {\"annotationdefaults\": {\"arrowcolor\": \"#2a3f5f\", \"arrowhead\": 0, \"arrowwidth\": 1}, \"coloraxis\": {\"colorbar\": {\"outlinewidth\": 0, \"ticks\": \"\"}}, \"colorscale\": {\"diverging\": [[0, \"#8e0152\"], [0.1, \"#c51b7d\"], [0.2, \"#de77ae\"], [0.3, \"#f1b6da\"], [0.4, \"#fde0ef\"], [0.5, \"#f7f7f7\"], [0.6, \"#e6f5d0\"], [0.7, \"#b8e186\"], [0.8, \"#7fbc41\"], [0.9, \"#4d9221\"], [1, \"#276419\"]], \"sequential\": [[0.0, \"#0d0887\"], [0.1111111111111111, \"#46039f\"], [0.2222222222222222, \"#7201a8\"], [0.3333333333333333, \"#9c179e\"], [0.4444444444444444, \"#bd3786\"], [0.5555555555555556, \"#d8576b\"], [0.6666666666666666, \"#ed7953\"], [0.7777777777777778, \"#fb9f3a\"], [0.8888888888888888, \"#fdca26\"], [1.0, \"#f0f921\"]], \"sequentialminus\": [[0.0, \"#0d0887\"], [0.1111111111111111, \"#46039f\"], [0.2222222222222222, \"#7201a8\"], [0.3333333333333333, \"#9c179e\"], [0.4444444444444444, \"#bd3786\"], [0.5555555555555556, \"#d8576b\"], [0.6666666666666666, \"#ed7953\"], [0.7777777777777778, \"#fb9f3a\"], [0.8888888888888888, \"#fdca26\"], [1.0, \"#f0f921\"]]}, \"colorway\": [\"#636efa\", \"#EF553B\", \"#00cc96\", \"#ab63fa\", \"#FFA15A\", \"#19d3f3\", \"#FF6692\", \"#B6E880\", \"#FF97FF\", \"#FECB52\"], \"font\": {\"color\": \"#2a3f5f\"}, \"geo\": {\"bgcolor\": \"white\", \"lakecolor\": \"white\", \"landcolor\": \"#E5ECF6\", \"showlakes\": true, \"showland\": true, \"subunitcolor\": \"white\"}, \"hoverlabel\": {\"align\": \"left\"}, \"hovermode\": \"closest\", \"mapbox\": {\"style\": \"light\"}, \"paper_bgcolor\": \"white\", \"plot_bgcolor\": \"#E5ECF6\", \"polar\": {\"angularaxis\": {\"gridcolor\": \"white\", \"linecolor\": \"white\", \"ticks\": \"\"}, \"bgcolor\": \"#E5ECF6\", \"radialaxis\": {\"gridcolor\": \"white\", \"linecolor\": \"white\", \"ticks\": \"\"}}, \"scene\": {\"xaxis\": {\"backgroundcolor\": \"#E5ECF6\", \"gridcolor\": \"white\", \"gridwidth\": 2, \"linecolor\": \"white\", \"showbackground\": true, \"ticks\": \"\", \"zerolinecolor\": \"white\"}, \"yaxis\": {\"backgroundcolor\": \"#E5ECF6\", \"gridcolor\": \"white\", \"gridwidth\": 2, \"linecolor\": \"white\", \"showbackground\": true, \"ticks\": \"\", \"zerolinecolor\": \"white\"}, \"zaxis\": {\"backgroundcolor\": \"#E5ECF6\", \"gridcolor\": \"white\", \"gridwidth\": 2, \"linecolor\": \"white\", \"showbackground\": true, \"ticks\": \"\", \"zerolinecolor\": \"white\"}}, \"shapedefaults\": {\"line\": {\"color\": \"#2a3f5f\"}}, \"ternary\": {\"aaxis\": {\"gridcolor\": \"white\", \"linecolor\": \"white\", \"ticks\": \"\"}, \"baxis\": {\"gridcolor\": \"white\", \"linecolor\": \"white\", \"ticks\": \"\"}, \"bgcolor\": \"#E5ECF6\", \"caxis\": {\"gridcolor\": \"white\", \"linecolor\": \"white\", \"ticks\": \"\"}}, \"title\": {\"x\": 0.05}, \"xaxis\": {\"automargin\": true, \"gridcolor\": \"white\", \"linecolor\": \"white\", \"ticks\": \"\", \"title\": {\"standoff\": 15}, \"zerolinecolor\": \"white\", \"zerolinewidth\": 2}, \"yaxis\": {\"automargin\": true, \"gridcolor\": \"white\", \"linecolor\": \"white\", \"ticks\": \"\", \"title\": {\"standoff\": 15}, \"zerolinecolor\": \"white\", \"zerolinewidth\": 2}}}, \"title\": {\"text\": \"Confirmed Cases in Italy\"}, \"xaxis\": {\"anchor\": \"y\", \"domain\": [0.0, 1.0], \"title\": {\"text\": \"Date\"}}, \"yaxis\": {\"anchor\": \"x\", \"domain\": [0.0, 1.0], \"title\": {\"text\": \"Total Cases\"}}},\n",
              "                        {\"responsive\": true}\n",
              "                    ).then(function(){\n",
              "                            \n",
              "var gd = document.getElementById('3ca3b9d0-2a0d-4dbb-9f39-59999211f695');\n",
              "var x = new MutationObserver(function (mutations, observer) {{\n",
              "        var display = window.getComputedStyle(gd).display;\n",
              "        if (!display || display === 'none') {{\n",
              "            console.log([gd, 'removed!']);\n",
              "            Plotly.purge(gd);\n",
              "            observer.disconnect();\n",
              "        }}\n",
              "}});\n",
              "\n",
              "// Listen for the removal of the full notebook cells\n",
              "var notebookContainer = gd.closest('#notebook-container');\n",
              "if (notebookContainer) {{\n",
              "    x.observe(notebookContainer, {childList: true});\n",
              "}}\n",
              "\n",
              "// Listen for the clearing of the current output cell\n",
              "var outputEl = gd.closest('.output');\n",
              "if (outputEl) {{\n",
              "    x.observe(outputEl, {childList: true});\n",
              "}}\n",
              "\n",
              "                        })\n",
              "                };\n",
              "                \n",
              "            </script>\n",
              "        </div>\n",
              "</body>\n",
              "</html>"
            ]
          },
          "metadata": {
            "tags": []
          }
        },
        {
          "output_type": "display_data",
          "data": {
            "text/html": [
              "<html>\n",
              "<head><meta charset=\"utf-8\" /></head>\n",
              "<body>\n",
              "    <div>\n",
              "            <script src=\"https://cdnjs.cloudflare.com/ajax/libs/mathjax/2.7.5/MathJax.js?config=TeX-AMS-MML_SVG\"></script><script type=\"text/javascript\">if (window.MathJax) {MathJax.Hub.Config({SVG: {font: \"STIX-Web\"}});}</script>\n",
              "                <script type=\"text/javascript\">window.PlotlyConfig = {MathJaxConfig: 'local'};</script>\n",
              "        <script src=\"https://cdn.plot.ly/plotly-latest.min.js\"></script>    \n",
              "            <div id=\"c635e3b7-09a4-4946-a0f7-7b19e43610eb\" class=\"plotly-graph-div\" style=\"height:600px; width:100%;\"></div>\n",
              "            <script type=\"text/javascript\">\n",
              "                \n",
              "                    window.PLOTLYENV=window.PLOTLYENV || {};\n",
              "                    \n",
              "                if (document.getElementById(\"c635e3b7-09a4-4946-a0f7-7b19e43610eb\")) {\n",
              "                    Plotly.newPlot(\n",
              "                        'c635e3b7-09a4-4946-a0f7-7b19e43610eb',\n",
              "                        [{\"alignmentgroup\": \"True\", \"hoverlabel\": {\"namelength\": 0}, \"hovertemplate\": \"Date=%{x}<br>Total Cases=%{marker.color}\", \"legendgroup\": \"\", \"marker\": {\"color\": [1, 1, 1, 1, 2, 2, 3, 4, 4, 4, 6, 11, 12, 15, 15, 16, 19, 23, 24, 24, 27, 27, 28, 28, 28, 28, 28, 29, 30, 31, 58, 111, 209, 436, 602, 833, 977, 1261, 1766, 2337, 3150, 3736, 4335, 5186, 5621, 6284, 6593, 7041, 7313, 7478, 7513, 7755, 7869, 7979, 8086, 8162, 8236, 8320, 8413, 8565, 8652, 8799, 8961, 8961, 9037], \"coloraxis\": \"coloraxis\"}, \"name\": \"\", \"offsetgroup\": \"\", \"orientation\": \"v\", \"showlegend\": false, \"textposition\": \"auto\", \"type\": \"bar\", \"x\": [\"2020-01-20T00:00:00\", \"2020-01-21T00:00:00\", \"2020-01-22T00:00:00\", \"2020-01-23T00:00:00\", \"2020-01-24T00:00:00\", \"2020-01-25T00:00:00\", \"2020-01-26T00:00:00\", \"2020-01-27T00:00:00\", \"2020-01-28T00:00:00\", \"2020-01-29T00:00:00\", \"2020-01-30T00:00:00\", \"2020-01-31T00:00:00\", \"2020-02-01T00:00:00\", \"2020-02-02T00:00:00\", \"2020-02-03T00:00:00\", \"2020-02-04T00:00:00\", \"2020-02-05T00:00:00\", \"2020-02-06T00:00:00\", \"2020-02-07T00:00:00\", \"2020-02-08T00:00:00\", \"2020-02-09T00:00:00\", \"2020-02-10T00:00:00\", \"2020-02-11T00:00:00\", \"2020-02-12T00:00:00\", \"2020-02-13T00:00:00\", \"2020-02-14T00:00:00\", \"2020-02-15T00:00:00\", \"2020-02-16T00:00:00\", \"2020-02-17T00:00:00\", \"2020-02-18T00:00:00\", \"2020-02-19T00:00:00\", \"2020-02-20T00:00:00\", \"2020-02-21T00:00:00\", \"2020-02-22T00:00:00\", \"2020-02-23T00:00:00\", \"2020-02-24T00:00:00\", \"2020-02-25T00:00:00\", \"2020-02-26T00:00:00\", \"2020-02-27T00:00:00\", \"2020-02-28T00:00:00\", \"2020-02-29T00:00:00\", \"2020-03-01T00:00:00\", \"2020-03-02T00:00:00\", \"2020-03-03T00:00:00\", \"2020-03-04T00:00:00\", \"2020-03-05T00:00:00\", \"2020-03-06T00:00:00\", \"2020-03-07T00:00:00\", \"2020-03-08T00:00:00\", \"2020-03-09T00:00:00\", \"2020-03-10T00:00:00\", \"2020-03-11T00:00:00\", \"2020-03-12T00:00:00\", \"2020-03-13T00:00:00\", \"2020-03-14T00:00:00\", \"2020-03-15T00:00:00\", \"2020-03-16T00:00:00\", \"2020-03-17T00:00:00\", \"2020-03-18T00:00:00\", \"2020-03-19T00:00:00\", \"2020-03-20T00:00:00\", \"2020-03-21T00:00:00\", \"2020-03-22T00:00:00\", \"2020-03-23T00:00:00\", \"2020-03-24T00:00:00\"], \"xaxis\": \"x\", \"y\": [1, 1, 1, 1, 2, 2, 3, 4, 4, 4, 6, 11, 12, 15, 15, 16, 19, 23, 24, 24, 27, 27, 28, 28, 28, 28, 28, 29, 30, 31, 58, 111, 209, 436, 602, 833, 977, 1261, 1766, 2337, 3150, 3736, 4335, 5186, 5621, 6284, 6593, 7041, 7313, 7478, 7513, 7755, 7869, 7979, 8086, 8162, 8236, 8320, 8413, 8565, 8652, 8799, 8961, 8961, 9037], \"yaxis\": \"y\"}],\n",
              "                        {\"barmode\": \"relative\", \"coloraxis\": {\"colorbar\": {\"title\": {\"text\": \"Total Cases\"}}, \"colorscale\": [[0.0, \"#0d0887\"], [0.1111111111111111, \"#46039f\"], [0.2222222222222222, \"#7201a8\"], [0.3333333333333333, \"#9c179e\"], [0.4444444444444444, \"#bd3786\"], [0.5555555555555556, \"#d8576b\"], [0.6666666666666666, \"#ed7953\"], [0.7777777777777778, \"#fb9f3a\"], [0.8888888888888888, \"#fdca26\"], [1.0, \"#f0f921\"]]}, \"height\": 600, \"legend\": {\"tracegroupgap\": 0}, \"plot_bgcolor\": \"rgb(230, 230, 230)\", \"template\": {\"data\": {\"bar\": [{\"error_x\": {\"color\": \"#2a3f5f\"}, \"error_y\": {\"color\": \"#2a3f5f\"}, \"marker\": {\"line\": {\"color\": \"#E5ECF6\", \"width\": 0.5}}, \"type\": \"bar\"}], \"barpolar\": [{\"marker\": {\"line\": {\"color\": \"#E5ECF6\", \"width\": 0.5}}, \"type\": \"barpolar\"}], \"carpet\": [{\"aaxis\": {\"endlinecolor\": \"#2a3f5f\", \"gridcolor\": \"white\", \"linecolor\": \"white\", \"minorgridcolor\": \"white\", \"startlinecolor\": \"#2a3f5f\"}, \"baxis\": {\"endlinecolor\": \"#2a3f5f\", \"gridcolor\": \"white\", \"linecolor\": \"white\", \"minorgridcolor\": \"white\", \"startlinecolor\": \"#2a3f5f\"}, \"type\": \"carpet\"}], \"choropleth\": [{\"colorbar\": {\"outlinewidth\": 0, \"ticks\": \"\"}, \"type\": \"choropleth\"}], \"contour\": [{\"colorbar\": {\"outlinewidth\": 0, \"ticks\": \"\"}, \"colorscale\": [[0.0, \"#0d0887\"], [0.1111111111111111, \"#46039f\"], [0.2222222222222222, \"#7201a8\"], [0.3333333333333333, \"#9c179e\"], [0.4444444444444444, \"#bd3786\"], [0.5555555555555556, \"#d8576b\"], [0.6666666666666666, \"#ed7953\"], [0.7777777777777778, \"#fb9f3a\"], [0.8888888888888888, \"#fdca26\"], [1.0, \"#f0f921\"]], \"type\": \"contour\"}], \"contourcarpet\": [{\"colorbar\": {\"outlinewidth\": 0, \"ticks\": \"\"}, \"type\": \"contourcarpet\"}], \"heatmap\": [{\"colorbar\": {\"outlinewidth\": 0, \"ticks\": \"\"}, \"colorscale\": [[0.0, \"#0d0887\"], [0.1111111111111111, \"#46039f\"], [0.2222222222222222, \"#7201a8\"], [0.3333333333333333, \"#9c179e\"], [0.4444444444444444, \"#bd3786\"], [0.5555555555555556, \"#d8576b\"], [0.6666666666666666, \"#ed7953\"], [0.7777777777777778, \"#fb9f3a\"], [0.8888888888888888, \"#fdca26\"], [1.0, \"#f0f921\"]], \"type\": \"heatmap\"}], \"heatmapgl\": [{\"colorbar\": {\"outlinewidth\": 0, \"ticks\": \"\"}, \"colorscale\": [[0.0, \"#0d0887\"], [0.1111111111111111, \"#46039f\"], [0.2222222222222222, \"#7201a8\"], [0.3333333333333333, \"#9c179e\"], [0.4444444444444444, \"#bd3786\"], [0.5555555555555556, \"#d8576b\"], [0.6666666666666666, \"#ed7953\"], [0.7777777777777778, \"#fb9f3a\"], [0.8888888888888888, \"#fdca26\"], [1.0, \"#f0f921\"]], \"type\": \"heatmapgl\"}], \"histogram\": [{\"marker\": {\"colorbar\": {\"outlinewidth\": 0, \"ticks\": \"\"}}, \"type\": \"histogram\"}], \"histogram2d\": [{\"colorbar\": {\"outlinewidth\": 0, \"ticks\": \"\"}, \"colorscale\": [[0.0, \"#0d0887\"], [0.1111111111111111, \"#46039f\"], [0.2222222222222222, \"#7201a8\"], [0.3333333333333333, \"#9c179e\"], [0.4444444444444444, \"#bd3786\"], [0.5555555555555556, \"#d8576b\"], [0.6666666666666666, \"#ed7953\"], [0.7777777777777778, \"#fb9f3a\"], [0.8888888888888888, \"#fdca26\"], [1.0, \"#f0f921\"]], \"type\": \"histogram2d\"}], \"histogram2dcontour\": [{\"colorbar\": {\"outlinewidth\": 0, \"ticks\": \"\"}, \"colorscale\": [[0.0, \"#0d0887\"], [0.1111111111111111, \"#46039f\"], [0.2222222222222222, \"#7201a8\"], [0.3333333333333333, \"#9c179e\"], [0.4444444444444444, \"#bd3786\"], [0.5555555555555556, \"#d8576b\"], [0.6666666666666666, \"#ed7953\"], [0.7777777777777778, \"#fb9f3a\"], [0.8888888888888888, \"#fdca26\"], [1.0, \"#f0f921\"]], \"type\": \"histogram2dcontour\"}], \"mesh3d\": [{\"colorbar\": {\"outlinewidth\": 0, \"ticks\": \"\"}, \"type\": \"mesh3d\"}], \"parcoords\": [{\"line\": {\"colorbar\": {\"outlinewidth\": 0, \"ticks\": \"\"}}, \"type\": \"parcoords\"}], \"pie\": [{\"automargin\": true, \"type\": \"pie\"}], \"scatter\": [{\"marker\": {\"colorbar\": {\"outlinewidth\": 0, \"ticks\": \"\"}}, \"type\": \"scatter\"}], \"scatter3d\": [{\"line\": {\"colorbar\": {\"outlinewidth\": 0, \"ticks\": \"\"}}, \"marker\": {\"colorbar\": {\"outlinewidth\": 0, \"ticks\": \"\"}}, \"type\": \"scatter3d\"}], \"scattercarpet\": [{\"marker\": {\"colorbar\": {\"outlinewidth\": 0, \"ticks\": \"\"}}, \"type\": \"scattercarpet\"}], \"scattergeo\": [{\"marker\": {\"colorbar\": {\"outlinewidth\": 0, \"ticks\": \"\"}}, \"type\": \"scattergeo\"}], \"scattergl\": [{\"marker\": {\"colorbar\": {\"outlinewidth\": 0, \"ticks\": \"\"}}, \"type\": \"scattergl\"}], \"scattermapbox\": [{\"marker\": {\"colorbar\": {\"outlinewidth\": 0, \"ticks\": \"\"}}, \"type\": \"scattermapbox\"}], \"scatterpolar\": [{\"marker\": {\"colorbar\": {\"outlinewidth\": 0, \"ticks\": \"\"}}, \"type\": \"scatterpolar\"}], \"scatterpolargl\": [{\"marker\": {\"colorbar\": {\"outlinewidth\": 0, \"ticks\": \"\"}}, \"type\": \"scatterpolargl\"}], \"scatterternary\": [{\"marker\": {\"colorbar\": {\"outlinewidth\": 0, \"ticks\": \"\"}}, \"type\": \"scatterternary\"}], \"surface\": [{\"colorbar\": {\"outlinewidth\": 0, \"ticks\": \"\"}, \"colorscale\": [[0.0, \"#0d0887\"], [0.1111111111111111, \"#46039f\"], [0.2222222222222222, \"#7201a8\"], [0.3333333333333333, \"#9c179e\"], [0.4444444444444444, \"#bd3786\"], [0.5555555555555556, \"#d8576b\"], [0.6666666666666666, \"#ed7953\"], [0.7777777777777778, \"#fb9f3a\"], [0.8888888888888888, \"#fdca26\"], [1.0, \"#f0f921\"]], \"type\": \"surface\"}], \"table\": [{\"cells\": {\"fill\": {\"color\": \"#EBF0F8\"}, \"line\": {\"color\": \"white\"}}, \"header\": {\"fill\": {\"color\": \"#C8D4E3\"}, \"line\": {\"color\": \"white\"}}, \"type\": \"table\"}]}, \"layout\": {\"annotationdefaults\": {\"arrowcolor\": \"#2a3f5f\", \"arrowhead\": 0, \"arrowwidth\": 1}, \"coloraxis\": {\"colorbar\": {\"outlinewidth\": 0, \"ticks\": \"\"}}, \"colorscale\": {\"diverging\": [[0, \"#8e0152\"], [0.1, \"#c51b7d\"], [0.2, \"#de77ae\"], [0.3, \"#f1b6da\"], [0.4, \"#fde0ef\"], [0.5, \"#f7f7f7\"], [0.6, \"#e6f5d0\"], [0.7, \"#b8e186\"], [0.8, \"#7fbc41\"], [0.9, \"#4d9221\"], [1, \"#276419\"]], \"sequential\": [[0.0, \"#0d0887\"], [0.1111111111111111, \"#46039f\"], [0.2222222222222222, \"#7201a8\"], [0.3333333333333333, \"#9c179e\"], [0.4444444444444444, \"#bd3786\"], [0.5555555555555556, \"#d8576b\"], [0.6666666666666666, \"#ed7953\"], [0.7777777777777778, \"#fb9f3a\"], [0.8888888888888888, \"#fdca26\"], [1.0, \"#f0f921\"]], \"sequentialminus\": [[0.0, \"#0d0887\"], [0.1111111111111111, \"#46039f\"], [0.2222222222222222, \"#7201a8\"], [0.3333333333333333, \"#9c179e\"], [0.4444444444444444, \"#bd3786\"], [0.5555555555555556, \"#d8576b\"], [0.6666666666666666, \"#ed7953\"], [0.7777777777777778, \"#fb9f3a\"], [0.8888888888888888, \"#fdca26\"], [1.0, \"#f0f921\"]]}, \"colorway\": [\"#636efa\", \"#EF553B\", \"#00cc96\", \"#ab63fa\", \"#FFA15A\", \"#19d3f3\", \"#FF6692\", \"#B6E880\", \"#FF97FF\", \"#FECB52\"], \"font\": {\"color\": \"#2a3f5f\"}, \"geo\": {\"bgcolor\": \"white\", \"lakecolor\": \"white\", \"landcolor\": \"#E5ECF6\", \"showlakes\": true, \"showland\": true, \"subunitcolor\": \"white\"}, \"hoverlabel\": {\"align\": \"left\"}, \"hovermode\": \"closest\", \"mapbox\": {\"style\": \"light\"}, \"paper_bgcolor\": \"white\", \"plot_bgcolor\": \"#E5ECF6\", \"polar\": {\"angularaxis\": {\"gridcolor\": \"white\", \"linecolor\": \"white\", \"ticks\": \"\"}, \"bgcolor\": \"#E5ECF6\", \"radialaxis\": {\"gridcolor\": \"white\", \"linecolor\": \"white\", \"ticks\": \"\"}}, \"scene\": {\"xaxis\": {\"backgroundcolor\": \"#E5ECF6\", \"gridcolor\": \"white\", \"gridwidth\": 2, \"linecolor\": \"white\", \"showbackground\": true, \"ticks\": \"\", \"zerolinecolor\": \"white\"}, \"yaxis\": {\"backgroundcolor\": \"#E5ECF6\", \"gridcolor\": \"white\", \"gridwidth\": 2, \"linecolor\": \"white\", \"showbackground\": true, \"ticks\": \"\", \"zerolinecolor\": \"white\"}, \"zaxis\": {\"backgroundcolor\": \"#E5ECF6\", \"gridcolor\": \"white\", \"gridwidth\": 2, \"linecolor\": \"white\", \"showbackground\": true, \"ticks\": \"\", \"zerolinecolor\": \"white\"}}, \"shapedefaults\": {\"line\": {\"color\": \"#2a3f5f\"}}, \"ternary\": {\"aaxis\": {\"gridcolor\": \"white\", \"linecolor\": \"white\", \"ticks\": \"\"}, \"baxis\": {\"gridcolor\": \"white\", \"linecolor\": \"white\", \"ticks\": \"\"}, \"bgcolor\": \"#E5ECF6\", \"caxis\": {\"gridcolor\": \"white\", \"linecolor\": \"white\", \"ticks\": \"\"}}, \"title\": {\"x\": 0.05}, \"xaxis\": {\"automargin\": true, \"gridcolor\": \"white\", \"linecolor\": \"white\", \"ticks\": \"\", \"title\": {\"standoff\": 15}, \"zerolinecolor\": \"white\", \"zerolinewidth\": 2}, \"yaxis\": {\"automargin\": true, \"gridcolor\": \"white\", \"linecolor\": \"white\", \"ticks\": \"\", \"title\": {\"standoff\": 15}, \"zerolinecolor\": \"white\", \"zerolinewidth\": 2}}}, \"title\": {\"text\": \"Confirmed Cases in South Korea\"}, \"xaxis\": {\"anchor\": \"y\", \"domain\": [0.0, 1.0], \"title\": {\"text\": \"Date\"}}, \"yaxis\": {\"anchor\": \"x\", \"domain\": [0.0, 1.0], \"title\": {\"text\": \"Total Cases\"}}},\n",
              "                        {\"responsive\": true}\n",
              "                    ).then(function(){\n",
              "                            \n",
              "var gd = document.getElementById('c635e3b7-09a4-4946-a0f7-7b19e43610eb');\n",
              "var x = new MutationObserver(function (mutations, observer) {{\n",
              "        var display = window.getComputedStyle(gd).display;\n",
              "        if (!display || display === 'none') {{\n",
              "            console.log([gd, 'removed!']);\n",
              "            Plotly.purge(gd);\n",
              "            observer.disconnect();\n",
              "        }}\n",
              "}});\n",
              "\n",
              "// Listen for the removal of the full notebook cells\n",
              "var notebookContainer = gd.closest('#notebook-container');\n",
              "if (notebookContainer) {{\n",
              "    x.observe(notebookContainer, {childList: true});\n",
              "}}\n",
              "\n",
              "// Listen for the clearing of the current output cell\n",
              "var outputEl = gd.closest('.output');\n",
              "if (outputEl) {{\n",
              "    x.observe(outputEl, {childList: true});\n",
              "}}\n",
              "\n",
              "                        })\n",
              "                };\n",
              "                \n",
              "            </script>\n",
              "        </div>\n",
              "</body>\n",
              "</html>"
            ]
          },
          "metadata": {
            "tags": []
          }
        },
        {
          "output_type": "display_data",
          "data": {
            "text/html": [
              "<html>\n",
              "<head><meta charset=\"utf-8\" /></head>\n",
              "<body>\n",
              "    <div>\n",
              "            <script src=\"https://cdnjs.cloudflare.com/ajax/libs/mathjax/2.7.5/MathJax.js?config=TeX-AMS-MML_SVG\"></script><script type=\"text/javascript\">if (window.MathJax) {MathJax.Hub.Config({SVG: {font: \"STIX-Web\"}});}</script>\n",
              "                <script type=\"text/javascript\">window.PlotlyConfig = {MathJaxConfig: 'local'};</script>\n",
              "        <script src=\"https://cdn.plot.ly/plotly-latest.min.js\"></script>    \n",
              "            <div id=\"c083995d-2298-4473-a236-cc35e4955447\" class=\"plotly-graph-div\" style=\"height:600px; width:100%;\"></div>\n",
              "            <script type=\"text/javascript\">\n",
              "                \n",
              "                    window.PLOTLYENV=window.PLOTLYENV || {};\n",
              "                    \n",
              "                if (document.getElementById(\"c083995d-2298-4473-a236-cc35e4955447\")) {\n",
              "                    Plotly.newPlot(\n",
              "                        'c083995d-2298-4473-a236-cc35e4955447',\n",
              "                        [{\"alignmentgroup\": \"True\", \"hoverlabel\": {\"namelength\": 0}, \"hovertemplate\": \"Date=%{x}<br>Total Cases=%{marker.color}\", \"legendgroup\": \"\", \"marker\": {\"color\": [444, 444, 549, 761, 1058, 1423, 3554, 3554, 4903, 5806, 7153, 11177, 13522, 16678, 19665, 22112, 24953, 27100, 29631, 31728, 33366, 33366, 48206, 54406, 56249, 58182, 59989, 61682, 62031, 62442, 62662, 64084, 64084, 64287, 64786, 65187, 65596, 65914, 66337, 66907, 67103, 67217, 67332, 67466, 67592, 67666, 67707, 67743, 67760, 67773, 67781, 67786, 67790, 67794, 67798, 67799, 67800, 67800, 67800, 67800, 67800, 67800, 67801], \"coloraxis\": \"coloraxis\"}, \"name\": \"\", \"offsetgroup\": \"\", \"orientation\": \"v\", \"showlegend\": false, \"textposition\": \"auto\", \"type\": \"bar\", \"x\": [\"2020-01-22T00:00:00\", \"2020-01-23T00:00:00\", \"2020-01-24T00:00:00\", \"2020-01-25T00:00:00\", \"2020-01-26T00:00:00\", \"2020-01-27T00:00:00\", \"2020-01-28T00:00:00\", \"2020-01-29T00:00:00\", \"2020-01-30T00:00:00\", \"2020-01-31T00:00:00\", \"2020-01-02T00:00:00\", \"2020-02-02T00:00:00\", \"2020-02-03T00:00:00\", \"2020-02-04T00:00:00\", \"2020-02-05T00:00:00\", \"2020-02-06T00:00:00\", \"2020-02-07T00:00:00\", \"2020-02-08T00:00:00\", \"2020-02-09T00:00:00\", \"2020-02-10T00:00:00\", \"2020-02-11T00:00:00\", \"2020-02-12T00:00:00\", \"2020-02-13T00:00:00\", \"2020-02-14T00:00:00\", \"2020-02-15T00:00:00\", \"2020-02-16T00:00:00\", \"2020-02-17T00:00:00\", \"2020-02-18T00:00:00\", \"2020-02-19T00:00:00\", \"2020-02-20T00:00:00\", \"2020-02-21T00:00:00\", \"2020-02-22T00:00:00\", \"2020-02-23T00:00:00\", \"2020-02-24T00:00:00\", \"2020-02-25T00:00:00\", \"2020-02-26T00:00:00\", \"2020-02-27T00:00:00\", \"2020-02-28T00:00:00\", \"2020-02-29T00:00:00\", \"2020-03-01T00:00:00\", \"2020-03-02T00:00:00\", \"2020-03-03T00:00:00\", \"2020-03-04T00:00:00\", \"2020-03-05T00:00:00\", \"2020-03-06T00:00:00\", \"2020-03-07T00:00:00\", \"2020-03-08T00:00:00\", \"2020-03-09T00:00:00\", \"2020-03-10T00:00:00\", \"2020-03-11T00:00:00\", \"2020-03-12T00:00:00\", \"2020-03-13T00:00:00\", \"2020-03-14T00:00:00\", \"2020-03-15T00:00:00\", \"2020-03-16T00:00:00\", \"2020-03-17T00:00:00\", \"2020-03-18T00:00:00\", \"2020-03-19T00:00:00\", \"2020-03-20T00:00:00\", \"2020-03-21T00:00:00\", \"2020-03-22T00:00:00\", \"2020-03-23T00:00:00\", \"2020-03-24T00:00:00\"], \"xaxis\": \"x\", \"y\": [444, 444, 549, 761, 1058, 1423, 3554, 3554, 4903, 5806, 7153, 11177, 13522, 16678, 19665, 22112, 24953, 27100, 29631, 31728, 33366, 33366, 48206, 54406, 56249, 58182, 59989, 61682, 62031, 62442, 62662, 64084, 64084, 64287, 64786, 65187, 65596, 65914, 66337, 66907, 67103, 67217, 67332, 67466, 67592, 67666, 67707, 67743, 67760, 67773, 67781, 67786, 67790, 67794, 67798, 67799, 67800, 67800, 67800, 67800, 67800, 67800, 67801], \"yaxis\": \"y\"}],\n",
              "                        {\"barmode\": \"relative\", \"coloraxis\": {\"colorbar\": {\"title\": {\"text\": \"Total Cases\"}}, \"colorscale\": [[0.0, \"#0d0887\"], [0.1111111111111111, \"#46039f\"], [0.2222222222222222, \"#7201a8\"], [0.3333333333333333, \"#9c179e\"], [0.4444444444444444, \"#bd3786\"], [0.5555555555555556, \"#d8576b\"], [0.6666666666666666, \"#ed7953\"], [0.7777777777777778, \"#fb9f3a\"], [0.8888888888888888, \"#fdca26\"], [1.0, \"#f0f921\"]]}, \"height\": 600, \"legend\": {\"tracegroupgap\": 0}, \"plot_bgcolor\": \"rgb(230, 230, 230)\", \"template\": {\"data\": {\"bar\": [{\"error_x\": {\"color\": \"#2a3f5f\"}, \"error_y\": {\"color\": \"#2a3f5f\"}, \"marker\": {\"line\": {\"color\": \"#E5ECF6\", \"width\": 0.5}}, \"type\": \"bar\"}], \"barpolar\": [{\"marker\": {\"line\": {\"color\": \"#E5ECF6\", \"width\": 0.5}}, \"type\": \"barpolar\"}], \"carpet\": [{\"aaxis\": {\"endlinecolor\": \"#2a3f5f\", \"gridcolor\": \"white\", \"linecolor\": \"white\", \"minorgridcolor\": \"white\", \"startlinecolor\": \"#2a3f5f\"}, \"baxis\": {\"endlinecolor\": \"#2a3f5f\", \"gridcolor\": \"white\", \"linecolor\": \"white\", \"minorgridcolor\": \"white\", \"startlinecolor\": \"#2a3f5f\"}, \"type\": \"carpet\"}], \"choropleth\": [{\"colorbar\": {\"outlinewidth\": 0, \"ticks\": \"\"}, \"type\": \"choropleth\"}], \"contour\": [{\"colorbar\": {\"outlinewidth\": 0, \"ticks\": \"\"}, \"colorscale\": [[0.0, \"#0d0887\"], [0.1111111111111111, \"#46039f\"], [0.2222222222222222, \"#7201a8\"], [0.3333333333333333, \"#9c179e\"], [0.4444444444444444, \"#bd3786\"], [0.5555555555555556, \"#d8576b\"], [0.6666666666666666, \"#ed7953\"], [0.7777777777777778, \"#fb9f3a\"], [0.8888888888888888, \"#fdca26\"], [1.0, \"#f0f921\"]], \"type\": \"contour\"}], \"contourcarpet\": [{\"colorbar\": {\"outlinewidth\": 0, \"ticks\": \"\"}, \"type\": \"contourcarpet\"}], \"heatmap\": [{\"colorbar\": {\"outlinewidth\": 0, \"ticks\": \"\"}, \"colorscale\": [[0.0, \"#0d0887\"], [0.1111111111111111, \"#46039f\"], [0.2222222222222222, \"#7201a8\"], [0.3333333333333333, \"#9c179e\"], [0.4444444444444444, \"#bd3786\"], [0.5555555555555556, \"#d8576b\"], [0.6666666666666666, \"#ed7953\"], [0.7777777777777778, \"#fb9f3a\"], [0.8888888888888888, \"#fdca26\"], [1.0, \"#f0f921\"]], \"type\": \"heatmap\"}], \"heatmapgl\": [{\"colorbar\": {\"outlinewidth\": 0, \"ticks\": \"\"}, \"colorscale\": [[0.0, \"#0d0887\"], [0.1111111111111111, \"#46039f\"], [0.2222222222222222, \"#7201a8\"], [0.3333333333333333, \"#9c179e\"], [0.4444444444444444, \"#bd3786\"], [0.5555555555555556, \"#d8576b\"], [0.6666666666666666, \"#ed7953\"], [0.7777777777777778, \"#fb9f3a\"], [0.8888888888888888, \"#fdca26\"], [1.0, \"#f0f921\"]], \"type\": \"heatmapgl\"}], \"histogram\": [{\"marker\": {\"colorbar\": {\"outlinewidth\": 0, \"ticks\": \"\"}}, \"type\": \"histogram\"}], \"histogram2d\": [{\"colorbar\": {\"outlinewidth\": 0, \"ticks\": \"\"}, \"colorscale\": [[0.0, \"#0d0887\"], [0.1111111111111111, \"#46039f\"], [0.2222222222222222, \"#7201a8\"], [0.3333333333333333, \"#9c179e\"], [0.4444444444444444, \"#bd3786\"], [0.5555555555555556, \"#d8576b\"], [0.6666666666666666, \"#ed7953\"], [0.7777777777777778, \"#fb9f3a\"], [0.8888888888888888, \"#fdca26\"], [1.0, \"#f0f921\"]], \"type\": \"histogram2d\"}], \"histogram2dcontour\": [{\"colorbar\": {\"outlinewidth\": 0, \"ticks\": \"\"}, \"colorscale\": [[0.0, \"#0d0887\"], [0.1111111111111111, \"#46039f\"], [0.2222222222222222, \"#7201a8\"], [0.3333333333333333, \"#9c179e\"], [0.4444444444444444, \"#bd3786\"], [0.5555555555555556, \"#d8576b\"], [0.6666666666666666, \"#ed7953\"], [0.7777777777777778, \"#fb9f3a\"], [0.8888888888888888, \"#fdca26\"], [1.0, \"#f0f921\"]], \"type\": \"histogram2dcontour\"}], \"mesh3d\": [{\"colorbar\": {\"outlinewidth\": 0, \"ticks\": \"\"}, \"type\": \"mesh3d\"}], \"parcoords\": [{\"line\": {\"colorbar\": {\"outlinewidth\": 0, \"ticks\": \"\"}}, \"type\": \"parcoords\"}], \"pie\": [{\"automargin\": true, \"type\": \"pie\"}], \"scatter\": [{\"marker\": {\"colorbar\": {\"outlinewidth\": 0, \"ticks\": \"\"}}, \"type\": \"scatter\"}], \"scatter3d\": [{\"line\": {\"colorbar\": {\"outlinewidth\": 0, \"ticks\": \"\"}}, \"marker\": {\"colorbar\": {\"outlinewidth\": 0, \"ticks\": \"\"}}, \"type\": \"scatter3d\"}], \"scattercarpet\": [{\"marker\": {\"colorbar\": {\"outlinewidth\": 0, \"ticks\": \"\"}}, \"type\": \"scattercarpet\"}], \"scattergeo\": [{\"marker\": {\"colorbar\": {\"outlinewidth\": 0, \"ticks\": \"\"}}, \"type\": \"scattergeo\"}], \"scattergl\": [{\"marker\": {\"colorbar\": {\"outlinewidth\": 0, \"ticks\": \"\"}}, \"type\": \"scattergl\"}], \"scattermapbox\": [{\"marker\": {\"colorbar\": {\"outlinewidth\": 0, \"ticks\": \"\"}}, \"type\": \"scattermapbox\"}], \"scatterpolar\": [{\"marker\": {\"colorbar\": {\"outlinewidth\": 0, \"ticks\": \"\"}}, \"type\": \"scatterpolar\"}], \"scatterpolargl\": [{\"marker\": {\"colorbar\": {\"outlinewidth\": 0, \"ticks\": \"\"}}, \"type\": \"scatterpolargl\"}], \"scatterternary\": [{\"marker\": {\"colorbar\": {\"outlinewidth\": 0, \"ticks\": \"\"}}, \"type\": \"scatterternary\"}], \"surface\": [{\"colorbar\": {\"outlinewidth\": 0, \"ticks\": \"\"}, \"colorscale\": [[0.0, \"#0d0887\"], [0.1111111111111111, \"#46039f\"], [0.2222222222222222, \"#7201a8\"], [0.3333333333333333, \"#9c179e\"], [0.4444444444444444, \"#bd3786\"], [0.5555555555555556, \"#d8576b\"], [0.6666666666666666, \"#ed7953\"], [0.7777777777777778, \"#fb9f3a\"], [0.8888888888888888, \"#fdca26\"], [1.0, \"#f0f921\"]], \"type\": \"surface\"}], \"table\": [{\"cells\": {\"fill\": {\"color\": \"#EBF0F8\"}, \"line\": {\"color\": \"white\"}}, \"header\": {\"fill\": {\"color\": \"#C8D4E3\"}, \"line\": {\"color\": \"white\"}}, \"type\": \"table\"}]}, \"layout\": {\"annotationdefaults\": {\"arrowcolor\": \"#2a3f5f\", \"arrowhead\": 0, \"arrowwidth\": 1}, \"coloraxis\": {\"colorbar\": {\"outlinewidth\": 0, \"ticks\": \"\"}}, \"colorscale\": {\"diverging\": [[0, \"#8e0152\"], [0.1, \"#c51b7d\"], [0.2, \"#de77ae\"], [0.3, \"#f1b6da\"], [0.4, \"#fde0ef\"], [0.5, \"#f7f7f7\"], [0.6, \"#e6f5d0\"], [0.7, \"#b8e186\"], [0.8, \"#7fbc41\"], [0.9, \"#4d9221\"], [1, \"#276419\"]], \"sequential\": [[0.0, \"#0d0887\"], [0.1111111111111111, \"#46039f\"], [0.2222222222222222, \"#7201a8\"], [0.3333333333333333, \"#9c179e\"], [0.4444444444444444, \"#bd3786\"], [0.5555555555555556, \"#d8576b\"], [0.6666666666666666, \"#ed7953\"], [0.7777777777777778, \"#fb9f3a\"], [0.8888888888888888, \"#fdca26\"], [1.0, \"#f0f921\"]], \"sequentialminus\": [[0.0, \"#0d0887\"], [0.1111111111111111, \"#46039f\"], [0.2222222222222222, \"#7201a8\"], [0.3333333333333333, \"#9c179e\"], [0.4444444444444444, \"#bd3786\"], [0.5555555555555556, \"#d8576b\"], [0.6666666666666666, \"#ed7953\"], [0.7777777777777778, \"#fb9f3a\"], [0.8888888888888888, \"#fdca26\"], [1.0, \"#f0f921\"]]}, \"colorway\": [\"#636efa\", \"#EF553B\", \"#00cc96\", \"#ab63fa\", \"#FFA15A\", \"#19d3f3\", \"#FF6692\", \"#B6E880\", \"#FF97FF\", \"#FECB52\"], \"font\": {\"color\": \"#2a3f5f\"}, \"geo\": {\"bgcolor\": \"white\", \"lakecolor\": \"white\", \"landcolor\": \"#E5ECF6\", \"showlakes\": true, \"showland\": true, \"subunitcolor\": \"white\"}, \"hoverlabel\": {\"align\": \"left\"}, \"hovermode\": \"closest\", \"mapbox\": {\"style\": \"light\"}, \"paper_bgcolor\": \"white\", \"plot_bgcolor\": \"#E5ECF6\", \"polar\": {\"angularaxis\": {\"gridcolor\": \"white\", \"linecolor\": \"white\", \"ticks\": \"\"}, \"bgcolor\": \"#E5ECF6\", \"radialaxis\": {\"gridcolor\": \"white\", \"linecolor\": \"white\", \"ticks\": \"\"}}, \"scene\": {\"xaxis\": {\"backgroundcolor\": \"#E5ECF6\", \"gridcolor\": \"white\", \"gridwidth\": 2, \"linecolor\": \"white\", \"showbackground\": true, \"ticks\": \"\", \"zerolinecolor\": \"white\"}, \"yaxis\": {\"backgroundcolor\": \"#E5ECF6\", \"gridcolor\": \"white\", \"gridwidth\": 2, \"linecolor\": \"white\", \"showbackground\": true, \"ticks\": \"\", \"zerolinecolor\": \"white\"}, \"zaxis\": {\"backgroundcolor\": \"#E5ECF6\", \"gridcolor\": \"white\", \"gridwidth\": 2, \"linecolor\": \"white\", \"showbackground\": true, \"ticks\": \"\", \"zerolinecolor\": \"white\"}}, \"shapedefaults\": {\"line\": {\"color\": \"#2a3f5f\"}}, \"ternary\": {\"aaxis\": {\"gridcolor\": \"white\", \"linecolor\": \"white\", \"ticks\": \"\"}, \"baxis\": {\"gridcolor\": \"white\", \"linecolor\": \"white\", \"ticks\": \"\"}, \"bgcolor\": \"#E5ECF6\", \"caxis\": {\"gridcolor\": \"white\", \"linecolor\": \"white\", \"ticks\": \"\"}}, \"title\": {\"x\": 0.05}, \"xaxis\": {\"automargin\": true, \"gridcolor\": \"white\", \"linecolor\": \"white\", \"ticks\": \"\", \"title\": {\"standoff\": 15}, \"zerolinecolor\": \"white\", \"zerolinewidth\": 2}, \"yaxis\": {\"automargin\": true, \"gridcolor\": \"white\", \"linecolor\": \"white\", \"ticks\": \"\", \"title\": {\"standoff\": 15}, \"zerolinecolor\": \"white\", \"zerolinewidth\": 2}}}, \"title\": {\"text\": \"Confirmed Cases in Wuhan\"}, \"xaxis\": {\"anchor\": \"y\", \"domain\": [0.0, 1.0], \"title\": {\"text\": \"Date\"}}, \"yaxis\": {\"anchor\": \"x\", \"domain\": [0.0, 1.0], \"title\": {\"text\": \"Total Cases\"}}},\n",
              "                        {\"responsive\": true}\n",
              "                    ).then(function(){\n",
              "                            \n",
              "var gd = document.getElementById('c083995d-2298-4473-a236-cc35e4955447');\n",
              "var x = new MutationObserver(function (mutations, observer) {{\n",
              "        var display = window.getComputedStyle(gd).display;\n",
              "        if (!display || display === 'none') {{\n",
              "            console.log([gd, 'removed!']);\n",
              "            Plotly.purge(gd);\n",
              "            observer.disconnect();\n",
              "        }}\n",
              "}});\n",
              "\n",
              "// Listen for the removal of the full notebook cells\n",
              "var notebookContainer = gd.closest('#notebook-container');\n",
              "if (notebookContainer) {{\n",
              "    x.observe(notebookContainer, {childList: true});\n",
              "}}\n",
              "\n",
              "// Listen for the clearing of the current output cell\n",
              "var outputEl = gd.closest('.output');\n",
              "if (outputEl) {{\n",
              "    x.observe(outputEl, {childList: true});\n",
              "}}\n",
              "\n",
              "                        })\n",
              "                };\n",
              "                \n",
              "            </script>\n",
              "        </div>\n",
              "</body>\n",
              "</html>"
            ]
          },
          "metadata": {
            "tags": []
          }
        }
      ]
    },
    {
      "cell_type": "markdown",
      "metadata": {
        "id": "b6jg777KVgw2",
        "colab_type": "text"
      },
      "source": [
        "###Visualization Inference\n",
        "- Confirmed cases in India is rising exponentially with no fixed pattern (Very less test in India)\n",
        "- Confirmed cases in Italy is rising exponentially with certain fixed pattern\n",
        "- Confirmed cases in S.Korea is rising gradually\n",
        "- There has been only 3 confirmed cases in Wuhan since last week. They have almost controlled the COVID-19\n",
        " "
      ]
    },
    {
      "cell_type": "markdown",
      "metadata": {
        "id": "y7skIt4NW2K1",
        "colab_type": "text"
      },
      "source": [
        "###Recent Updates from Wuhan\n",
        "- China on Tuesday decided to lift the three-month lockdown on more than 56 million people in the central Hubei province.\n",
        "- Bus services began in Wuhan for the first time since January 23 as a bus departed from its terminus at Hankou railway station at 5:25 am on Wednesday\n",
        "- The prolonged lockdown of Hubei's capital Wuhan will end on April 8, lifting the mass quarantine over the city with a population of over 11 million."
      ]
    },
    {
      "cell_type": "markdown",
      "metadata": {
        "id": "QvCUF8AQdhFv",
        "colab_type": "text"
      },
      "source": [
        "## 2.2 Comparison between the rise of cases in Wuhan, S.Korea, Italy and India"
      ]
    },
    {
      "cell_type": "code",
      "metadata": {
        "_kg_hide-input": true,
        "_kg_hide-output": false,
        "id": "eupJkZqpdhFy",
        "colab_type": "code",
        "outputId": "7ef572c7-c9ab-4e0d-8621-c5d6961548a7",
        "colab": {
          "base_uri": "https://localhost:8080/",
          "height": 542
        }
      },
      "source": [
        "#Learn how to create subplots using plotly\n",
        "# import plotly.graph_objects as go\n",
        "from plotly.subplots import make_subplots\n",
        "\n",
        "fig = make_subplots(\n",
        "    rows=2, cols=2,\n",
        "    specs=[[{}, {}],\n",
        "           [{\"colspan\": 2}, None]],\n",
        "    subplot_titles=(\"S.Korea\",\"Italy\", \"India\",\"Wuhan\"))\n",
        "\n",
        "fig.add_trace(go.Bar(x=dbd_Korea['Date'], y=dbd_Korea['Total Cases'],\n",
        "                    marker=dict(color=dbd_Korea['Total Cases'], coloraxis=\"coloraxis\")),1, 1)\n",
        "\n",
        "fig.add_trace(go.Bar(x=dbd_Italy['Date'], y=dbd_Italy['Total Cases'],\n",
        "                    marker=dict(color=dbd_Italy['Total Cases'], coloraxis=\"coloraxis\")),1, 2)\n",
        "\n",
        "fig.add_trace(go.Bar(x=dbd_India['Date'], y=dbd_India['Total Cases'],\n",
        "                    marker=dict(color=dbd_India['Total Cases'], coloraxis=\"coloraxis\")),2, 1)\n",
        "\n",
        "# fig.add_trace(go.Bar(x=dbd_Wuhan['Date'], y=dbd_Wuhan['Total Cases'],\n",
        "#                     marker=dict(color=dbd_Wuhan['Total Cases'], coloraxis=\"coloraxis\")),2, 2)\n",
        "\n",
        "fig.update_layout(coloraxis=dict(colorscale='Bluered_r'), showlegend=False,title_text=\"Total Confirmed cases(Cumulative)\")\n",
        "\n",
        "fig.update_layout(plot_bgcolor='rgb(230, 230, 230)')\n",
        "fig.show()"
      ],
      "execution_count": 20,
      "outputs": [
        {
          "output_type": "display_data",
          "data": {
            "text/html": [
              "<html>\n",
              "<head><meta charset=\"utf-8\" /></head>\n",
              "<body>\n",
              "    <div>\n",
              "            <script src=\"https://cdnjs.cloudflare.com/ajax/libs/mathjax/2.7.5/MathJax.js?config=TeX-AMS-MML_SVG\"></script><script type=\"text/javascript\">if (window.MathJax) {MathJax.Hub.Config({SVG: {font: \"STIX-Web\"}});}</script>\n",
              "                <script type=\"text/javascript\">window.PlotlyConfig = {MathJaxConfig: 'local'};</script>\n",
              "        <script src=\"https://cdn.plot.ly/plotly-latest.min.js\"></script>    \n",
              "            <div id=\"ec765ee5-47c8-4590-bb88-56d7a2ac8ffb\" class=\"plotly-graph-div\" style=\"height:525px; width:100%;\"></div>\n",
              "            <script type=\"text/javascript\">\n",
              "                \n",
              "                    window.PLOTLYENV=window.PLOTLYENV || {};\n",
              "                    \n",
              "                if (document.getElementById(\"ec765ee5-47c8-4590-bb88-56d7a2ac8ffb\")) {\n",
              "                    Plotly.newPlot(\n",
              "                        'ec765ee5-47c8-4590-bb88-56d7a2ac8ffb',\n",
              "                        [{\"marker\": {\"color\": [1, 1, 1, 1, 2, 2, 3, 4, 4, 4, 6, 11, 12, 15, 15, 16, 19, 23, 24, 24, 27, 27, 28, 28, 28, 28, 28, 29, 30, 31, 58, 111, 209, 436, 602, 833, 977, 1261, 1766, 2337, 3150, 3736, 4335, 5186, 5621, 6284, 6593, 7041, 7313, 7478, 7513, 7755, 7869, 7979, 8086, 8162, 8236, 8320, 8413, 8565, 8652, 8799, 8961, 8961, 9037], \"coloraxis\": \"coloraxis\"}, \"type\": \"bar\", \"x\": [\"2020-01-20T00:00:00\", \"2020-01-21T00:00:00\", \"2020-01-22T00:00:00\", \"2020-01-23T00:00:00\", \"2020-01-24T00:00:00\", \"2020-01-25T00:00:00\", \"2020-01-26T00:00:00\", \"2020-01-27T00:00:00\", \"2020-01-28T00:00:00\", \"2020-01-29T00:00:00\", \"2020-01-30T00:00:00\", \"2020-01-31T00:00:00\", \"2020-02-01T00:00:00\", \"2020-02-02T00:00:00\", \"2020-02-03T00:00:00\", \"2020-02-04T00:00:00\", \"2020-02-05T00:00:00\", \"2020-02-06T00:00:00\", \"2020-02-07T00:00:00\", \"2020-02-08T00:00:00\", \"2020-02-09T00:00:00\", \"2020-02-10T00:00:00\", \"2020-02-11T00:00:00\", \"2020-02-12T00:00:00\", \"2020-02-13T00:00:00\", \"2020-02-14T00:00:00\", \"2020-02-15T00:00:00\", \"2020-02-16T00:00:00\", \"2020-02-17T00:00:00\", \"2020-02-18T00:00:00\", \"2020-02-19T00:00:00\", \"2020-02-20T00:00:00\", \"2020-02-21T00:00:00\", \"2020-02-22T00:00:00\", \"2020-02-23T00:00:00\", \"2020-02-24T00:00:00\", \"2020-02-25T00:00:00\", \"2020-02-26T00:00:00\", \"2020-02-27T00:00:00\", \"2020-02-28T00:00:00\", \"2020-02-29T00:00:00\", \"2020-03-01T00:00:00\", \"2020-03-02T00:00:00\", \"2020-03-03T00:00:00\", \"2020-03-04T00:00:00\", \"2020-03-05T00:00:00\", \"2020-03-06T00:00:00\", \"2020-03-07T00:00:00\", \"2020-03-08T00:00:00\", \"2020-03-09T00:00:00\", \"2020-03-10T00:00:00\", \"2020-03-11T00:00:00\", \"2020-03-12T00:00:00\", \"2020-03-13T00:00:00\", \"2020-03-14T00:00:00\", \"2020-03-15T00:00:00\", \"2020-03-16T00:00:00\", \"2020-03-17T00:00:00\", \"2020-03-18T00:00:00\", \"2020-03-19T00:00:00\", \"2020-03-20T00:00:00\", \"2020-03-21T00:00:00\", \"2020-03-22T00:00:00\", \"2020-03-23T00:00:00\", \"2020-03-24T00:00:00\"], \"xaxis\": \"x\", \"y\": [1, 1, 1, 1, 2, 2, 3, 4, 4, 4, 6, 11, 12, 15, 15, 16, 19, 23, 24, 24, 27, 27, 28, 28, 28, 28, 28, 29, 30, 31, 58, 111, 209, 436, 602, 833, 977, 1261, 1766, 2337, 3150, 3736, 4335, 5186, 5621, 6284, 6593, 7041, 7313, 7478, 7513, 7755, 7869, 7979, 8086, 8162, 8236, 8320, 8413, 8565, 8652, 8799, 8961, 8961, 9037], \"yaxis\": \"y\"}, {\"marker\": {\"color\": [2, 2, 2, 2, 2, 2, 3, 3, 3, 3, 3, 3, 3, 3, 3, 3, 3, 3, 3, 3, 3, 3, 20, 79, 157, 229, 323, 470, 655, 889, 1128, 1701, 2036, 2502, 3089, 3858, 4636, 5883, 7375, 9172, 10149, 12462, 15113, 17660, 21157, 24747, 27980, 31506, 35713, 41035, 47021, 53578, 59138, 63927, 69176], \"coloraxis\": \"coloraxis\"}, \"type\": \"bar\", \"x\": [\"2020-01-31T00:00:00\", \"2020-02-01T00:00:00\", \"2020-02-02T00:00:00\", \"2020-02-03T00:00:00\", \"2020-02-04T00:00:00\", \"2020-02-05T00:00:00\", \"2020-02-06T00:00:00\", \"2020-02-07T00:00:00\", \"2020-02-08T00:00:00\", \"2020-02-09T00:00:00\", \"2020-02-10T00:00:00\", \"2020-02-11T00:00:00\", \"2020-02-12T00:00:00\", \"2020-02-13T00:00:00\", \"2020-02-14T00:00:00\", \"2020-02-15T00:00:00\", \"2020-02-15T00:00:00\", \"2020-02-16T00:00:00\", \"2020-02-17T00:00:00\", \"2020-02-18T00:00:00\", \"2020-02-19T00:00:00\", \"2020-02-20T00:00:00\", \"2020-02-21T00:00:00\", \"2020-02-22T00:00:00\", \"2020-02-23T00:00:00\", \"2020-02-24T00:00:00\", \"2020-02-25T00:00:00\", \"2020-02-26T00:00:00\", \"2020-02-27T00:00:00\", \"2020-02-28T00:00:00\", \"2020-02-29T00:00:00\", \"2020-03-01T00:00:00\", \"2020-03-02T00:00:00\", \"2020-03-03T00:00:00\", \"2020-03-04T00:00:00\", \"2020-03-05T00:00:00\", \"2020-03-06T00:00:00\", \"2020-03-07T00:00:00\", \"2020-03-08T00:00:00\", \"2020-03-09T00:00:00\", \"2020-03-10T00:00:00\", \"2020-03-11T00:00:00\", \"2020-03-12T00:00:00\", \"2020-03-13T00:00:00\", \"2020-03-14T00:00:00\", \"2020-03-15T00:00:00\", \"2020-03-16T00:00:00\", \"2020-03-17T00:00:00\", \"2020-03-18T00:00:00\", \"2020-03-19T00:00:00\", \"2020-03-20T00:00:00\", \"2020-03-21T00:00:00\", \"2020-03-22T00:00:00\", \"2020-03-23T00:00:00\", \"2020-03-24T00:00:00\"], \"xaxis\": \"x2\", \"y\": [2, 2, 2, 2, 2, 2, 3, 3, 3, 3, 3, 3, 3, 3, 3, 3, 3, 3, 3, 3, 3, 3, 20, 79, 157, 229, 323, 470, 655, 889, 1128, 1701, 2036, 2502, 3089, 3858, 4636, 5883, 7375, 9172, 10149, 12462, 15113, 17660, 21157, 24747, 27980, 31506, 35713, 41035, 47021, 53578, 59138, 63927, 69176], \"yaxis\": \"y2\"}, {\"marker\": {\"color\": [1, 1, 1, 2, 3, 3, 3, 3, 3, 3, 3, 3, 3, 3, 3, 3, 3, 3, 3, 3, 3, 3, 3, 3, 3, 3, 3, 3, 3, 3, 3, 3, 6, 9, 28, 30, 31, 34, 39, 43, 56, 62, 73, 82, 102, 113, 119, 142, 156, 194, 244, 330, 396, 499, 536, 562], \"coloraxis\": \"coloraxis\"}, \"type\": \"bar\", \"x\": [\"2020-01-30T00:00:00\", \"2020-01-31T00:00:00\", \"2020-02-01T00:00:00\", \"2020-02-02T00:00:00\", \"2020-02-03T00:00:00\", \"2020-02-04T00:00:00\", \"2020-02-05T00:00:00\", \"2020-02-06T00:00:00\", \"2020-02-07T00:00:00\", \"2020-02-08T00:00:00\", \"2020-02-09T00:00:00\", \"2020-02-10T00:00:00\", \"2020-02-11T00:00:00\", \"2020-02-12T00:00:00\", \"2020-02-13T00:00:00\", \"2020-02-14T00:00:00\", \"2020-02-15T00:00:00\", \"2020-02-16T00:00:00\", \"2020-02-17T00:00:00\", \"2020-02-18T00:00:00\", \"2020-02-19T00:00:00\", \"2020-02-20T00:00:00\", \"2020-02-21T00:00:00\", \"2020-02-22T00:00:00\", \"2020-02-23T00:00:00\", \"2020-02-24T00:00:00\", \"2020-02-25T00:00:00\", \"2020-02-26T00:00:00\", \"2020-02-27T00:00:00\", \"2020-02-28T00:00:00\", \"2020-02-29T00:00:00\", \"2020-03-01T00:00:00\", \"2020-03-02T00:00:00\", \"2020-03-03T00:00:00\", \"2020-03-04T00:00:00\", \"2020-03-05T00:00:00\", \"2020-03-06T00:00:00\", \"2020-03-07T00:00:00\", \"2020-03-08T00:00:00\", \"2020-03-09T00:00:00\", \"2020-03-10T00:00:00\", \"2020-03-11T00:00:00\", \"2020-03-12T00:00:00\", \"2020-03-13T00:00:00\", \"2020-03-14T00:00:00\", \"2020-03-15T00:00:00\", \"2020-03-16T00:00:00\", \"2020-03-17T00:00:00\", \"2020-03-18T00:00:00\", \"2020-03-19T00:00:00\", \"2020-03-20T00:00:00\", \"2020-03-21T00:00:00\", \"2020-03-22T00:00:00\", \"2020-03-23T00:00:00\", \"2020-03-24T00:00:00\", \"2020-03-25T00:00:00\"], \"xaxis\": \"x3\", \"y\": [1, 1, 1, 2, 3, 3, 3, 3, 3, 3, 3, 3, 3, 3, 3, 3, 3, 3, 3, 3, 3, 3, 3, 3, 3, 3, 3, 3, 3, 3, 3, 3, 6, 9, 28, 30, 31, 34, 39, 43, 56, 62, 73, 82, 102, 113, 119, 142, 156, 194, 244, 330, 396, 499, 536, 562], \"yaxis\": \"y3\"}],\n",
              "                        {\"annotations\": [{\"font\": {\"size\": 16}, \"showarrow\": false, \"text\": \"S.Korea\", \"x\": 0.225, \"xanchor\": \"center\", \"xref\": \"paper\", \"y\": 1.0, \"yanchor\": \"bottom\", \"yref\": \"paper\"}, {\"font\": {\"size\": 16}, \"showarrow\": false, \"text\": \"Italy\", \"x\": 0.775, \"xanchor\": \"center\", \"xref\": \"paper\", \"y\": 1.0, \"yanchor\": \"bottom\", \"yref\": \"paper\"}, {\"font\": {\"size\": 16}, \"showarrow\": false, \"text\": \"India\", \"x\": 0.5, \"xanchor\": \"center\", \"xref\": \"paper\", \"y\": 0.375, \"yanchor\": \"bottom\", \"yref\": \"paper\"}], \"coloraxis\": {\"colorscale\": [[0.0, \"rgb(255,0,0)\"], [1.0, \"rgb(0,0,255)\"]]}, \"plot_bgcolor\": \"rgb(230, 230, 230)\", \"showlegend\": false, \"template\": {\"data\": {\"bar\": [{\"error_x\": {\"color\": \"#2a3f5f\"}, \"error_y\": {\"color\": \"#2a3f5f\"}, \"marker\": {\"line\": {\"color\": \"#E5ECF6\", \"width\": 0.5}}, \"type\": \"bar\"}], \"barpolar\": [{\"marker\": {\"line\": {\"color\": \"#E5ECF6\", \"width\": 0.5}}, \"type\": \"barpolar\"}], \"carpet\": [{\"aaxis\": {\"endlinecolor\": \"#2a3f5f\", \"gridcolor\": \"white\", \"linecolor\": \"white\", \"minorgridcolor\": \"white\", \"startlinecolor\": \"#2a3f5f\"}, \"baxis\": {\"endlinecolor\": \"#2a3f5f\", \"gridcolor\": \"white\", \"linecolor\": \"white\", \"minorgridcolor\": \"white\", \"startlinecolor\": \"#2a3f5f\"}, \"type\": \"carpet\"}], \"choropleth\": [{\"colorbar\": {\"outlinewidth\": 0, \"ticks\": \"\"}, \"type\": \"choropleth\"}], \"contour\": [{\"colorbar\": {\"outlinewidth\": 0, \"ticks\": \"\"}, \"colorscale\": [[0.0, \"#0d0887\"], [0.1111111111111111, \"#46039f\"], [0.2222222222222222, \"#7201a8\"], [0.3333333333333333, \"#9c179e\"], [0.4444444444444444, \"#bd3786\"], [0.5555555555555556, \"#d8576b\"], [0.6666666666666666, \"#ed7953\"], [0.7777777777777778, \"#fb9f3a\"], [0.8888888888888888, \"#fdca26\"], [1.0, \"#f0f921\"]], \"type\": \"contour\"}], \"contourcarpet\": [{\"colorbar\": {\"outlinewidth\": 0, \"ticks\": \"\"}, \"type\": \"contourcarpet\"}], \"heatmap\": [{\"colorbar\": {\"outlinewidth\": 0, \"ticks\": \"\"}, \"colorscale\": [[0.0, \"#0d0887\"], [0.1111111111111111, \"#46039f\"], [0.2222222222222222, \"#7201a8\"], [0.3333333333333333, \"#9c179e\"], [0.4444444444444444, \"#bd3786\"], [0.5555555555555556, \"#d8576b\"], [0.6666666666666666, \"#ed7953\"], [0.7777777777777778, \"#fb9f3a\"], [0.8888888888888888, \"#fdca26\"], [1.0, \"#f0f921\"]], \"type\": \"heatmap\"}], \"heatmapgl\": [{\"colorbar\": {\"outlinewidth\": 0, \"ticks\": \"\"}, \"colorscale\": [[0.0, \"#0d0887\"], [0.1111111111111111, \"#46039f\"], [0.2222222222222222, \"#7201a8\"], [0.3333333333333333, \"#9c179e\"], [0.4444444444444444, \"#bd3786\"], [0.5555555555555556, \"#d8576b\"], [0.6666666666666666, \"#ed7953\"], [0.7777777777777778, \"#fb9f3a\"], [0.8888888888888888, \"#fdca26\"], [1.0, \"#f0f921\"]], \"type\": \"heatmapgl\"}], \"histogram\": [{\"marker\": {\"colorbar\": {\"outlinewidth\": 0, \"ticks\": \"\"}}, \"type\": \"histogram\"}], \"histogram2d\": [{\"colorbar\": {\"outlinewidth\": 0, \"ticks\": \"\"}, \"colorscale\": [[0.0, \"#0d0887\"], [0.1111111111111111, \"#46039f\"], [0.2222222222222222, \"#7201a8\"], [0.3333333333333333, \"#9c179e\"], [0.4444444444444444, \"#bd3786\"], [0.5555555555555556, \"#d8576b\"], [0.6666666666666666, \"#ed7953\"], [0.7777777777777778, \"#fb9f3a\"], [0.8888888888888888, \"#fdca26\"], [1.0, \"#f0f921\"]], \"type\": \"histogram2d\"}], \"histogram2dcontour\": [{\"colorbar\": {\"outlinewidth\": 0, \"ticks\": \"\"}, \"colorscale\": [[0.0, \"#0d0887\"], [0.1111111111111111, \"#46039f\"], [0.2222222222222222, \"#7201a8\"], [0.3333333333333333, \"#9c179e\"], [0.4444444444444444, \"#bd3786\"], [0.5555555555555556, \"#d8576b\"], [0.6666666666666666, \"#ed7953\"], [0.7777777777777778, \"#fb9f3a\"], [0.8888888888888888, \"#fdca26\"], [1.0, \"#f0f921\"]], \"type\": \"histogram2dcontour\"}], \"mesh3d\": [{\"colorbar\": {\"outlinewidth\": 0, \"ticks\": \"\"}, \"type\": \"mesh3d\"}], \"parcoords\": [{\"line\": {\"colorbar\": {\"outlinewidth\": 0, \"ticks\": \"\"}}, \"type\": \"parcoords\"}], \"pie\": [{\"automargin\": true, \"type\": \"pie\"}], \"scatter\": [{\"marker\": {\"colorbar\": {\"outlinewidth\": 0, \"ticks\": \"\"}}, \"type\": \"scatter\"}], \"scatter3d\": [{\"line\": {\"colorbar\": {\"outlinewidth\": 0, \"ticks\": \"\"}}, \"marker\": {\"colorbar\": {\"outlinewidth\": 0, \"ticks\": \"\"}}, \"type\": \"scatter3d\"}], \"scattercarpet\": [{\"marker\": {\"colorbar\": {\"outlinewidth\": 0, \"ticks\": \"\"}}, \"type\": \"scattercarpet\"}], \"scattergeo\": [{\"marker\": {\"colorbar\": {\"outlinewidth\": 0, \"ticks\": \"\"}}, \"type\": \"scattergeo\"}], \"scattergl\": [{\"marker\": {\"colorbar\": {\"outlinewidth\": 0, \"ticks\": \"\"}}, \"type\": \"scattergl\"}], \"scattermapbox\": [{\"marker\": {\"colorbar\": {\"outlinewidth\": 0, \"ticks\": \"\"}}, \"type\": \"scattermapbox\"}], \"scatterpolar\": [{\"marker\": {\"colorbar\": {\"outlinewidth\": 0, \"ticks\": \"\"}}, \"type\": \"scatterpolar\"}], \"scatterpolargl\": [{\"marker\": {\"colorbar\": {\"outlinewidth\": 0, \"ticks\": \"\"}}, \"type\": \"scatterpolargl\"}], \"scatterternary\": [{\"marker\": {\"colorbar\": {\"outlinewidth\": 0, \"ticks\": \"\"}}, \"type\": \"scatterternary\"}], \"surface\": [{\"colorbar\": {\"outlinewidth\": 0, \"ticks\": \"\"}, \"colorscale\": [[0.0, \"#0d0887\"], [0.1111111111111111, \"#46039f\"], [0.2222222222222222, \"#7201a8\"], [0.3333333333333333, \"#9c179e\"], [0.4444444444444444, \"#bd3786\"], [0.5555555555555556, \"#d8576b\"], [0.6666666666666666, \"#ed7953\"], [0.7777777777777778, \"#fb9f3a\"], [0.8888888888888888, \"#fdca26\"], [1.0, \"#f0f921\"]], \"type\": \"surface\"}], \"table\": [{\"cells\": {\"fill\": {\"color\": \"#EBF0F8\"}, \"line\": {\"color\": \"white\"}}, \"header\": {\"fill\": {\"color\": \"#C8D4E3\"}, \"line\": {\"color\": \"white\"}}, \"type\": \"table\"}]}, \"layout\": {\"annotationdefaults\": {\"arrowcolor\": \"#2a3f5f\", \"arrowhead\": 0, \"arrowwidth\": 1}, \"coloraxis\": {\"colorbar\": {\"outlinewidth\": 0, \"ticks\": \"\"}}, \"colorscale\": {\"diverging\": [[0, \"#8e0152\"], [0.1, \"#c51b7d\"], [0.2, \"#de77ae\"], [0.3, \"#f1b6da\"], [0.4, \"#fde0ef\"], [0.5, \"#f7f7f7\"], [0.6, \"#e6f5d0\"], [0.7, \"#b8e186\"], [0.8, \"#7fbc41\"], [0.9, \"#4d9221\"], [1, \"#276419\"]], \"sequential\": [[0.0, \"#0d0887\"], [0.1111111111111111, \"#46039f\"], [0.2222222222222222, \"#7201a8\"], [0.3333333333333333, \"#9c179e\"], [0.4444444444444444, \"#bd3786\"], [0.5555555555555556, \"#d8576b\"], [0.6666666666666666, \"#ed7953\"], [0.7777777777777778, \"#fb9f3a\"], [0.8888888888888888, \"#fdca26\"], [1.0, \"#f0f921\"]], \"sequentialminus\": [[0.0, \"#0d0887\"], [0.1111111111111111, \"#46039f\"], [0.2222222222222222, \"#7201a8\"], [0.3333333333333333, \"#9c179e\"], [0.4444444444444444, \"#bd3786\"], [0.5555555555555556, \"#d8576b\"], [0.6666666666666666, \"#ed7953\"], [0.7777777777777778, \"#fb9f3a\"], [0.8888888888888888, \"#fdca26\"], [1.0, \"#f0f921\"]]}, \"colorway\": [\"#636efa\", \"#EF553B\", \"#00cc96\", \"#ab63fa\", \"#FFA15A\", \"#19d3f3\", \"#FF6692\", \"#B6E880\", \"#FF97FF\", \"#FECB52\"], \"font\": {\"color\": \"#2a3f5f\"}, \"geo\": {\"bgcolor\": \"white\", \"lakecolor\": \"white\", \"landcolor\": \"#E5ECF6\", \"showlakes\": true, \"showland\": true, \"subunitcolor\": \"white\"}, \"hoverlabel\": {\"align\": \"left\"}, \"hovermode\": \"closest\", \"mapbox\": {\"style\": \"light\"}, \"paper_bgcolor\": \"white\", \"plot_bgcolor\": \"#E5ECF6\", \"polar\": {\"angularaxis\": {\"gridcolor\": \"white\", \"linecolor\": \"white\", \"ticks\": \"\"}, \"bgcolor\": \"#E5ECF6\", \"radialaxis\": {\"gridcolor\": \"white\", \"linecolor\": \"white\", \"ticks\": \"\"}}, \"scene\": {\"xaxis\": {\"backgroundcolor\": \"#E5ECF6\", \"gridcolor\": \"white\", \"gridwidth\": 2, \"linecolor\": \"white\", \"showbackground\": true, \"ticks\": \"\", \"zerolinecolor\": \"white\"}, \"yaxis\": {\"backgroundcolor\": \"#E5ECF6\", \"gridcolor\": \"white\", \"gridwidth\": 2, \"linecolor\": \"white\", \"showbackground\": true, \"ticks\": \"\", \"zerolinecolor\": \"white\"}, \"zaxis\": {\"backgroundcolor\": \"#E5ECF6\", \"gridcolor\": \"white\", \"gridwidth\": 2, \"linecolor\": \"white\", \"showbackground\": true, \"ticks\": \"\", \"zerolinecolor\": \"white\"}}, \"shapedefaults\": {\"line\": {\"color\": \"#2a3f5f\"}}, \"ternary\": {\"aaxis\": {\"gridcolor\": \"white\", \"linecolor\": \"white\", \"ticks\": \"\"}, \"baxis\": {\"gridcolor\": \"white\", \"linecolor\": \"white\", \"ticks\": \"\"}, \"bgcolor\": \"#E5ECF6\", \"caxis\": {\"gridcolor\": \"white\", \"linecolor\": \"white\", \"ticks\": \"\"}}, \"title\": {\"x\": 0.05}, \"xaxis\": {\"automargin\": true, \"gridcolor\": \"white\", \"linecolor\": \"white\", \"ticks\": \"\", \"title\": {\"standoff\": 15}, \"zerolinecolor\": \"white\", \"zerolinewidth\": 2}, \"yaxis\": {\"automargin\": true, \"gridcolor\": \"white\", \"linecolor\": \"white\", \"ticks\": \"\", \"title\": {\"standoff\": 15}, \"zerolinecolor\": \"white\", \"zerolinewidth\": 2}}}, \"title\": {\"text\": \"Total Confirmed cases(Cumulative)\"}, \"xaxis\": {\"anchor\": \"y\", \"domain\": [0.0, 0.45]}, \"xaxis2\": {\"anchor\": \"y2\", \"domain\": [0.55, 1.0]}, \"xaxis3\": {\"anchor\": \"y3\", \"domain\": [0.0, 1.0]}, \"yaxis\": {\"anchor\": \"x\", \"domain\": [0.625, 1.0]}, \"yaxis2\": {\"anchor\": \"x2\", \"domain\": [0.625, 1.0]}, \"yaxis3\": {\"anchor\": \"x3\", \"domain\": [0.0, 0.375]}},\n",
              "                        {\"responsive\": true}\n",
              "                    ).then(function(){\n",
              "                            \n",
              "var gd = document.getElementById('ec765ee5-47c8-4590-bb88-56d7a2ac8ffb');\n",
              "var x = new MutationObserver(function (mutations, observer) {{\n",
              "        var display = window.getComputedStyle(gd).display;\n",
              "        if (!display || display === 'none') {{\n",
              "            console.log([gd, 'removed!']);\n",
              "            Plotly.purge(gd);\n",
              "            observer.disconnect();\n",
              "        }}\n",
              "}});\n",
              "\n",
              "// Listen for the removal of the full notebook cells\n",
              "var notebookContainer = gd.closest('#notebook-container');\n",
              "if (notebookContainer) {{\n",
              "    x.observe(notebookContainer, {childList: true});\n",
              "}}\n",
              "\n",
              "// Listen for the clearing of the current output cell\n",
              "var outputEl = gd.closest('.output');\n",
              "if (outputEl) {{\n",
              "    x.observe(outputEl, {childList: true});\n",
              "}}\n",
              "\n",
              "                        })\n",
              "                };\n",
              "                \n",
              "            </script>\n",
              "        </div>\n",
              "</body>\n",
              "</html>"
            ]
          },
          "metadata": {
            "tags": []
          }
        }
      ]
    },
    {
      "cell_type": "markdown",
      "metadata": {
        "id": "AQ73T8PrdhGB",
        "colab_type": "text"
      },
      "source": [
        "## 2.3 Trend after crossing 100 cases"
      ]
    },
    {
      "cell_type": "code",
      "metadata": {
        "_kg_hide-input": true,
        "_kg_hide-output": false,
        "id": "lGP06omtdhGD",
        "colab_type": "code",
        "outputId": "795d4063-3828-49b5-979a-5d5986b542ca",
        "colab": {
          "base_uri": "https://localhost:8080/",
          "height": 542
        }
      },
      "source": [
        "# import plotly.graph_objects as go\n",
        "\n",
        "title = 'Main Source for News'\n",
        "labels = ['S.Korea', 'Italy', 'India']\n",
        "colors = ['rgb(122,128,0)', 'rgb(255,0,0)', 'rgb(49,130,189)']\n",
        "\n",
        "mode_size = [10, 10, 12]\n",
        "line_size = [1, 1, 8]\n",
        "\n",
        "fig = go.Figure()\n",
        "\n",
        "\n",
        "fig.add_trace(go.Scatter(x=dbd_Korea['Days after surpassing 100 cases'], \n",
        "                 y=dbd_Korea['Total Cases'],mode='lines',\n",
        "                 name=labels[0],\n",
        "                 line=dict(color=colors[0], width=line_size[0]),            \n",
        "                 connectgaps=True))\n",
        "fig.add_trace(go.Scatter(x=dbd_Italy['Days after surpassing 100 cases'], \n",
        "                 y=dbd_Italy['Total Cases'],mode='lines',\n",
        "                 name=labels[1],\n",
        "                 line=dict(color=colors[1], width=line_size[1]),            \n",
        "                 connectgaps=True))\n",
        "\n",
        "fig.add_trace(go.Scatter(x=dbd_India['Days after surpassing 100 cases'], \n",
        "                 y=dbd_India['Total Cases'],mode='lines',\n",
        "                 name=labels[2],\n",
        "                 line=dict(color=colors[2], width=line_size[2]),            \n",
        "                 connectgaps=True))\n",
        "    \n",
        "    \n",
        "    \n",
        "annotations = []\n",
        "\n",
        "annotations.append(dict(xref='paper', yref='paper', x=0.5, y=-0.1,\n",
        "                              xanchor='center', yanchor='top',\n",
        "                              text='Days after crossing 100 cases ',\n",
        "                              font=dict(family='Arial',\n",
        "                                        size=12,\n",
        "                                        color='rgb(150,150,150)'),\n",
        "                              showarrow=False))\n",
        "\n",
        "fig.update_layout(annotations=annotations,plot_bgcolor='white',yaxis_title='Cumulative cases')\n",
        "\n",
        "fig.show()"
      ],
      "execution_count": 22,
      "outputs": [
        {
          "output_type": "display_data",
          "data": {
            "text/html": [
              "<html>\n",
              "<head><meta charset=\"utf-8\" /></head>\n",
              "<body>\n",
              "    <div>\n",
              "            <script src=\"https://cdnjs.cloudflare.com/ajax/libs/mathjax/2.7.5/MathJax.js?config=TeX-AMS-MML_SVG\"></script><script type=\"text/javascript\">if (window.MathJax) {MathJax.Hub.Config({SVG: {font: \"STIX-Web\"}});}</script>\n",
              "                <script type=\"text/javascript\">window.PlotlyConfig = {MathJaxConfig: 'local'};</script>\n",
              "        <script src=\"https://cdn.plot.ly/plotly-latest.min.js\"></script>    \n",
              "            <div id=\"e4e08aea-f90b-475e-9e18-ee50e2defd10\" class=\"plotly-graph-div\" style=\"height:525px; width:100%;\"></div>\n",
              "            <script type=\"text/javascript\">\n",
              "                \n",
              "                    window.PLOTLYENV=window.PLOTLYENV || {};\n",
              "                    \n",
              "                if (document.getElementById(\"e4e08aea-f90b-475e-9e18-ee50e2defd10\")) {\n",
              "                    Plotly.newPlot(\n",
              "                        'e4e08aea-f90b-475e-9e18-ee50e2defd10',\n",
              "                        [{\"connectgaps\": true, \"line\": {\"color\": \"rgb(122,128,0)\", \"width\": 1}, \"mode\": \"lines\", \"name\": \"S.Korea\", \"type\": \"scatter\", \"x\": [null, null, null, null, null, null, null, null, null, null, null, null, null, null, null, null, null, null, null, null, null, null, null, null, null, null, null, null, null, null, null, 0.0, 1.0, 2.0, 3.0, 4.0, 5.0, 6.0, 7.0, 8.0, 9.0, 10.0, 11.0, 12.0, 13.0, 14.0, 15.0, 16.0, 17.0, 18.0, 19.0, 20.0, 21.0, 22.0, 23.0, 24.0, 25.0, 26.0, 27.0, 28.0, 29.0, 30.0, 31.0, 32.0, 33.0], \"y\": [1, 1, 1, 1, 2, 2, 3, 4, 4, 4, 6, 11, 12, 15, 15, 16, 19, 23, 24, 24, 27, 27, 28, 28, 28, 28, 28, 29, 30, 31, 58, 111, 209, 436, 602, 833, 977, 1261, 1766, 2337, 3150, 3736, 4335, 5186, 5621, 6284, 6593, 7041, 7313, 7478, 7513, 7755, 7869, 7979, 8086, 8162, 8236, 8320, 8413, 8565, 8652, 8799, 8961, 8961, 9037]}, {\"connectgaps\": true, \"line\": {\"color\": \"rgb(255,0,0)\", \"width\": 1}, \"mode\": \"lines\", \"name\": \"Italy\", \"type\": \"scatter\", \"x\": [null, null, null, null, null, null, null, null, null, null, null, null, null, null, null, null, null, null, null, null, null, null, null, null, 0.0, 1.0, 2.0, 3.0, 4.0, 5.0, 6.0, 7.0, 8.0, 9.0, 10.0, 11.0, 12.0, 13.0, 14.0, 15.0, 16.0, 17.0, 18.0, 19.0, 20.0, 21.0, 22.0, 23.0, 24.0, 25.0, 26.0, 27.0, 28.0, 29.0, 30.0], \"y\": [2, 2, 2, 2, 2, 2, 3, 3, 3, 3, 3, 3, 3, 3, 3, 3, 3, 3, 3, 3, 3, 3, 20, 79, 157, 229, 323, 470, 655, 889, 1128, 1701, 2036, 2502, 3089, 3858, 4636, 5883, 7375, 9172, 10149, 12462, 15113, 17660, 21157, 24747, 27980, 31506, 35713, 41035, 47021, 53578, 59138, 63927, 69176]}, {\"connectgaps\": true, \"line\": {\"color\": \"rgb(49,130,189)\", \"width\": 8}, \"mode\": \"lines\", \"name\": \"India\", \"type\": \"scatter\", \"x\": [null, null, null, null, null, null, null, null, null, null, null, null, null, null, null, null, null, null, null, null, null, null, null, null, null, null, null, null, null, null, null, null, null, null, null, null, null, null, null, null, null, null, null, null, 0.0, 1.0, 2.0, 3.0, 4.0, 5.0, 6.0, 7.0, 8.0, 9.0, 10.0, 11.0], \"y\": [1, 1, 1, 2, 3, 3, 3, 3, 3, 3, 3, 3, 3, 3, 3, 3, 3, 3, 3, 3, 3, 3, 3, 3, 3, 3, 3, 3, 3, 3, 3, 3, 6, 9, 28, 30, 31, 34, 39, 43, 56, 62, 73, 82, 102, 113, 119, 142, 156, 194, 244, 330, 396, 499, 536, 562]}],\n",
              "                        {\"annotations\": [{\"font\": {\"color\": \"rgb(150,150,150)\", \"family\": \"Arial\", \"size\": 12}, \"showarrow\": false, \"text\": \"Days after crossing 100 cases \", \"x\": 0.5, \"xanchor\": \"center\", \"xref\": \"paper\", \"y\": -0.1, \"yanchor\": \"top\", \"yref\": \"paper\"}], \"plot_bgcolor\": \"white\", \"template\": {\"data\": {\"bar\": [{\"error_x\": {\"color\": \"#2a3f5f\"}, \"error_y\": {\"color\": \"#2a3f5f\"}, \"marker\": {\"line\": {\"color\": \"#E5ECF6\", \"width\": 0.5}}, \"type\": \"bar\"}], \"barpolar\": [{\"marker\": {\"line\": {\"color\": \"#E5ECF6\", \"width\": 0.5}}, \"type\": \"barpolar\"}], \"carpet\": [{\"aaxis\": {\"endlinecolor\": \"#2a3f5f\", \"gridcolor\": \"white\", \"linecolor\": \"white\", \"minorgridcolor\": \"white\", \"startlinecolor\": \"#2a3f5f\"}, \"baxis\": {\"endlinecolor\": \"#2a3f5f\", \"gridcolor\": \"white\", \"linecolor\": \"white\", \"minorgridcolor\": \"white\", \"startlinecolor\": \"#2a3f5f\"}, \"type\": \"carpet\"}], \"choropleth\": [{\"colorbar\": {\"outlinewidth\": 0, \"ticks\": \"\"}, \"type\": \"choropleth\"}], \"contour\": [{\"colorbar\": {\"outlinewidth\": 0, \"ticks\": \"\"}, \"colorscale\": [[0.0, \"#0d0887\"], [0.1111111111111111, \"#46039f\"], [0.2222222222222222, \"#7201a8\"], [0.3333333333333333, \"#9c179e\"], [0.4444444444444444, \"#bd3786\"], [0.5555555555555556, \"#d8576b\"], [0.6666666666666666, \"#ed7953\"], [0.7777777777777778, \"#fb9f3a\"], [0.8888888888888888, \"#fdca26\"], [1.0, \"#f0f921\"]], \"type\": \"contour\"}], \"contourcarpet\": [{\"colorbar\": {\"outlinewidth\": 0, \"ticks\": \"\"}, \"type\": \"contourcarpet\"}], \"heatmap\": [{\"colorbar\": {\"outlinewidth\": 0, \"ticks\": \"\"}, \"colorscale\": [[0.0, \"#0d0887\"], [0.1111111111111111, \"#46039f\"], [0.2222222222222222, \"#7201a8\"], [0.3333333333333333, \"#9c179e\"], [0.4444444444444444, \"#bd3786\"], [0.5555555555555556, \"#d8576b\"], [0.6666666666666666, \"#ed7953\"], [0.7777777777777778, \"#fb9f3a\"], [0.8888888888888888, \"#fdca26\"], [1.0, \"#f0f921\"]], \"type\": \"heatmap\"}], \"heatmapgl\": [{\"colorbar\": {\"outlinewidth\": 0, \"ticks\": \"\"}, \"colorscale\": [[0.0, \"#0d0887\"], [0.1111111111111111, \"#46039f\"], [0.2222222222222222, \"#7201a8\"], [0.3333333333333333, \"#9c179e\"], [0.4444444444444444, \"#bd3786\"], [0.5555555555555556, \"#d8576b\"], [0.6666666666666666, \"#ed7953\"], [0.7777777777777778, \"#fb9f3a\"], [0.8888888888888888, \"#fdca26\"], [1.0, \"#f0f921\"]], \"type\": \"heatmapgl\"}], \"histogram\": [{\"marker\": {\"colorbar\": {\"outlinewidth\": 0, \"ticks\": \"\"}}, \"type\": \"histogram\"}], \"histogram2d\": [{\"colorbar\": {\"outlinewidth\": 0, \"ticks\": \"\"}, \"colorscale\": [[0.0, \"#0d0887\"], [0.1111111111111111, \"#46039f\"], [0.2222222222222222, \"#7201a8\"], [0.3333333333333333, \"#9c179e\"], [0.4444444444444444, \"#bd3786\"], [0.5555555555555556, \"#d8576b\"], [0.6666666666666666, \"#ed7953\"], [0.7777777777777778, \"#fb9f3a\"], [0.8888888888888888, \"#fdca26\"], [1.0, \"#f0f921\"]], \"type\": \"histogram2d\"}], \"histogram2dcontour\": [{\"colorbar\": {\"outlinewidth\": 0, \"ticks\": \"\"}, \"colorscale\": [[0.0, \"#0d0887\"], [0.1111111111111111, \"#46039f\"], [0.2222222222222222, \"#7201a8\"], [0.3333333333333333, \"#9c179e\"], [0.4444444444444444, \"#bd3786\"], [0.5555555555555556, \"#d8576b\"], [0.6666666666666666, \"#ed7953\"], [0.7777777777777778, \"#fb9f3a\"], [0.8888888888888888, \"#fdca26\"], [1.0, \"#f0f921\"]], \"type\": \"histogram2dcontour\"}], \"mesh3d\": [{\"colorbar\": {\"outlinewidth\": 0, \"ticks\": \"\"}, \"type\": \"mesh3d\"}], \"parcoords\": [{\"line\": {\"colorbar\": {\"outlinewidth\": 0, \"ticks\": \"\"}}, \"type\": \"parcoords\"}], \"pie\": [{\"automargin\": true, \"type\": \"pie\"}], \"scatter\": [{\"marker\": {\"colorbar\": {\"outlinewidth\": 0, \"ticks\": \"\"}}, \"type\": \"scatter\"}], \"scatter3d\": [{\"line\": {\"colorbar\": {\"outlinewidth\": 0, \"ticks\": \"\"}}, \"marker\": {\"colorbar\": {\"outlinewidth\": 0, \"ticks\": \"\"}}, \"type\": \"scatter3d\"}], \"scattercarpet\": [{\"marker\": {\"colorbar\": {\"outlinewidth\": 0, \"ticks\": \"\"}}, \"type\": \"scattercarpet\"}], \"scattergeo\": [{\"marker\": {\"colorbar\": {\"outlinewidth\": 0, \"ticks\": \"\"}}, \"type\": \"scattergeo\"}], \"scattergl\": [{\"marker\": {\"colorbar\": {\"outlinewidth\": 0, \"ticks\": \"\"}}, \"type\": \"scattergl\"}], \"scattermapbox\": [{\"marker\": {\"colorbar\": {\"outlinewidth\": 0, \"ticks\": \"\"}}, \"type\": \"scattermapbox\"}], \"scatterpolar\": [{\"marker\": {\"colorbar\": {\"outlinewidth\": 0, \"ticks\": \"\"}}, \"type\": \"scatterpolar\"}], \"scatterpolargl\": [{\"marker\": {\"colorbar\": {\"outlinewidth\": 0, \"ticks\": \"\"}}, \"type\": \"scatterpolargl\"}], \"scatterternary\": [{\"marker\": {\"colorbar\": {\"outlinewidth\": 0, \"ticks\": \"\"}}, \"type\": \"scatterternary\"}], \"surface\": [{\"colorbar\": {\"outlinewidth\": 0, \"ticks\": \"\"}, \"colorscale\": [[0.0, \"#0d0887\"], [0.1111111111111111, \"#46039f\"], [0.2222222222222222, \"#7201a8\"], [0.3333333333333333, \"#9c179e\"], [0.4444444444444444, \"#bd3786\"], [0.5555555555555556, \"#d8576b\"], [0.6666666666666666, \"#ed7953\"], [0.7777777777777778, \"#fb9f3a\"], [0.8888888888888888, \"#fdca26\"], [1.0, \"#f0f921\"]], \"type\": \"surface\"}], \"table\": [{\"cells\": {\"fill\": {\"color\": \"#EBF0F8\"}, \"line\": {\"color\": \"white\"}}, \"header\": {\"fill\": {\"color\": \"#C8D4E3\"}, \"line\": {\"color\": \"white\"}}, \"type\": \"table\"}]}, \"layout\": {\"annotationdefaults\": {\"arrowcolor\": \"#2a3f5f\", \"arrowhead\": 0, \"arrowwidth\": 1}, \"coloraxis\": {\"colorbar\": {\"outlinewidth\": 0, \"ticks\": \"\"}}, \"colorscale\": {\"diverging\": [[0, \"#8e0152\"], [0.1, \"#c51b7d\"], [0.2, \"#de77ae\"], [0.3, \"#f1b6da\"], [0.4, \"#fde0ef\"], [0.5, \"#f7f7f7\"], [0.6, \"#e6f5d0\"], [0.7, \"#b8e186\"], [0.8, \"#7fbc41\"], [0.9, \"#4d9221\"], [1, \"#276419\"]], \"sequential\": [[0.0, \"#0d0887\"], [0.1111111111111111, \"#46039f\"], [0.2222222222222222, \"#7201a8\"], [0.3333333333333333, \"#9c179e\"], [0.4444444444444444, \"#bd3786\"], [0.5555555555555556, \"#d8576b\"], [0.6666666666666666, \"#ed7953\"], [0.7777777777777778, \"#fb9f3a\"], [0.8888888888888888, \"#fdca26\"], [1.0, \"#f0f921\"]], \"sequentialminus\": [[0.0, \"#0d0887\"], [0.1111111111111111, \"#46039f\"], [0.2222222222222222, \"#7201a8\"], [0.3333333333333333, \"#9c179e\"], [0.4444444444444444, \"#bd3786\"], [0.5555555555555556, \"#d8576b\"], [0.6666666666666666, \"#ed7953\"], [0.7777777777777778, \"#fb9f3a\"], [0.8888888888888888, \"#fdca26\"], [1.0, \"#f0f921\"]]}, \"colorway\": [\"#636efa\", \"#EF553B\", \"#00cc96\", \"#ab63fa\", \"#FFA15A\", \"#19d3f3\", \"#FF6692\", \"#B6E880\", \"#FF97FF\", \"#FECB52\"], \"font\": {\"color\": \"#2a3f5f\"}, \"geo\": {\"bgcolor\": \"white\", \"lakecolor\": \"white\", \"landcolor\": \"#E5ECF6\", \"showlakes\": true, \"showland\": true, \"subunitcolor\": \"white\"}, \"hoverlabel\": {\"align\": \"left\"}, \"hovermode\": \"closest\", \"mapbox\": {\"style\": \"light\"}, \"paper_bgcolor\": \"white\", \"plot_bgcolor\": \"#E5ECF6\", \"polar\": {\"angularaxis\": {\"gridcolor\": \"white\", \"linecolor\": \"white\", \"ticks\": \"\"}, \"bgcolor\": \"#E5ECF6\", \"radialaxis\": {\"gridcolor\": \"white\", \"linecolor\": \"white\", \"ticks\": \"\"}}, \"scene\": {\"xaxis\": {\"backgroundcolor\": \"#E5ECF6\", \"gridcolor\": \"white\", \"gridwidth\": 2, \"linecolor\": \"white\", \"showbackground\": true, \"ticks\": \"\", \"zerolinecolor\": \"white\"}, \"yaxis\": {\"backgroundcolor\": \"#E5ECF6\", \"gridcolor\": \"white\", \"gridwidth\": 2, \"linecolor\": \"white\", \"showbackground\": true, \"ticks\": \"\", \"zerolinecolor\": \"white\"}, \"zaxis\": {\"backgroundcolor\": \"#E5ECF6\", \"gridcolor\": \"white\", \"gridwidth\": 2, \"linecolor\": \"white\", \"showbackground\": true, \"ticks\": \"\", \"zerolinecolor\": \"white\"}}, \"shapedefaults\": {\"line\": {\"color\": \"#2a3f5f\"}}, \"ternary\": {\"aaxis\": {\"gridcolor\": \"white\", \"linecolor\": \"white\", \"ticks\": \"\"}, \"baxis\": {\"gridcolor\": \"white\", \"linecolor\": \"white\", \"ticks\": \"\"}, \"bgcolor\": \"#E5ECF6\", \"caxis\": {\"gridcolor\": \"white\", \"linecolor\": \"white\", \"ticks\": \"\"}}, \"title\": {\"x\": 0.05}, \"xaxis\": {\"automargin\": true, \"gridcolor\": \"white\", \"linecolor\": \"white\", \"ticks\": \"\", \"title\": {\"standoff\": 15}, \"zerolinecolor\": \"white\", \"zerolinewidth\": 2}, \"yaxis\": {\"automargin\": true, \"gridcolor\": \"white\", \"linecolor\": \"white\", \"ticks\": \"\", \"title\": {\"standoff\": 15}, \"zerolinecolor\": \"white\", \"zerolinewidth\": 2}}}, \"yaxis\": {\"title\": {\"text\": \"Cumulative cases\"}}},\n",
              "                        {\"responsive\": true}\n",
              "                    ).then(function(){\n",
              "                            \n",
              "var gd = document.getElementById('e4e08aea-f90b-475e-9e18-ee50e2defd10');\n",
              "var x = new MutationObserver(function (mutations, observer) {{\n",
              "        var display = window.getComputedStyle(gd).display;\n",
              "        if (!display || display === 'none') {{\n",
              "            console.log([gd, 'removed!']);\n",
              "            Plotly.purge(gd);\n",
              "            observer.disconnect();\n",
              "        }}\n",
              "}});\n",
              "\n",
              "// Listen for the removal of the full notebook cells\n",
              "var notebookContainer = gd.closest('#notebook-container');\n",
              "if (notebookContainer) {{\n",
              "    x.observe(notebookContainer, {childList: true});\n",
              "}}\n",
              "\n",
              "// Listen for the clearing of the current output cell\n",
              "var outputEl = gd.closest('.output');\n",
              "if (outputEl) {{\n",
              "    x.observe(outputEl, {childList: true});\n",
              "}}\n",
              "\n",
              "                        })\n",
              "                };\n",
              "                \n",
              "            </script>\n",
              "        </div>\n",
              "</body>\n",
              "</html>"
            ]
          },
          "metadata": {
            "tags": []
          }
        }
      ]
    },
    {
      "cell_type": "markdown",
      "metadata": {
        "id": "uDIBn_O4511_",
        "colab_type": "text"
      },
      "source": [
        "\n",
        "**Visualization Inference:** \n",
        "\n",
        "* Above graph depicts the number of days after the COVID-19 cases crosses 100 vs total number of cases in each country. \n",
        "* Both Italy and S.Korea have crossed the mark of 5600 in the next 13 days.\n",
        "* Number of cases detected(trend) in India is less as compared to Italy and S.Korea"
      ]
    },
    {
      "cell_type": "markdown",
      "metadata": {
        "id": "mCQ7l2xJM5Ke",
        "colab_type": "text"
      },
      "source": [
        "##2.4 Why is India testing so little?\n"
      ]
    },
    {
      "cell_type": "markdown",
      "metadata": {
        "id": "bjWaYSlqZBPo",
        "colab_type": "text"
      },
      "source": [
        "[CNN Report](hhttps://www.bbc.com/news/amp/world-asia-india-51922204)\n",
        "###**Why is a densely populated country with more than a billion people testing so little?** \n",
        "\n",
        "The official assumption is the disease has still not spread in the community. As early \"evidence\" health authorities say 826 samples collected from patients suffering from acute respiratory disease from 50 government hospitals across India between 1 and 15 March tested negative for coronavirus. Also, hospitals have not yet reported a spike in admissions of respiratory distress cases.\n",
        "\n",
        "\"It is reassuring that at the moment there is no evidence of community outbreak,\" says Balram Bhargava, director of the Indian Council of Medical Research (ICMR). He believes Mr Ghebreyesus's advice is \"premature\" for India, and it would only \"create more fear, more paranoia and more hype\".\n",
        "\n",
        "**But experts are not so sure.**\n",
        "\n",
        "Many of them believe India is also testing below scale because it fears that its under-resourced and uneven public health system could be swamped by patients. India could be buying time to stock up on testing kits and add isolation and hospital beds. \"I know mass testing is not a solution, but our testing appears to be too limited. We need to quickly expand to restrict community transmission,\" K Sujatha Rao, former federal health secretary and author of But Do We Care: India's Health System.\n",
        "\n",
        "**India** has eight doctors per 10,000 people compared to 41 in **Italy** and 71 in **Korea**. It has one state-run hospital for more than 55,000 people. (Private hospitals are out of reach for most people). India has a poor culture of testing, and most people with flu symptoms do not go to doctors and instead try home remedies or go to pharmacies. There's a scarcity of isolation beds, trained nursing staff and medics, and ventilators and intensive care beds.\n",
        "###India poor testing rate masked coronavirus cases: [Report](https://www.aljazeera.com/news/2020/03/india-poor-testing-rate-masked-coronavirus-cases-200318040314568.html)\n"
      ]
    },
    {
      "cell_type": "markdown",
      "metadata": {
        "id": "PNpM1HZdGHfE",
        "colab_type": "text"
      },
      "source": [
        "#Part 3:  Exploring World wide data\n"
      ]
    },
    {
      "cell_type": "code",
      "metadata": {
        "id": "FxUI1AFfL9lR",
        "colab_type": "code",
        "colab": {}
      },
      "source": [
        "df = pd.read_csv('/content/covid_19_clean_complete.csv',parse_dates=['Date'])\n",
        "df.rename(columns={'ObservationDate':'Date', 'Country/Region':'Country'}, inplace=True)\n",
        "\n",
        "df_confirmed = pd.read_csv(\"/content/time_series_covid19_confirmed_global.csv\")\n",
        "df_recovered = pd.read_csv(\"/content/time_series_covid19_recovered_global.csv\")\n",
        "df_deaths = pd.read_csv(\"/content/time_series_covid19_deaths_global.csv\")\n",
        "\n",
        "df_confirmed.rename(columns={'Country/Region':'Country'}, inplace=True)\n",
        "df_recovered.rename(columns={'Country/Region':'Country'}, inplace=True)\n",
        "df_deaths.rename(columns={'Country/Region':'Country'}, inplace=True)"
      ],
      "execution_count": 0,
      "outputs": []
    },
    {
      "cell_type": "code",
      "metadata": {
        "id": "my9r-690MR6R",
        "colab_type": "code",
        "outputId": "41b4871d-9ba2-4495-b295-19cff74209db",
        "colab": {
          "base_uri": "https://localhost:8080/",
          "height": 224
        }
      },
      "source": [
        "df_deaths.head()"
      ],
      "execution_count": 29,
      "outputs": [
        {
          "output_type": "execute_result",
          "data": {
            "text/html": [
              "<div>\n",
              "<style scoped>\n",
              "    .dataframe tbody tr th:only-of-type {\n",
              "        vertical-align: middle;\n",
              "    }\n",
              "\n",
              "    .dataframe tbody tr th {\n",
              "        vertical-align: top;\n",
              "    }\n",
              "\n",
              "    .dataframe thead th {\n",
              "        text-align: right;\n",
              "    }\n",
              "</style>\n",
              "<table border=\"1\" class=\"dataframe\">\n",
              "  <thead>\n",
              "    <tr style=\"text-align: right;\">\n",
              "      <th></th>\n",
              "      <th>Province/State</th>\n",
              "      <th>Country</th>\n",
              "      <th>Lat</th>\n",
              "      <th>Long</th>\n",
              "      <th>1/22/20</th>\n",
              "      <th>1/23/20</th>\n",
              "      <th>1/24/20</th>\n",
              "      <th>1/25/20</th>\n",
              "      <th>1/26/20</th>\n",
              "      <th>1/27/20</th>\n",
              "      <th>1/28/20</th>\n",
              "      <th>1/29/20</th>\n",
              "      <th>1/30/20</th>\n",
              "      <th>1/31/20</th>\n",
              "      <th>2/1/20</th>\n",
              "      <th>2/2/20</th>\n",
              "      <th>2/3/20</th>\n",
              "      <th>2/4/20</th>\n",
              "      <th>2/5/20</th>\n",
              "      <th>2/6/20</th>\n",
              "      <th>2/7/20</th>\n",
              "      <th>2/8/20</th>\n",
              "      <th>2/9/20</th>\n",
              "      <th>2/10/20</th>\n",
              "      <th>2/11/20</th>\n",
              "      <th>2/12/20</th>\n",
              "      <th>2/13/20</th>\n",
              "      <th>2/14/20</th>\n",
              "      <th>2/15/20</th>\n",
              "      <th>2/16/20</th>\n",
              "      <th>2/17/20</th>\n",
              "      <th>2/18/20</th>\n",
              "      <th>2/19/20</th>\n",
              "      <th>2/20/20</th>\n",
              "      <th>2/21/20</th>\n",
              "      <th>2/22/20</th>\n",
              "      <th>2/23/20</th>\n",
              "      <th>2/24/20</th>\n",
              "      <th>2/25/20</th>\n",
              "      <th>2/26/20</th>\n",
              "      <th>2/27/20</th>\n",
              "      <th>2/28/20</th>\n",
              "      <th>2/29/20</th>\n",
              "      <th>3/1/20</th>\n",
              "      <th>3/2/20</th>\n",
              "      <th>3/3/20</th>\n",
              "      <th>3/4/20</th>\n",
              "      <th>3/5/20</th>\n",
              "      <th>3/6/20</th>\n",
              "      <th>3/7/20</th>\n",
              "      <th>3/8/20</th>\n",
              "      <th>3/9/20</th>\n",
              "      <th>3/10/20</th>\n",
              "      <th>3/11/20</th>\n",
              "      <th>3/12/20</th>\n",
              "      <th>3/13/20</th>\n",
              "      <th>3/14/20</th>\n",
              "      <th>3/15/20</th>\n",
              "      <th>3/16/20</th>\n",
              "      <th>3/17/20</th>\n",
              "      <th>3/18/20</th>\n",
              "      <th>3/19/20</th>\n",
              "      <th>3/20/20</th>\n",
              "      <th>3/21/20</th>\n",
              "      <th>3/22/20</th>\n",
              "      <th>3/23/20</th>\n",
              "      <th>3/24/20</th>\n",
              "    </tr>\n",
              "  </thead>\n",
              "  <tbody>\n",
              "    <tr>\n",
              "      <th>0</th>\n",
              "      <td>NaN</td>\n",
              "      <td>Afghanistan</td>\n",
              "      <td>33.0000</td>\n",
              "      <td>65.0000</td>\n",
              "      <td>0</td>\n",
              "      <td>0</td>\n",
              "      <td>0</td>\n",
              "      <td>0</td>\n",
              "      <td>0</td>\n",
              "      <td>0</td>\n",
              "      <td>0</td>\n",
              "      <td>0</td>\n",
              "      <td>0</td>\n",
              "      <td>0</td>\n",
              "      <td>0</td>\n",
              "      <td>0</td>\n",
              "      <td>0</td>\n",
              "      <td>0</td>\n",
              "      <td>0</td>\n",
              "      <td>0</td>\n",
              "      <td>0</td>\n",
              "      <td>0</td>\n",
              "      <td>0</td>\n",
              "      <td>0</td>\n",
              "      <td>0</td>\n",
              "      <td>0</td>\n",
              "      <td>0</td>\n",
              "      <td>0</td>\n",
              "      <td>0</td>\n",
              "      <td>0</td>\n",
              "      <td>0</td>\n",
              "      <td>0</td>\n",
              "      <td>0</td>\n",
              "      <td>0</td>\n",
              "      <td>0</td>\n",
              "      <td>0</td>\n",
              "      <td>0</td>\n",
              "      <td>0</td>\n",
              "      <td>0</td>\n",
              "      <td>0</td>\n",
              "      <td>0</td>\n",
              "      <td>0</td>\n",
              "      <td>0</td>\n",
              "      <td>0</td>\n",
              "      <td>0</td>\n",
              "      <td>0</td>\n",
              "      <td>0</td>\n",
              "      <td>0</td>\n",
              "      <td>0</td>\n",
              "      <td>0</td>\n",
              "      <td>0</td>\n",
              "      <td>0</td>\n",
              "      <td>0</td>\n",
              "      <td>0</td>\n",
              "      <td>0</td>\n",
              "      <td>0</td>\n",
              "      <td>0</td>\n",
              "      <td>0</td>\n",
              "      <td>0</td>\n",
              "      <td>0</td>\n",
              "      <td>0</td>\n",
              "      <td>0</td>\n",
              "      <td>0</td>\n",
              "      <td>0</td>\n",
              "      <td>1</td>\n",
              "      <td>1</td>\n",
              "      <td>1</td>\n",
              "    </tr>\n",
              "    <tr>\n",
              "      <th>1</th>\n",
              "      <td>NaN</td>\n",
              "      <td>Albania</td>\n",
              "      <td>41.1533</td>\n",
              "      <td>20.1683</td>\n",
              "      <td>0</td>\n",
              "      <td>0</td>\n",
              "      <td>0</td>\n",
              "      <td>0</td>\n",
              "      <td>0</td>\n",
              "      <td>0</td>\n",
              "      <td>0</td>\n",
              "      <td>0</td>\n",
              "      <td>0</td>\n",
              "      <td>0</td>\n",
              "      <td>0</td>\n",
              "      <td>0</td>\n",
              "      <td>0</td>\n",
              "      <td>0</td>\n",
              "      <td>0</td>\n",
              "      <td>0</td>\n",
              "      <td>0</td>\n",
              "      <td>0</td>\n",
              "      <td>0</td>\n",
              "      <td>0</td>\n",
              "      <td>0</td>\n",
              "      <td>0</td>\n",
              "      <td>0</td>\n",
              "      <td>0</td>\n",
              "      <td>0</td>\n",
              "      <td>0</td>\n",
              "      <td>0</td>\n",
              "      <td>0</td>\n",
              "      <td>0</td>\n",
              "      <td>0</td>\n",
              "      <td>0</td>\n",
              "      <td>0</td>\n",
              "      <td>0</td>\n",
              "      <td>0</td>\n",
              "      <td>0</td>\n",
              "      <td>0</td>\n",
              "      <td>0</td>\n",
              "      <td>0</td>\n",
              "      <td>0</td>\n",
              "      <td>0</td>\n",
              "      <td>0</td>\n",
              "      <td>0</td>\n",
              "      <td>0</td>\n",
              "      <td>0</td>\n",
              "      <td>0</td>\n",
              "      <td>0</td>\n",
              "      <td>0</td>\n",
              "      <td>0</td>\n",
              "      <td>0</td>\n",
              "      <td>1</td>\n",
              "      <td>1</td>\n",
              "      <td>1</td>\n",
              "      <td>1</td>\n",
              "      <td>1</td>\n",
              "      <td>1</td>\n",
              "      <td>1</td>\n",
              "      <td>2</td>\n",
              "      <td>2</td>\n",
              "      <td>2</td>\n",
              "      <td>2</td>\n",
              "      <td>2</td>\n",
              "      <td>4</td>\n",
              "      <td>5</td>\n",
              "    </tr>\n",
              "    <tr>\n",
              "      <th>2</th>\n",
              "      <td>NaN</td>\n",
              "      <td>Algeria</td>\n",
              "      <td>28.0339</td>\n",
              "      <td>1.6596</td>\n",
              "      <td>0</td>\n",
              "      <td>0</td>\n",
              "      <td>0</td>\n",
              "      <td>0</td>\n",
              "      <td>0</td>\n",
              "      <td>0</td>\n",
              "      <td>0</td>\n",
              "      <td>0</td>\n",
              "      <td>0</td>\n",
              "      <td>0</td>\n",
              "      <td>0</td>\n",
              "      <td>0</td>\n",
              "      <td>0</td>\n",
              "      <td>0</td>\n",
              "      <td>0</td>\n",
              "      <td>0</td>\n",
              "      <td>0</td>\n",
              "      <td>0</td>\n",
              "      <td>0</td>\n",
              "      <td>0</td>\n",
              "      <td>0</td>\n",
              "      <td>0</td>\n",
              "      <td>0</td>\n",
              "      <td>0</td>\n",
              "      <td>0</td>\n",
              "      <td>0</td>\n",
              "      <td>0</td>\n",
              "      <td>0</td>\n",
              "      <td>0</td>\n",
              "      <td>0</td>\n",
              "      <td>0</td>\n",
              "      <td>0</td>\n",
              "      <td>0</td>\n",
              "      <td>0</td>\n",
              "      <td>0</td>\n",
              "      <td>0</td>\n",
              "      <td>0</td>\n",
              "      <td>0</td>\n",
              "      <td>0</td>\n",
              "      <td>0</td>\n",
              "      <td>0</td>\n",
              "      <td>0</td>\n",
              "      <td>0</td>\n",
              "      <td>0</td>\n",
              "      <td>0</td>\n",
              "      <td>0</td>\n",
              "      <td>0</td>\n",
              "      <td>0</td>\n",
              "      <td>0</td>\n",
              "      <td>0</td>\n",
              "      <td>1</td>\n",
              "      <td>2</td>\n",
              "      <td>3</td>\n",
              "      <td>4</td>\n",
              "      <td>4</td>\n",
              "      <td>4</td>\n",
              "      <td>7</td>\n",
              "      <td>9</td>\n",
              "      <td>11</td>\n",
              "      <td>15</td>\n",
              "      <td>17</td>\n",
              "      <td>17</td>\n",
              "      <td>19</td>\n",
              "    </tr>\n",
              "    <tr>\n",
              "      <th>3</th>\n",
              "      <td>NaN</td>\n",
              "      <td>Andorra</td>\n",
              "      <td>42.5063</td>\n",
              "      <td>1.5218</td>\n",
              "      <td>0</td>\n",
              "      <td>0</td>\n",
              "      <td>0</td>\n",
              "      <td>0</td>\n",
              "      <td>0</td>\n",
              "      <td>0</td>\n",
              "      <td>0</td>\n",
              "      <td>0</td>\n",
              "      <td>0</td>\n",
              "      <td>0</td>\n",
              "      <td>0</td>\n",
              "      <td>0</td>\n",
              "      <td>0</td>\n",
              "      <td>0</td>\n",
              "      <td>0</td>\n",
              "      <td>0</td>\n",
              "      <td>0</td>\n",
              "      <td>0</td>\n",
              "      <td>0</td>\n",
              "      <td>0</td>\n",
              "      <td>0</td>\n",
              "      <td>0</td>\n",
              "      <td>0</td>\n",
              "      <td>0</td>\n",
              "      <td>0</td>\n",
              "      <td>0</td>\n",
              "      <td>0</td>\n",
              "      <td>0</td>\n",
              "      <td>0</td>\n",
              "      <td>0</td>\n",
              "      <td>0</td>\n",
              "      <td>0</td>\n",
              "      <td>0</td>\n",
              "      <td>0</td>\n",
              "      <td>0</td>\n",
              "      <td>0</td>\n",
              "      <td>0</td>\n",
              "      <td>0</td>\n",
              "      <td>0</td>\n",
              "      <td>0</td>\n",
              "      <td>0</td>\n",
              "      <td>0</td>\n",
              "      <td>0</td>\n",
              "      <td>0</td>\n",
              "      <td>0</td>\n",
              "      <td>0</td>\n",
              "      <td>0</td>\n",
              "      <td>0</td>\n",
              "      <td>0</td>\n",
              "      <td>0</td>\n",
              "      <td>0</td>\n",
              "      <td>0</td>\n",
              "      <td>0</td>\n",
              "      <td>0</td>\n",
              "      <td>0</td>\n",
              "      <td>0</td>\n",
              "      <td>0</td>\n",
              "      <td>0</td>\n",
              "      <td>0</td>\n",
              "      <td>0</td>\n",
              "      <td>1</td>\n",
              "      <td>1</td>\n",
              "      <td>1</td>\n",
              "    </tr>\n",
              "    <tr>\n",
              "      <th>4</th>\n",
              "      <td>NaN</td>\n",
              "      <td>Angola</td>\n",
              "      <td>-11.2027</td>\n",
              "      <td>17.8739</td>\n",
              "      <td>0</td>\n",
              "      <td>0</td>\n",
              "      <td>0</td>\n",
              "      <td>0</td>\n",
              "      <td>0</td>\n",
              "      <td>0</td>\n",
              "      <td>0</td>\n",
              "      <td>0</td>\n",
              "      <td>0</td>\n",
              "      <td>0</td>\n",
              "      <td>0</td>\n",
              "      <td>0</td>\n",
              "      <td>0</td>\n",
              "      <td>0</td>\n",
              "      <td>0</td>\n",
              "      <td>0</td>\n",
              "      <td>0</td>\n",
              "      <td>0</td>\n",
              "      <td>0</td>\n",
              "      <td>0</td>\n",
              "      <td>0</td>\n",
              "      <td>0</td>\n",
              "      <td>0</td>\n",
              "      <td>0</td>\n",
              "      <td>0</td>\n",
              "      <td>0</td>\n",
              "      <td>0</td>\n",
              "      <td>0</td>\n",
              "      <td>0</td>\n",
              "      <td>0</td>\n",
              "      <td>0</td>\n",
              "      <td>0</td>\n",
              "      <td>0</td>\n",
              "      <td>0</td>\n",
              "      <td>0</td>\n",
              "      <td>0</td>\n",
              "      <td>0</td>\n",
              "      <td>0</td>\n",
              "      <td>0</td>\n",
              "      <td>0</td>\n",
              "      <td>0</td>\n",
              "      <td>0</td>\n",
              "      <td>0</td>\n",
              "      <td>0</td>\n",
              "      <td>0</td>\n",
              "      <td>0</td>\n",
              "      <td>0</td>\n",
              "      <td>0</td>\n",
              "      <td>0</td>\n",
              "      <td>0</td>\n",
              "      <td>0</td>\n",
              "      <td>0</td>\n",
              "      <td>0</td>\n",
              "      <td>0</td>\n",
              "      <td>0</td>\n",
              "      <td>0</td>\n",
              "      <td>0</td>\n",
              "      <td>0</td>\n",
              "      <td>0</td>\n",
              "      <td>0</td>\n",
              "      <td>0</td>\n",
              "      <td>0</td>\n",
              "      <td>0</td>\n",
              "    </tr>\n",
              "  </tbody>\n",
              "</table>\n",
              "</div>"
            ],
            "text/plain": [
              "  Province/State      Country      Lat  ...  3/22/20  3/23/20  3/24/20\n",
              "0            NaN  Afghanistan  33.0000  ...        1        1        1\n",
              "1            NaN      Albania  41.1533  ...        2        4        5\n",
              "2            NaN      Algeria  28.0339  ...       17       17       19\n",
              "3            NaN      Andorra  42.5063  ...        1        1        1\n",
              "4            NaN       Angola -11.2027  ...        0        0        0\n",
              "\n",
              "[5 rows x 67 columns]"
            ]
          },
          "metadata": {
            "tags": []
          },
          "execution_count": 29
        }
      ]
    },
    {
      "cell_type": "code",
      "metadata": {
        "id": "n6DDJosMMbpp",
        "colab_type": "code",
        "outputId": "3ab0c96d-d699-4fd3-f988-7069b2526d39",
        "colab": {
          "base_uri": "https://localhost:8080/",
          "height": 204
        }
      },
      "source": [
        "df.head()"
      ],
      "execution_count": 30,
      "outputs": [
        {
          "output_type": "execute_result",
          "data": {
            "text/html": [
              "<div>\n",
              "<style scoped>\n",
              "    .dataframe tbody tr th:only-of-type {\n",
              "        vertical-align: middle;\n",
              "    }\n",
              "\n",
              "    .dataframe tbody tr th {\n",
              "        vertical-align: top;\n",
              "    }\n",
              "\n",
              "    .dataframe thead th {\n",
              "        text-align: right;\n",
              "    }\n",
              "</style>\n",
              "<table border=\"1\" class=\"dataframe\">\n",
              "  <thead>\n",
              "    <tr style=\"text-align: right;\">\n",
              "      <th></th>\n",
              "      <th>Province/State</th>\n",
              "      <th>Country</th>\n",
              "      <th>Lat</th>\n",
              "      <th>Long</th>\n",
              "      <th>Date</th>\n",
              "      <th>Confirmed</th>\n",
              "      <th>Deaths</th>\n",
              "      <th>Recovered</th>\n",
              "    </tr>\n",
              "  </thead>\n",
              "  <tbody>\n",
              "    <tr>\n",
              "      <th>0</th>\n",
              "      <td>NaN</td>\n",
              "      <td>Thailand</td>\n",
              "      <td>15.0000</td>\n",
              "      <td>101.0000</td>\n",
              "      <td>2020-01-22</td>\n",
              "      <td>2.0</td>\n",
              "      <td>0.0</td>\n",
              "      <td>0.0</td>\n",
              "    </tr>\n",
              "    <tr>\n",
              "      <th>1</th>\n",
              "      <td>NaN</td>\n",
              "      <td>Japan</td>\n",
              "      <td>36.0000</td>\n",
              "      <td>138.0000</td>\n",
              "      <td>2020-01-22</td>\n",
              "      <td>2.0</td>\n",
              "      <td>0.0</td>\n",
              "      <td>0.0</td>\n",
              "    </tr>\n",
              "    <tr>\n",
              "      <th>2</th>\n",
              "      <td>NaN</td>\n",
              "      <td>Singapore</td>\n",
              "      <td>1.2833</td>\n",
              "      <td>103.8333</td>\n",
              "      <td>2020-01-22</td>\n",
              "      <td>0.0</td>\n",
              "      <td>0.0</td>\n",
              "      <td>0.0</td>\n",
              "    </tr>\n",
              "    <tr>\n",
              "      <th>3</th>\n",
              "      <td>NaN</td>\n",
              "      <td>Nepal</td>\n",
              "      <td>28.1667</td>\n",
              "      <td>84.2500</td>\n",
              "      <td>2020-01-22</td>\n",
              "      <td>0.0</td>\n",
              "      <td>0.0</td>\n",
              "      <td>0.0</td>\n",
              "    </tr>\n",
              "    <tr>\n",
              "      <th>4</th>\n",
              "      <td>NaN</td>\n",
              "      <td>Malaysia</td>\n",
              "      <td>2.5000</td>\n",
              "      <td>112.5000</td>\n",
              "      <td>2020-01-22</td>\n",
              "      <td>0.0</td>\n",
              "      <td>0.0</td>\n",
              "      <td>0.0</td>\n",
              "    </tr>\n",
              "  </tbody>\n",
              "</table>\n",
              "</div>"
            ],
            "text/plain": [
              "  Province/State    Country      Lat  ...  Confirmed Deaths  Recovered\n",
              "0            NaN   Thailand  15.0000  ...        2.0    0.0        0.0\n",
              "1            NaN      Japan  36.0000  ...        2.0    0.0        0.0\n",
              "2            NaN  Singapore   1.2833  ...        0.0    0.0        0.0\n",
              "3            NaN      Nepal  28.1667  ...        0.0    0.0        0.0\n",
              "4            NaN   Malaysia   2.5000  ...        0.0    0.0        0.0\n",
              "\n",
              "[5 rows x 8 columns]"
            ]
          },
          "metadata": {
            "tags": []
          },
          "execution_count": 30
        }
      ]
    },
    {
      "cell_type": "code",
      "metadata": {
        "id": "bdTJxBp0MgcN",
        "colab_type": "code",
        "outputId": "557e69f1-a392-4418-b844-f6026dd62403",
        "colab": {
          "base_uri": "https://localhost:8080/",
          "height": 204
        }
      },
      "source": [
        "df2 = df.groupby([\"Date\", \"Country\", \"Province/State\"])[['Date', 'Province/State', 'Country', 'Confirmed', 'Deaths', 'Recovered']].sum().reset_index()\n",
        "df2.head()"
      ],
      "execution_count": 32,
      "outputs": [
        {
          "output_type": "execute_result",
          "data": {
            "text/html": [
              "<div>\n",
              "<style scoped>\n",
              "    .dataframe tbody tr th:only-of-type {\n",
              "        vertical-align: middle;\n",
              "    }\n",
              "\n",
              "    .dataframe tbody tr th {\n",
              "        vertical-align: top;\n",
              "    }\n",
              "\n",
              "    .dataframe thead th {\n",
              "        text-align: right;\n",
              "    }\n",
              "</style>\n",
              "<table border=\"1\" class=\"dataframe\">\n",
              "  <thead>\n",
              "    <tr style=\"text-align: right;\">\n",
              "      <th></th>\n",
              "      <th>Date</th>\n",
              "      <th>Country</th>\n",
              "      <th>Province/State</th>\n",
              "      <th>Confirmed</th>\n",
              "      <th>Deaths</th>\n",
              "      <th>Recovered</th>\n",
              "    </tr>\n",
              "  </thead>\n",
              "  <tbody>\n",
              "    <tr>\n",
              "      <th>0</th>\n",
              "      <td>2020-01-22</td>\n",
              "      <td>Australia</td>\n",
              "      <td>Australian Capital Territory</td>\n",
              "      <td>0.0</td>\n",
              "      <td>0.0</td>\n",
              "      <td>0.0</td>\n",
              "    </tr>\n",
              "    <tr>\n",
              "      <th>1</th>\n",
              "      <td>2020-01-22</td>\n",
              "      <td>Australia</td>\n",
              "      <td>From Diamond Princess</td>\n",
              "      <td>0.0</td>\n",
              "      <td>0.0</td>\n",
              "      <td>0.0</td>\n",
              "    </tr>\n",
              "    <tr>\n",
              "      <th>2</th>\n",
              "      <td>2020-01-22</td>\n",
              "      <td>Australia</td>\n",
              "      <td>New South Wales</td>\n",
              "      <td>0.0</td>\n",
              "      <td>0.0</td>\n",
              "      <td>0.0</td>\n",
              "    </tr>\n",
              "    <tr>\n",
              "      <th>3</th>\n",
              "      <td>2020-01-22</td>\n",
              "      <td>Australia</td>\n",
              "      <td>Northern Territory</td>\n",
              "      <td>0.0</td>\n",
              "      <td>0.0</td>\n",
              "      <td>0.0</td>\n",
              "    </tr>\n",
              "    <tr>\n",
              "      <th>4</th>\n",
              "      <td>2020-01-22</td>\n",
              "      <td>Australia</td>\n",
              "      <td>Queensland</td>\n",
              "      <td>0.0</td>\n",
              "      <td>0.0</td>\n",
              "      <td>0.0</td>\n",
              "    </tr>\n",
              "  </tbody>\n",
              "</table>\n",
              "</div>"
            ],
            "text/plain": [
              "        Date    Country  ... Deaths  Recovered\n",
              "0 2020-01-22  Australia  ...    0.0        0.0\n",
              "1 2020-01-22  Australia  ...    0.0        0.0\n",
              "2 2020-01-22  Australia  ...    0.0        0.0\n",
              "3 2020-01-22  Australia  ...    0.0        0.0\n",
              "4 2020-01-22  Australia  ...    0.0        0.0\n",
              "\n",
              "[5 rows x 6 columns]"
            ]
          },
          "metadata": {
            "tags": []
          },
          "execution_count": 32
        }
      ]
    },
    {
      "cell_type": "code",
      "metadata": {
        "id": "XL1R4UaYMtUZ",
        "colab_type": "code",
        "outputId": "29094800-8a2c-440f-abde-08daf94b5c63",
        "colab": {
          "base_uri": "https://localhost:8080/",
          "height": 419
        }
      },
      "source": [
        "# Check for India's data\n",
        "df.query('Country==\"India\"').groupby(\"Date\")[['Confirmed', 'Deaths', 'Recovered']].sum().reset_index()"
      ],
      "execution_count": 34,
      "outputs": [
        {
          "output_type": "execute_result",
          "data": {
            "text/html": [
              "<div>\n",
              "<style scoped>\n",
              "    .dataframe tbody tr th:only-of-type {\n",
              "        vertical-align: middle;\n",
              "    }\n",
              "\n",
              "    .dataframe tbody tr th {\n",
              "        vertical-align: top;\n",
              "    }\n",
              "\n",
              "    .dataframe thead th {\n",
              "        text-align: right;\n",
              "    }\n",
              "</style>\n",
              "<table border=\"1\" class=\"dataframe\">\n",
              "  <thead>\n",
              "    <tr style=\"text-align: right;\">\n",
              "      <th></th>\n",
              "      <th>Date</th>\n",
              "      <th>Confirmed</th>\n",
              "      <th>Deaths</th>\n",
              "      <th>Recovered</th>\n",
              "    </tr>\n",
              "  </thead>\n",
              "  <tbody>\n",
              "    <tr>\n",
              "      <th>0</th>\n",
              "      <td>2020-01-22</td>\n",
              "      <td>0.0</td>\n",
              "      <td>0.0</td>\n",
              "      <td>0.0</td>\n",
              "    </tr>\n",
              "    <tr>\n",
              "      <th>1</th>\n",
              "      <td>2020-01-23</td>\n",
              "      <td>0.0</td>\n",
              "      <td>0.0</td>\n",
              "      <td>0.0</td>\n",
              "    </tr>\n",
              "    <tr>\n",
              "      <th>2</th>\n",
              "      <td>2020-01-24</td>\n",
              "      <td>0.0</td>\n",
              "      <td>0.0</td>\n",
              "      <td>0.0</td>\n",
              "    </tr>\n",
              "    <tr>\n",
              "      <th>3</th>\n",
              "      <td>2020-01-25</td>\n",
              "      <td>0.0</td>\n",
              "      <td>0.0</td>\n",
              "      <td>0.0</td>\n",
              "    </tr>\n",
              "    <tr>\n",
              "      <th>4</th>\n",
              "      <td>2020-01-26</td>\n",
              "      <td>0.0</td>\n",
              "      <td>0.0</td>\n",
              "      <td>0.0</td>\n",
              "    </tr>\n",
              "    <tr>\n",
              "      <th>...</th>\n",
              "      <td>...</td>\n",
              "      <td>...</td>\n",
              "      <td>...</td>\n",
              "      <td>...</td>\n",
              "    </tr>\n",
              "    <tr>\n",
              "      <th>57</th>\n",
              "      <td>2020-03-19</td>\n",
              "      <td>194.0</td>\n",
              "      <td>4.0</td>\n",
              "      <td>15.0</td>\n",
              "    </tr>\n",
              "    <tr>\n",
              "      <th>58</th>\n",
              "      <td>2020-03-20</td>\n",
              "      <td>244.0</td>\n",
              "      <td>5.0</td>\n",
              "      <td>20.0</td>\n",
              "    </tr>\n",
              "    <tr>\n",
              "      <th>59</th>\n",
              "      <td>2020-03-21</td>\n",
              "      <td>330.0</td>\n",
              "      <td>4.0</td>\n",
              "      <td>23.0</td>\n",
              "    </tr>\n",
              "    <tr>\n",
              "      <th>60</th>\n",
              "      <td>2020-03-22</td>\n",
              "      <td>396.0</td>\n",
              "      <td>7.0</td>\n",
              "      <td>27.0</td>\n",
              "    </tr>\n",
              "    <tr>\n",
              "      <th>61</th>\n",
              "      <td>2020-03-23</td>\n",
              "      <td>396.0</td>\n",
              "      <td>7.0</td>\n",
              "      <td>27.0</td>\n",
              "    </tr>\n",
              "  </tbody>\n",
              "</table>\n",
              "<p>62 rows × 4 columns</p>\n",
              "</div>"
            ],
            "text/plain": [
              "         Date  Confirmed  Deaths  Recovered\n",
              "0  2020-01-22        0.0     0.0        0.0\n",
              "1  2020-01-23        0.0     0.0        0.0\n",
              "2  2020-01-24        0.0     0.0        0.0\n",
              "3  2020-01-25        0.0     0.0        0.0\n",
              "4  2020-01-26        0.0     0.0        0.0\n",
              "..        ...        ...     ...        ...\n",
              "57 2020-03-19      194.0     4.0       15.0\n",
              "58 2020-03-20      244.0     5.0       20.0\n",
              "59 2020-03-21      330.0     4.0       23.0\n",
              "60 2020-03-22      396.0     7.0       27.0\n",
              "61 2020-03-23      396.0     7.0       27.0\n",
              "\n",
              "[62 rows x 4 columns]"
            ]
          },
          "metadata": {
            "tags": []
          },
          "execution_count": 34
        }
      ]
    },
    {
      "cell_type": "code",
      "metadata": {
        "id": "njoxWBE0M3XE",
        "colab_type": "code",
        "outputId": "e9a84ef1-2355-48f0-9f0d-c426e09619ea",
        "colab": {
          "base_uri": "https://localhost:8080/",
          "height": 235
        }
      },
      "source": [
        "#Overall worldwide Confirmed/ Deaths/ Recovered cases \n",
        "df.groupby('Date').sum().head()"
      ],
      "execution_count": 35,
      "outputs": [
        {
          "output_type": "execute_result",
          "data": {
            "text/html": [
              "<div>\n",
              "<style scoped>\n",
              "    .dataframe tbody tr th:only-of-type {\n",
              "        vertical-align: middle;\n",
              "    }\n",
              "\n",
              "    .dataframe tbody tr th {\n",
              "        vertical-align: top;\n",
              "    }\n",
              "\n",
              "    .dataframe thead th {\n",
              "        text-align: right;\n",
              "    }\n",
              "</style>\n",
              "<table border=\"1\" class=\"dataframe\">\n",
              "  <thead>\n",
              "    <tr style=\"text-align: right;\">\n",
              "      <th></th>\n",
              "      <th>Lat</th>\n",
              "      <th>Long</th>\n",
              "      <th>Confirmed</th>\n",
              "      <th>Deaths</th>\n",
              "      <th>Recovered</th>\n",
              "    </tr>\n",
              "    <tr>\n",
              "      <th>Date</th>\n",
              "      <th></th>\n",
              "      <th></th>\n",
              "      <th></th>\n",
              "      <th></th>\n",
              "      <th></th>\n",
              "    </tr>\n",
              "  </thead>\n",
              "  <tbody>\n",
              "    <tr>\n",
              "      <th>2020-01-22</th>\n",
              "      <td>7777.4793</td>\n",
              "      <td>1639.7021</td>\n",
              "      <td>554.0</td>\n",
              "      <td>17.0</td>\n",
              "      <td>28.0</td>\n",
              "    </tr>\n",
              "    <tr>\n",
              "      <th>2020-01-23</th>\n",
              "      <td>7777.4793</td>\n",
              "      <td>1639.7021</td>\n",
              "      <td>652.0</td>\n",
              "      <td>18.0</td>\n",
              "      <td>30.0</td>\n",
              "    </tr>\n",
              "    <tr>\n",
              "      <th>2020-01-24</th>\n",
              "      <td>7777.4793</td>\n",
              "      <td>1639.7021</td>\n",
              "      <td>939.0</td>\n",
              "      <td>26.0</td>\n",
              "      <td>36.0</td>\n",
              "    </tr>\n",
              "    <tr>\n",
              "      <th>2020-01-25</th>\n",
              "      <td>7777.4793</td>\n",
              "      <td>1639.7021</td>\n",
              "      <td>1432.0</td>\n",
              "      <td>42.0</td>\n",
              "      <td>39.0</td>\n",
              "    </tr>\n",
              "    <tr>\n",
              "      <th>2020-01-26</th>\n",
              "      <td>7777.4793</td>\n",
              "      <td>1639.7021</td>\n",
              "      <td>2113.0</td>\n",
              "      <td>56.0</td>\n",
              "      <td>52.0</td>\n",
              "    </tr>\n",
              "  </tbody>\n",
              "</table>\n",
              "</div>"
            ],
            "text/plain": [
              "                  Lat       Long  Confirmed  Deaths  Recovered\n",
              "Date                                                          \n",
              "2020-01-22  7777.4793  1639.7021      554.0    17.0       28.0\n",
              "2020-01-23  7777.4793  1639.7021      652.0    18.0       30.0\n",
              "2020-01-24  7777.4793  1639.7021      939.0    26.0       36.0\n",
              "2020-01-25  7777.4793  1639.7021     1432.0    42.0       39.0\n",
              "2020-01-26  7777.4793  1639.7021     2113.0    56.0       52.0"
            ]
          },
          "metadata": {
            "tags": []
          },
          "execution_count": 35
        }
      ]
    },
    {
      "cell_type": "markdown",
      "metadata": {
        "id": "nZxXuyvkNnMm",
        "colab_type": "text"
      },
      "source": [
        "## 3.1 Visualizing: Worldwide NCOVID-19 cases  "
      ]
    },
    {
      "cell_type": "code",
      "metadata": {
        "id": "UmKuQ54RNVvL",
        "colab_type": "code",
        "colab": {}
      },
      "source": [
        "confirmed = df.groupby('Date').sum()['Confirmed'].reset_index()\n",
        "deaths = df.groupby('Date').sum()['Deaths'].reset_index()\n",
        "recovered = df.groupby('Date').sum()['Recovered'].reset_index()"
      ],
      "execution_count": 0,
      "outputs": []
    },
    {
      "cell_type": "code",
      "metadata": {
        "id": "FC5JJSvkN1MB",
        "colab_type": "code",
        "outputId": "b0b98799-22be-465d-aafe-6b62c94a8bf2",
        "colab": {
          "base_uri": "https://localhost:8080/",
          "height": 542
        }
      },
      "source": [
        "fig = go.Figure()\n",
        "#Plotting datewise confirmed cases\n",
        "fig.add_trace(go.Scatter(x=confirmed['Date'], y=confirmed['Confirmed'], mode='lines+markers', name='Confirmed',line=dict(color='blue', width=2)))\n",
        "fig.add_trace(go.Scatter(x=deaths['Date'], y=deaths['Deaths'], mode='lines+markers', name='Deaths', line=dict(color='Red', width=2)))\n",
        "fig.add_trace(go.Scatter(x=recovered['Date'], y=recovered['Recovered'], mode='lines+markers', name='Recovered', line=dict(color='Green', width=2)))\n",
        "fig.update_layout(title='Worldwide NCOVID-19 Cases', xaxis_tickfont_size=14,yaxis=dict(title='Number of Cases'))\n",
        "\n",
        "fig.show()"
      ],
      "execution_count": 37,
      "outputs": [
        {
          "output_type": "display_data",
          "data": {
            "text/html": [
              "<html>\n",
              "<head><meta charset=\"utf-8\" /></head>\n",
              "<body>\n",
              "    <div>\n",
              "            <script src=\"https://cdnjs.cloudflare.com/ajax/libs/mathjax/2.7.5/MathJax.js?config=TeX-AMS-MML_SVG\"></script><script type=\"text/javascript\">if (window.MathJax) {MathJax.Hub.Config({SVG: {font: \"STIX-Web\"}});}</script>\n",
              "                <script type=\"text/javascript\">window.PlotlyConfig = {MathJaxConfig: 'local'};</script>\n",
              "        <script src=\"https://cdn.plot.ly/plotly-latest.min.js\"></script>    \n",
              "            <div id=\"7fa48ef1-1ead-4f92-b472-2303f8b3df73\" class=\"plotly-graph-div\" style=\"height:525px; width:100%;\"></div>\n",
              "            <script type=\"text/javascript\">\n",
              "                \n",
              "                    window.PLOTLYENV=window.PLOTLYENV || {};\n",
              "                    \n",
              "                if (document.getElementById(\"7fa48ef1-1ead-4f92-b472-2303f8b3df73\")) {\n",
              "                    Plotly.newPlot(\n",
              "                        '7fa48ef1-1ead-4f92-b472-2303f8b3df73',\n",
              "                        [{\"line\": {\"color\": \"blue\", \"width\": 2}, \"mode\": \"lines+markers\", \"name\": \"Confirmed\", \"type\": \"scatter\", \"x\": [\"2020-01-22T00:00:00\", \"2020-01-23T00:00:00\", \"2020-01-24T00:00:00\", \"2020-01-25T00:00:00\", \"2020-01-26T00:00:00\", \"2020-01-27T00:00:00\", \"2020-01-28T00:00:00\", \"2020-01-29T00:00:00\", \"2020-01-30T00:00:00\", \"2020-01-31T00:00:00\", \"2020-02-01T00:00:00\", \"2020-02-02T00:00:00\", \"2020-02-03T00:00:00\", \"2020-02-04T00:00:00\", \"2020-02-05T00:00:00\", \"2020-02-06T00:00:00\", \"2020-02-07T00:00:00\", \"2020-02-08T00:00:00\", \"2020-02-09T00:00:00\", \"2020-02-10T00:00:00\", \"2020-02-11T00:00:00\", \"2020-02-12T00:00:00\", \"2020-02-13T00:00:00\", \"2020-02-14T00:00:00\", \"2020-02-15T00:00:00\", \"2020-02-16T00:00:00\", \"2020-02-17T00:00:00\", \"2020-02-18T00:00:00\", \"2020-02-19T00:00:00\", \"2020-02-20T00:00:00\", \"2020-02-21T00:00:00\", \"2020-02-22T00:00:00\", \"2020-02-23T00:00:00\", \"2020-02-24T00:00:00\", \"2020-02-25T00:00:00\", \"2020-02-26T00:00:00\", \"2020-02-27T00:00:00\", \"2020-02-28T00:00:00\", \"2020-02-29T00:00:00\", \"2020-03-01T00:00:00\", \"2020-03-02T00:00:00\", \"2020-03-03T00:00:00\", \"2020-03-04T00:00:00\", \"2020-03-05T00:00:00\", \"2020-03-06T00:00:00\", \"2020-03-07T00:00:00\", \"2020-03-08T00:00:00\", \"2020-03-09T00:00:00\", \"2020-03-10T00:00:00\", \"2020-03-11T00:00:00\", \"2020-03-12T00:00:00\", \"2020-03-13T00:00:00\", \"2020-03-14T00:00:00\", \"2020-03-15T00:00:00\", \"2020-03-16T00:00:00\", \"2020-03-17T00:00:00\", \"2020-03-18T00:00:00\", \"2020-03-19T00:00:00\", \"2020-03-20T00:00:00\", \"2020-03-21T00:00:00\", \"2020-03-22T00:00:00\", \"2020-03-23T00:00:00\"], \"y\": [554.0, 652.0, 939.0, 1432.0, 2113.0, 2922.0, 5573.0, 6161.0, 8229.0, 9920.0, 12030.0, 16779.0, 19870.0, 23881.0, 27624.0, 30806.0, 34380.0, 37109.0, 40139.0, 42751.0, 44790.0, 45209.0, 60355.0, 66872.0, 69017.0, 71211.0, 73245.0, 75123.0, 75626.0, 76184.0, 76808.0, 78564.0, 78950.0, 79553.0, 80398.0, 81380.0, 82738.0, 84104.0, 85987.0, 88339.0, 90253.0, 92767.0, 95016.0, 97710.0, 101567.0, 105485.0, 109343.0, 113044.0, 118592.0, 125865.0, 128343.0, 145193.0, 156094.0, 167446.0, 181527.0, 197142.0, 214910.0, 242708.0, 272166.0, 304524.0, 335955.0, 336004.0]}, {\"line\": {\"color\": \"Red\", \"width\": 2}, \"mode\": \"lines+markers\", \"name\": \"Deaths\", \"type\": \"scatter\", \"x\": [\"2020-01-22T00:00:00\", \"2020-01-23T00:00:00\", \"2020-01-24T00:00:00\", \"2020-01-25T00:00:00\", \"2020-01-26T00:00:00\", \"2020-01-27T00:00:00\", \"2020-01-28T00:00:00\", \"2020-01-29T00:00:00\", \"2020-01-30T00:00:00\", \"2020-01-31T00:00:00\", \"2020-02-01T00:00:00\", \"2020-02-02T00:00:00\", \"2020-02-03T00:00:00\", \"2020-02-04T00:00:00\", \"2020-02-05T00:00:00\", \"2020-02-06T00:00:00\", \"2020-02-07T00:00:00\", \"2020-02-08T00:00:00\", \"2020-02-09T00:00:00\", \"2020-02-10T00:00:00\", \"2020-02-11T00:00:00\", \"2020-02-12T00:00:00\", \"2020-02-13T00:00:00\", \"2020-02-14T00:00:00\", \"2020-02-15T00:00:00\", \"2020-02-16T00:00:00\", \"2020-02-17T00:00:00\", \"2020-02-18T00:00:00\", \"2020-02-19T00:00:00\", \"2020-02-20T00:00:00\", \"2020-02-21T00:00:00\", \"2020-02-22T00:00:00\", \"2020-02-23T00:00:00\", \"2020-02-24T00:00:00\", \"2020-02-25T00:00:00\", \"2020-02-26T00:00:00\", \"2020-02-27T00:00:00\", \"2020-02-28T00:00:00\", \"2020-02-29T00:00:00\", \"2020-03-01T00:00:00\", \"2020-03-02T00:00:00\", \"2020-03-03T00:00:00\", \"2020-03-04T00:00:00\", \"2020-03-05T00:00:00\", \"2020-03-06T00:00:00\", \"2020-03-07T00:00:00\", \"2020-03-08T00:00:00\", \"2020-03-09T00:00:00\", \"2020-03-10T00:00:00\", \"2020-03-11T00:00:00\", \"2020-03-12T00:00:00\", \"2020-03-13T00:00:00\", \"2020-03-14T00:00:00\", \"2020-03-15T00:00:00\", \"2020-03-16T00:00:00\", \"2020-03-17T00:00:00\", \"2020-03-18T00:00:00\", \"2020-03-19T00:00:00\", \"2020-03-20T00:00:00\", \"2020-03-21T00:00:00\", \"2020-03-22T00:00:00\", \"2020-03-23T00:00:00\"], \"y\": [17.0, 18.0, 26.0, 42.0, 56.0, 82.0, 131.0, 133.0, 171.0, 213.0, 259.0, 362.0, 426.0, 492.0, 564.0, 634.0, 719.0, 806.0, 906.0, 1013.0, 1113.0, 1118.0, 1371.0, 1523.0, 1666.0, 1770.0, 1868.0, 2007.0, 2122.0, 2247.0, 2251.0, 2458.0, 2469.0, 2629.0, 2708.0, 2770.0, 2814.0, 2872.0, 2940.0, 2995.0, 3079.0, 3153.0, 3243.0, 3336.0, 3446.0, 3541.0, 3781.0, 3966.0, 4262.0, 4615.0, 4720.0, 5404.0, 5819.0, 6440.0, 7126.0, 7905.0, 8733.0, 9867.0, 11299.0, 12973.0, 14632.0, 14643.0]}, {\"line\": {\"color\": \"Green\", \"width\": 2}, \"mode\": \"lines+markers\", \"name\": \"Recovered\", \"type\": \"scatter\", \"x\": [\"2020-01-22T00:00:00\", \"2020-01-23T00:00:00\", \"2020-01-24T00:00:00\", \"2020-01-25T00:00:00\", \"2020-01-26T00:00:00\", \"2020-01-27T00:00:00\", \"2020-01-28T00:00:00\", \"2020-01-29T00:00:00\", \"2020-01-30T00:00:00\", \"2020-01-31T00:00:00\", \"2020-02-01T00:00:00\", \"2020-02-02T00:00:00\", \"2020-02-03T00:00:00\", \"2020-02-04T00:00:00\", \"2020-02-05T00:00:00\", \"2020-02-06T00:00:00\", \"2020-02-07T00:00:00\", \"2020-02-08T00:00:00\", \"2020-02-09T00:00:00\", \"2020-02-10T00:00:00\", \"2020-02-11T00:00:00\", \"2020-02-12T00:00:00\", \"2020-02-13T00:00:00\", \"2020-02-14T00:00:00\", \"2020-02-15T00:00:00\", \"2020-02-16T00:00:00\", \"2020-02-17T00:00:00\", \"2020-02-18T00:00:00\", \"2020-02-19T00:00:00\", \"2020-02-20T00:00:00\", \"2020-02-21T00:00:00\", \"2020-02-22T00:00:00\", \"2020-02-23T00:00:00\", \"2020-02-24T00:00:00\", \"2020-02-25T00:00:00\", \"2020-02-26T00:00:00\", \"2020-02-27T00:00:00\", \"2020-02-28T00:00:00\", \"2020-02-29T00:00:00\", \"2020-03-01T00:00:00\", \"2020-03-02T00:00:00\", \"2020-03-03T00:00:00\", \"2020-03-04T00:00:00\", \"2020-03-05T00:00:00\", \"2020-03-06T00:00:00\", \"2020-03-07T00:00:00\", \"2020-03-08T00:00:00\", \"2020-03-09T00:00:00\", \"2020-03-10T00:00:00\", \"2020-03-11T00:00:00\", \"2020-03-12T00:00:00\", \"2020-03-13T00:00:00\", \"2020-03-14T00:00:00\", \"2020-03-15T00:00:00\", \"2020-03-16T00:00:00\", \"2020-03-17T00:00:00\", \"2020-03-18T00:00:00\", \"2020-03-19T00:00:00\", \"2020-03-20T00:00:00\", \"2020-03-21T00:00:00\", \"2020-03-22T00:00:00\", \"2020-03-23T00:00:00\"], \"y\": [28.0, 30.0, 36.0, 39.0, 52.0, 61.0, 107.0, 126.0, 143.0, 222.0, 284.0, 472.0, 623.0, 852.0, 1124.0, 1487.0, 2011.0, 2616.0, 3241.0, 3943.0, 4680.0, 5147.0, 6292.0, 8055.0, 9392.0, 10862.0, 12580.0, 14349.0, 16118.0, 18174.0, 18885.0, 22881.0, 23389.0, 25222.0, 27899.0, 30378.0, 33271.0, 36704.0, 39775.0, 42709.0, 45595.0, 48221.0, 51163.0, 53789.0, 55858.0, 58351.0, 60687.0, 62487.0, 64404.0, 67003.0, 68324.0, 70251.0, 72624.0, 76034.0, 78088.0, 80840.0, 83207.0, 84854.0, 87256.0, 91499.0, 97704.0, 98334.0]}],\n",
              "                        {\"template\": {\"data\": {\"bar\": [{\"error_x\": {\"color\": \"#2a3f5f\"}, \"error_y\": {\"color\": \"#2a3f5f\"}, \"marker\": {\"line\": {\"color\": \"#E5ECF6\", \"width\": 0.5}}, \"type\": \"bar\"}], \"barpolar\": [{\"marker\": {\"line\": {\"color\": \"#E5ECF6\", \"width\": 0.5}}, \"type\": \"barpolar\"}], \"carpet\": [{\"aaxis\": {\"endlinecolor\": \"#2a3f5f\", \"gridcolor\": \"white\", \"linecolor\": \"white\", \"minorgridcolor\": \"white\", \"startlinecolor\": \"#2a3f5f\"}, \"baxis\": {\"endlinecolor\": \"#2a3f5f\", \"gridcolor\": \"white\", \"linecolor\": \"white\", \"minorgridcolor\": \"white\", \"startlinecolor\": \"#2a3f5f\"}, \"type\": \"carpet\"}], \"choropleth\": [{\"colorbar\": {\"outlinewidth\": 0, \"ticks\": \"\"}, \"type\": \"choropleth\"}], \"contour\": [{\"colorbar\": {\"outlinewidth\": 0, \"ticks\": \"\"}, \"colorscale\": [[0.0, \"#0d0887\"], [0.1111111111111111, \"#46039f\"], [0.2222222222222222, \"#7201a8\"], [0.3333333333333333, \"#9c179e\"], [0.4444444444444444, \"#bd3786\"], [0.5555555555555556, \"#d8576b\"], [0.6666666666666666, \"#ed7953\"], [0.7777777777777778, \"#fb9f3a\"], [0.8888888888888888, \"#fdca26\"], [1.0, \"#f0f921\"]], \"type\": \"contour\"}], \"contourcarpet\": [{\"colorbar\": {\"outlinewidth\": 0, \"ticks\": \"\"}, \"type\": \"contourcarpet\"}], \"heatmap\": [{\"colorbar\": {\"outlinewidth\": 0, \"ticks\": \"\"}, \"colorscale\": [[0.0, \"#0d0887\"], [0.1111111111111111, \"#46039f\"], [0.2222222222222222, \"#7201a8\"], [0.3333333333333333, \"#9c179e\"], [0.4444444444444444, \"#bd3786\"], [0.5555555555555556, \"#d8576b\"], [0.6666666666666666, \"#ed7953\"], [0.7777777777777778, \"#fb9f3a\"], [0.8888888888888888, \"#fdca26\"], [1.0, \"#f0f921\"]], \"type\": \"heatmap\"}], \"heatmapgl\": [{\"colorbar\": {\"outlinewidth\": 0, \"ticks\": \"\"}, \"colorscale\": [[0.0, \"#0d0887\"], [0.1111111111111111, \"#46039f\"], [0.2222222222222222, \"#7201a8\"], [0.3333333333333333, \"#9c179e\"], [0.4444444444444444, \"#bd3786\"], [0.5555555555555556, \"#d8576b\"], [0.6666666666666666, \"#ed7953\"], [0.7777777777777778, \"#fb9f3a\"], [0.8888888888888888, \"#fdca26\"], [1.0, \"#f0f921\"]], \"type\": \"heatmapgl\"}], \"histogram\": [{\"marker\": {\"colorbar\": {\"outlinewidth\": 0, \"ticks\": \"\"}}, \"type\": \"histogram\"}], \"histogram2d\": [{\"colorbar\": {\"outlinewidth\": 0, \"ticks\": \"\"}, \"colorscale\": [[0.0, \"#0d0887\"], [0.1111111111111111, \"#46039f\"], [0.2222222222222222, \"#7201a8\"], [0.3333333333333333, \"#9c179e\"], [0.4444444444444444, \"#bd3786\"], [0.5555555555555556, \"#d8576b\"], [0.6666666666666666, \"#ed7953\"], [0.7777777777777778, \"#fb9f3a\"], [0.8888888888888888, \"#fdca26\"], [1.0, \"#f0f921\"]], \"type\": \"histogram2d\"}], \"histogram2dcontour\": [{\"colorbar\": {\"outlinewidth\": 0, \"ticks\": \"\"}, \"colorscale\": [[0.0, \"#0d0887\"], [0.1111111111111111, \"#46039f\"], [0.2222222222222222, \"#7201a8\"], [0.3333333333333333, \"#9c179e\"], [0.4444444444444444, \"#bd3786\"], [0.5555555555555556, \"#d8576b\"], [0.6666666666666666, \"#ed7953\"], [0.7777777777777778, \"#fb9f3a\"], [0.8888888888888888, \"#fdca26\"], [1.0, \"#f0f921\"]], \"type\": \"histogram2dcontour\"}], \"mesh3d\": [{\"colorbar\": {\"outlinewidth\": 0, \"ticks\": \"\"}, \"type\": \"mesh3d\"}], \"parcoords\": [{\"line\": {\"colorbar\": {\"outlinewidth\": 0, \"ticks\": \"\"}}, \"type\": \"parcoords\"}], \"pie\": [{\"automargin\": true, \"type\": \"pie\"}], \"scatter\": [{\"marker\": {\"colorbar\": {\"outlinewidth\": 0, \"ticks\": \"\"}}, \"type\": \"scatter\"}], \"scatter3d\": [{\"line\": {\"colorbar\": {\"outlinewidth\": 0, \"ticks\": \"\"}}, \"marker\": {\"colorbar\": {\"outlinewidth\": 0, \"ticks\": \"\"}}, \"type\": \"scatter3d\"}], \"scattercarpet\": [{\"marker\": {\"colorbar\": {\"outlinewidth\": 0, \"ticks\": \"\"}}, \"type\": \"scattercarpet\"}], \"scattergeo\": [{\"marker\": {\"colorbar\": {\"outlinewidth\": 0, \"ticks\": \"\"}}, \"type\": \"scattergeo\"}], \"scattergl\": [{\"marker\": {\"colorbar\": {\"outlinewidth\": 0, \"ticks\": \"\"}}, \"type\": \"scattergl\"}], \"scattermapbox\": [{\"marker\": {\"colorbar\": {\"outlinewidth\": 0, \"ticks\": \"\"}}, \"type\": \"scattermapbox\"}], \"scatterpolar\": [{\"marker\": {\"colorbar\": {\"outlinewidth\": 0, \"ticks\": \"\"}}, \"type\": \"scatterpolar\"}], \"scatterpolargl\": [{\"marker\": {\"colorbar\": {\"outlinewidth\": 0, \"ticks\": \"\"}}, \"type\": \"scatterpolargl\"}], \"scatterternary\": [{\"marker\": {\"colorbar\": {\"outlinewidth\": 0, \"ticks\": \"\"}}, \"type\": \"scatterternary\"}], \"surface\": [{\"colorbar\": {\"outlinewidth\": 0, \"ticks\": \"\"}, \"colorscale\": [[0.0, \"#0d0887\"], [0.1111111111111111, \"#46039f\"], [0.2222222222222222, \"#7201a8\"], [0.3333333333333333, \"#9c179e\"], [0.4444444444444444, \"#bd3786\"], [0.5555555555555556, \"#d8576b\"], [0.6666666666666666, \"#ed7953\"], [0.7777777777777778, \"#fb9f3a\"], [0.8888888888888888, \"#fdca26\"], [1.0, \"#f0f921\"]], \"type\": \"surface\"}], \"table\": [{\"cells\": {\"fill\": {\"color\": \"#EBF0F8\"}, \"line\": {\"color\": \"white\"}}, \"header\": {\"fill\": {\"color\": \"#C8D4E3\"}, \"line\": {\"color\": \"white\"}}, \"type\": \"table\"}]}, \"layout\": {\"annotationdefaults\": {\"arrowcolor\": \"#2a3f5f\", \"arrowhead\": 0, \"arrowwidth\": 1}, \"coloraxis\": {\"colorbar\": {\"outlinewidth\": 0, \"ticks\": \"\"}}, \"colorscale\": {\"diverging\": [[0, \"#8e0152\"], [0.1, \"#c51b7d\"], [0.2, \"#de77ae\"], [0.3, \"#f1b6da\"], [0.4, \"#fde0ef\"], [0.5, \"#f7f7f7\"], [0.6, \"#e6f5d0\"], [0.7, \"#b8e186\"], [0.8, \"#7fbc41\"], [0.9, \"#4d9221\"], [1, \"#276419\"]], \"sequential\": [[0.0, \"#0d0887\"], [0.1111111111111111, \"#46039f\"], [0.2222222222222222, \"#7201a8\"], [0.3333333333333333, \"#9c179e\"], [0.4444444444444444, \"#bd3786\"], [0.5555555555555556, \"#d8576b\"], [0.6666666666666666, \"#ed7953\"], [0.7777777777777778, \"#fb9f3a\"], [0.8888888888888888, \"#fdca26\"], [1.0, \"#f0f921\"]], \"sequentialminus\": [[0.0, \"#0d0887\"], [0.1111111111111111, \"#46039f\"], [0.2222222222222222, \"#7201a8\"], [0.3333333333333333, \"#9c179e\"], [0.4444444444444444, \"#bd3786\"], [0.5555555555555556, \"#d8576b\"], [0.6666666666666666, \"#ed7953\"], [0.7777777777777778, \"#fb9f3a\"], [0.8888888888888888, \"#fdca26\"], [1.0, \"#f0f921\"]]}, \"colorway\": [\"#636efa\", \"#EF553B\", \"#00cc96\", \"#ab63fa\", \"#FFA15A\", \"#19d3f3\", \"#FF6692\", \"#B6E880\", \"#FF97FF\", \"#FECB52\"], \"font\": {\"color\": \"#2a3f5f\"}, \"geo\": {\"bgcolor\": \"white\", \"lakecolor\": \"white\", \"landcolor\": \"#E5ECF6\", \"showlakes\": true, \"showland\": true, \"subunitcolor\": \"white\"}, \"hoverlabel\": {\"align\": \"left\"}, \"hovermode\": \"closest\", \"mapbox\": {\"style\": \"light\"}, \"paper_bgcolor\": \"white\", \"plot_bgcolor\": \"#E5ECF6\", \"polar\": {\"angularaxis\": {\"gridcolor\": \"white\", \"linecolor\": \"white\", \"ticks\": \"\"}, \"bgcolor\": \"#E5ECF6\", \"radialaxis\": {\"gridcolor\": \"white\", \"linecolor\": \"white\", \"ticks\": \"\"}}, \"scene\": {\"xaxis\": {\"backgroundcolor\": \"#E5ECF6\", \"gridcolor\": \"white\", \"gridwidth\": 2, \"linecolor\": \"white\", \"showbackground\": true, \"ticks\": \"\", \"zerolinecolor\": \"white\"}, \"yaxis\": {\"backgroundcolor\": \"#E5ECF6\", \"gridcolor\": \"white\", \"gridwidth\": 2, \"linecolor\": \"white\", \"showbackground\": true, \"ticks\": \"\", \"zerolinecolor\": \"white\"}, \"zaxis\": {\"backgroundcolor\": \"#E5ECF6\", \"gridcolor\": \"white\", \"gridwidth\": 2, \"linecolor\": \"white\", \"showbackground\": true, \"ticks\": \"\", \"zerolinecolor\": \"white\"}}, \"shapedefaults\": {\"line\": {\"color\": \"#2a3f5f\"}}, \"ternary\": {\"aaxis\": {\"gridcolor\": \"white\", \"linecolor\": \"white\", \"ticks\": \"\"}, \"baxis\": {\"gridcolor\": \"white\", \"linecolor\": \"white\", \"ticks\": \"\"}, \"bgcolor\": \"#E5ECF6\", \"caxis\": {\"gridcolor\": \"white\", \"linecolor\": \"white\", \"ticks\": \"\"}}, \"title\": {\"x\": 0.05}, \"xaxis\": {\"automargin\": true, \"gridcolor\": \"white\", \"linecolor\": \"white\", \"ticks\": \"\", \"title\": {\"standoff\": 15}, \"zerolinecolor\": \"white\", \"zerolinewidth\": 2}, \"yaxis\": {\"automargin\": true, \"gridcolor\": \"white\", \"linecolor\": \"white\", \"ticks\": \"\", \"title\": {\"standoff\": 15}, \"zerolinecolor\": \"white\", \"zerolinewidth\": 2}}}, \"title\": {\"text\": \"Worldwide NCOVID-19 Cases\"}, \"xaxis\": {\"tickfont\": {\"size\": 14}}, \"yaxis\": {\"title\": {\"text\": \"Number of Cases\"}}},\n",
              "                        {\"responsive\": true}\n",
              "                    ).then(function(){\n",
              "                            \n",
              "var gd = document.getElementById('7fa48ef1-1ead-4f92-b472-2303f8b3df73');\n",
              "var x = new MutationObserver(function (mutations, observer) {{\n",
              "        var display = window.getComputedStyle(gd).display;\n",
              "        if (!display || display === 'none') {{\n",
              "            console.log([gd, 'removed!']);\n",
              "            Plotly.purge(gd);\n",
              "            observer.disconnect();\n",
              "        }}\n",
              "}});\n",
              "\n",
              "// Listen for the removal of the full notebook cells\n",
              "var notebookContainer = gd.closest('#notebook-container');\n",
              "if (notebookContainer) {{\n",
              "    x.observe(notebookContainer, {childList: true});\n",
              "}}\n",
              "\n",
              "// Listen for the clearing of the current output cell\n",
              "var outputEl = gd.closest('.output');\n",
              "if (outputEl) {{\n",
              "    x.observe(outputEl, {childList: true});\n",
              "}}\n",
              "\n",
              "                        })\n",
              "                };\n",
              "                \n",
              "            </script>\n",
              "        </div>\n",
              "</body>\n",
              "</html>"
            ]
          },
          "metadata": {
            "tags": []
          }
        }
      ]
    },
    {
      "cell_type": "markdown",
      "metadata": {
        "id": "guIlgMVOXrPl",
        "colab_type": "text"
      },
      "source": [
        "#Part 4: Forecasting Total Number of Cases Worldwide\n"
      ]
    },
    {
      "cell_type": "markdown",
      "metadata": {
        "id": "l005Ug3io7rY",
        "colab_type": "text"
      },
      "source": [
        "\n",
        "## Prophet\n",
        "Prophet is open source software released by Facebook’s Core Data Science team. It is available for download on CRAN and PyPI.\n",
        "\n",
        "We use Prophet, a procedure for forecasting time series data based on an additive model where non-linear trends are fit with yearly, weekly, and daily seasonality, plus holiday effects. It works best with time series that have strong seasonal effects and several seasons of historical data. Prophet is robust to missing data and shifts in the trend, and typically handles outliers well. \n",
        "\n",
        "## Why Prophet?\n",
        "\n",
        "* **Accurate and fast:**  Prophet is used in many applications across Facebook for producing reliable forecasts for planning and goal setting. Facebook finds it to perform better than any other approach in the majority of cases. It fit models in [Stan](https://mc-stan.org/) so that you get forecasts in just a few seconds.\n",
        "\n",
        "* **Fully automatic:** Get a reasonable forecast on messy data with no manual effort. Prophet is robust to outliers, missing data, and dramatic changes in your time series.\n",
        "\n",
        "* **Tunable forecasts:** The Prophet procedure includes many possibilities for users to tweak and adjust forecasts. You can use human-interpretable parameters to improve your forecast by adding your domain knowledge\n",
        "\n",
        "* **Available in R or Python:** Facebook has implemented the Prophet procedure in R and Python. Both of them share the same underlying Stan code for fitting. You can use whatever language you’re comfortable with to get forecasts. \n",
        "\n",
        "\n",
        "## References \n",
        "- https://facebook.github.io/prophet/\n",
        "- https://facebook.github.io/prophet/docs/\n",
        "- https://github.com/facebook/prophet\n",
        "- https://facebook.github.io/prophet/docs/quick_start.html"
      ]
    },
    {
      "cell_type": "code",
      "metadata": {
        "id": "7Uhg_dqpUqi7",
        "colab_type": "code",
        "colab": {}
      },
      "source": [
        "from fbprophet import Prophet"
      ],
      "execution_count": 0,
      "outputs": []
    },
    {
      "cell_type": "code",
      "metadata": {
        "id": "JF1sy1gmP8Ur",
        "colab_type": "code",
        "colab": {}
      },
      "source": [
        "confirmed = df.groupby('Date').sum()['Confirmed'].reset_index()\n",
        "deaths = df.groupby('Date').sum()['Deaths'].reset_index()\n",
        "recovered = df.groupby('Date').sum()['Recovered'].reset_index()"
      ],
      "execution_count": 0,
      "outputs": []
    },
    {
      "cell_type": "markdown",
      "metadata": {
        "id": "GsSpdCFNcQG-",
        "colab_type": "text"
      },
      "source": [
        "The input to Prophet is always a dataframe with two columns: **ds** and **y**. The **ds (datestamp)** column should be of a format expected by Pandas, ideally YYYY-MM-DD for a date or YYYY-MM-DD HH:MM:SS for a timestamp. The y column must be numeric, and represents the measurement we wish to forecast."
      ]
    },
    {
      "cell_type": "code",
      "metadata": {
        "id": "rn3z-futUCXy",
        "colab_type": "code",
        "colab": {}
      },
      "source": [
        "confirmed.columns = ['ds','y']\n",
        "#confirmed['ds'] = confirmed['ds'].dt.date\n",
        "confirmed['ds'] = pd.to_datetime(confirmed['ds'])"
      ],
      "execution_count": 0,
      "outputs": []
    },
    {
      "cell_type": "code",
      "metadata": {
        "id": "0WcK1FkfUEq9",
        "colab_type": "code",
        "outputId": "b1773e12-98b6-4ea5-e340-bde3fedaafd2",
        "colab": {
          "base_uri": "https://localhost:8080/",
          "height": 204
        }
      },
      "source": [
        "confirmed.tail()"
      ],
      "execution_count": 66,
      "outputs": [
        {
          "output_type": "execute_result",
          "data": {
            "text/html": [
              "<div>\n",
              "<style scoped>\n",
              "    .dataframe tbody tr th:only-of-type {\n",
              "        vertical-align: middle;\n",
              "    }\n",
              "\n",
              "    .dataframe tbody tr th {\n",
              "        vertical-align: top;\n",
              "    }\n",
              "\n",
              "    .dataframe thead th {\n",
              "        text-align: right;\n",
              "    }\n",
              "</style>\n",
              "<table border=\"1\" class=\"dataframe\">\n",
              "  <thead>\n",
              "    <tr style=\"text-align: right;\">\n",
              "      <th></th>\n",
              "      <th>ds</th>\n",
              "      <th>y</th>\n",
              "    </tr>\n",
              "  </thead>\n",
              "  <tbody>\n",
              "    <tr>\n",
              "      <th>57</th>\n",
              "      <td>2020-03-19</td>\n",
              "      <td>242708.0</td>\n",
              "    </tr>\n",
              "    <tr>\n",
              "      <th>58</th>\n",
              "      <td>2020-03-20</td>\n",
              "      <td>272166.0</td>\n",
              "    </tr>\n",
              "    <tr>\n",
              "      <th>59</th>\n",
              "      <td>2020-03-21</td>\n",
              "      <td>304524.0</td>\n",
              "    </tr>\n",
              "    <tr>\n",
              "      <th>60</th>\n",
              "      <td>2020-03-22</td>\n",
              "      <td>335955.0</td>\n",
              "    </tr>\n",
              "    <tr>\n",
              "      <th>61</th>\n",
              "      <td>2020-03-23</td>\n",
              "      <td>336004.0</td>\n",
              "    </tr>\n",
              "  </tbody>\n",
              "</table>\n",
              "</div>"
            ],
            "text/plain": [
              "           ds         y\n",
              "57 2020-03-19  242708.0\n",
              "58 2020-03-20  272166.0\n",
              "59 2020-03-21  304524.0\n",
              "60 2020-03-22  335955.0\n",
              "61 2020-03-23  336004.0"
            ]
          },
          "metadata": {
            "tags": []
          },
          "execution_count": 66
        }
      ]
    },
    {
      "cell_type": "markdown",
      "metadata": {
        "id": "bZVTsSqMaDLO",
        "colab_type": "text"
      },
      "source": [
        "\n",
        "##4.1 Forecasting Confirmed NCOVID-19 Cases Worldwide with Prophet (Base model)\n",
        "\n",
        "Generating a week ahead forecast of confirmed cases of NCOVID-19 using Prophet, with 95% prediction interval by creating a base model with no tweaking of seasonality-related parameters and additional regressors."
      ]
    },
    {
      "cell_type": "code",
      "metadata": {
        "id": "5pw5VDIlUH-F",
        "colab_type": "code",
        "outputId": "0833d2a5-28a1-49ea-e10a-91d2db9cbcc7",
        "colab": {
          "base_uri": "https://localhost:8080/",
          "height": 238
        }
      },
      "source": [
        "m = Prophet(interval_width=0.95)\n",
        "m.fit(confirmed)\n",
        "future = m.make_future_dataframe(periods=7)\n",
        "future.tail()"
      ],
      "execution_count": 67,
      "outputs": [
        {
          "output_type": "stream",
          "text": [
            "INFO:fbprophet:Disabling yearly seasonality. Run prophet with yearly_seasonality=True to override this.\n",
            "INFO:fbprophet:Disabling daily seasonality. Run prophet with daily_seasonality=True to override this.\n"
          ],
          "name": "stderr"
        },
        {
          "output_type": "execute_result",
          "data": {
            "text/html": [
              "<div>\n",
              "<style scoped>\n",
              "    .dataframe tbody tr th:only-of-type {\n",
              "        vertical-align: middle;\n",
              "    }\n",
              "\n",
              "    .dataframe tbody tr th {\n",
              "        vertical-align: top;\n",
              "    }\n",
              "\n",
              "    .dataframe thead th {\n",
              "        text-align: right;\n",
              "    }\n",
              "</style>\n",
              "<table border=\"1\" class=\"dataframe\">\n",
              "  <thead>\n",
              "    <tr style=\"text-align: right;\">\n",
              "      <th></th>\n",
              "      <th>ds</th>\n",
              "    </tr>\n",
              "  </thead>\n",
              "  <tbody>\n",
              "    <tr>\n",
              "      <th>64</th>\n",
              "      <td>2020-03-26</td>\n",
              "    </tr>\n",
              "    <tr>\n",
              "      <th>65</th>\n",
              "      <td>2020-03-27</td>\n",
              "    </tr>\n",
              "    <tr>\n",
              "      <th>66</th>\n",
              "      <td>2020-03-28</td>\n",
              "    </tr>\n",
              "    <tr>\n",
              "      <th>67</th>\n",
              "      <td>2020-03-29</td>\n",
              "    </tr>\n",
              "    <tr>\n",
              "      <th>68</th>\n",
              "      <td>2020-03-30</td>\n",
              "    </tr>\n",
              "  </tbody>\n",
              "</table>\n",
              "</div>"
            ],
            "text/plain": [
              "           ds\n",
              "64 2020-03-26\n",
              "65 2020-03-27\n",
              "66 2020-03-28\n",
              "67 2020-03-29\n",
              "68 2020-03-30"
            ]
          },
          "metadata": {
            "tags": []
          },
          "execution_count": 67
        }
      ]
    },
    {
      "cell_type": "markdown",
      "metadata": {
        "id": "jZBSljBVdZ-2",
        "colab_type": "text"
      },
      "source": [
        "The **predict** method will assign each row in future a predicted value which it names **yhat**. If you pass in historical dates, it will provide an in-sample fit. The **forecast object** here is a new dataframe that includes a column yhat with the forecast, as well as columns for components and uncertainty intervals."
      ]
    },
    {
      "cell_type": "code",
      "metadata": {
        "id": "CdJu5EnIUPhB",
        "colab_type": "code",
        "outputId": "a3233f6b-e131-4cba-931e-12a87d5c41bc",
        "colab": {
          "base_uri": "https://localhost:8080/",
          "height": 204
        }
      },
      "source": [
        "#predicting the future with date, and upper and lower limit of y value\n",
        "forecast = m.predict(future)\n",
        "forecast[['ds', 'yhat', 'yhat_lower', 'yhat_upper']].tail()"
      ],
      "execution_count": 68,
      "outputs": [
        {
          "output_type": "execute_result",
          "data": {
            "text/html": [
              "<div>\n",
              "<style scoped>\n",
              "    .dataframe tbody tr th:only-of-type {\n",
              "        vertical-align: middle;\n",
              "    }\n",
              "\n",
              "    .dataframe tbody tr th {\n",
              "        vertical-align: top;\n",
              "    }\n",
              "\n",
              "    .dataframe thead th {\n",
              "        text-align: right;\n",
              "    }\n",
              "</style>\n",
              "<table border=\"1\" class=\"dataframe\">\n",
              "  <thead>\n",
              "    <tr style=\"text-align: right;\">\n",
              "      <th></th>\n",
              "      <th>ds</th>\n",
              "      <th>yhat</th>\n",
              "      <th>yhat_lower</th>\n",
              "      <th>yhat_upper</th>\n",
              "    </tr>\n",
              "  </thead>\n",
              "  <tbody>\n",
              "    <tr>\n",
              "      <th>64</th>\n",
              "      <td>2020-03-26</td>\n",
              "      <td>355136.872975</td>\n",
              "      <td>334528.065132</td>\n",
              "      <td>375783.318057</td>\n",
              "    </tr>\n",
              "    <tr>\n",
              "      <th>65</th>\n",
              "      <td>2020-03-27</td>\n",
              "      <td>372235.326938</td>\n",
              "      <td>352255.379470</td>\n",
              "      <td>393445.643369</td>\n",
              "    </tr>\n",
              "    <tr>\n",
              "      <th>66</th>\n",
              "      <td>2020-03-28</td>\n",
              "      <td>388674.964143</td>\n",
              "      <td>365576.776644</td>\n",
              "      <td>409082.412328</td>\n",
              "    </tr>\n",
              "    <tr>\n",
              "      <th>67</th>\n",
              "      <td>2020-03-29</td>\n",
              "      <td>405307.954675</td>\n",
              "      <td>383048.982510</td>\n",
              "      <td>427881.817197</td>\n",
              "    </tr>\n",
              "    <tr>\n",
              "      <th>68</th>\n",
              "      <td>2020-03-30</td>\n",
              "      <td>418529.648466</td>\n",
              "      <td>395248.266367</td>\n",
              "      <td>439566.860005</td>\n",
              "    </tr>\n",
              "  </tbody>\n",
              "</table>\n",
              "</div>"
            ],
            "text/plain": [
              "           ds           yhat     yhat_lower     yhat_upper\n",
              "64 2020-03-26  355136.872975  334528.065132  375783.318057\n",
              "65 2020-03-27  372235.326938  352255.379470  393445.643369\n",
              "66 2020-03-28  388674.964143  365576.776644  409082.412328\n",
              "67 2020-03-29  405307.954675  383048.982510  427881.817197\n",
              "68 2020-03-30  418529.648466  395248.266367  439566.860005"
            ]
          },
          "metadata": {
            "tags": []
          },
          "execution_count": 68
        }
      ]
    },
    {
      "cell_type": "markdown",
      "metadata": {
        "id": "srMkt3cQdfOS",
        "colab_type": "text"
      },
      "source": [
        "You can plot the forecast by calling the Prophet.plot method and passing in your forecast dataframe."
      ]
    },
    {
      "cell_type": "code",
      "metadata": {
        "id": "ePoOz6wwU3c0",
        "colab_type": "code",
        "outputId": "091836b6-b73f-451b-9dbd-761cfc3b2d6c",
        "colab": {
          "base_uri": "https://localhost:8080/",
          "height": 441
        }
      },
      "source": [
        "confirmed_forecast_plot = m.plot(forecast)"
      ],
      "execution_count": 69,
      "outputs": [
        {
          "output_type": "display_data",
          "data": {
            "image/png": "[encoded data removed]",
            "text/plain": [
              "<Figure size 720x432 with 1 Axes>"
            ]
          },
          "metadata": {
            "tags": []
          }
        }
      ]
    },
    {
      "cell_type": "code",
      "metadata": {
        "id": "UDv_-qMRepkF",
        "colab_type": "code",
        "outputId": "b541c602-f906-4748-b03a-5b7409a48baa",
        "colab": {
          "base_uri": "https://localhost:8080/",
          "height": 441
        }
      },
      "source": [
        "confirmed_forecast_plot =m.plot_components(forecast)"
      ],
      "execution_count": 70,
      "outputs": [
        {
          "output_type": "display_data",
          "data": {
            "image/png": "[encoded data removed]",
            "text/plain": [
              "<Figure size 648x432 with 2 Axes>"
            ]
          },
          "metadata": {
            "tags": []
          }
        }
      ]
    },
    {
      "cell_type": "markdown",
      "metadata": {
        "id": "h6GchUM61D63",
        "colab_type": "text"
      },
      "source": [
        "## What do you think was the reason behind calling Janta Curfew on 22nd March and country lockdown from 24th March till next 21 days?\n"
      ]
    },
    {
      "cell_type": "markdown",
      "metadata": {
        "id": "RbH86bfdnLAE",
        "colab_type": "text"
      },
      "source": [
        "- **PM Modi** announced Janta Curfew in India on 22nd March. From 24th March there is a complete lockdown the entire country. Definately its for our own good.\n",
        "![alt text](https://i.imgur.com/bP2Rf9b.png)\n",
        "\n",
        "- No scheduled international commercial flight's paasenger shall be allowed to land in india from March 22 for a week.\n",
        "- From 24th midnight all the domestic and international flights have been called off.\n",
        "\n",
        "![alt text](https://i.imgur.com/P9z3TVL.png)"
      ]
    },
    {
      "cell_type": "markdown",
      "metadata": {
        "id": "IeR0wJvMbGPH",
        "colab_type": "text"
      },
      "source": [
        "##4.2 Forecasting Worldwide Deaths using Prophet (Base model)\n",
        "\n",
        "Generating a week ahead forecast of confirmed cases of NCOVID-19 using Prophet, with 95% prediction interval by creating a base model with no tweaking of seasonality-related parameters and additional regressors."
      ]
    },
    {
      "cell_type": "code",
      "metadata": {
        "id": "mBh3fYTPU8x5",
        "colab_type": "code",
        "colab": {}
      },
      "source": [
        "deaths.columns = ['ds','y']\n",
        "deaths['ds'] = pd.to_datetime(deaths['ds'])"
      ],
      "execution_count": 0,
      "outputs": []
    },
    {
      "cell_type": "code",
      "metadata": {
        "id": "2644baabbXuU",
        "colab_type": "code",
        "outputId": "8c8d393b-ed66-426b-ec41-fe0d237b805b",
        "colab": {
          "base_uri": "https://localhost:8080/",
          "height": 238
        }
      },
      "source": [
        "m = Prophet(interval_width=0.95)\n",
        "m.fit(deaths)\n",
        "future = m.make_future_dataframe(periods=7)\n",
        "future.tail()"
      ],
      "execution_count": 49,
      "outputs": [
        {
          "output_type": "stream",
          "text": [
            "INFO:fbprophet:Disabling yearly seasonality. Run prophet with yearly_seasonality=True to override this.\n",
            "INFO:fbprophet:Disabling daily seasonality. Run prophet with daily_seasonality=True to override this.\n"
          ],
          "name": "stderr"
        },
        {
          "output_type": "execute_result",
          "data": {
            "text/html": [
              "<div>\n",
              "<style scoped>\n",
              "    .dataframe tbody tr th:only-of-type {\n",
              "        vertical-align: middle;\n",
              "    }\n",
              "\n",
              "    .dataframe tbody tr th {\n",
              "        vertical-align: top;\n",
              "    }\n",
              "\n",
              "    .dataframe thead th {\n",
              "        text-align: right;\n",
              "    }\n",
              "</style>\n",
              "<table border=\"1\" class=\"dataframe\">\n",
              "  <thead>\n",
              "    <tr style=\"text-align: right;\">\n",
              "      <th></th>\n",
              "      <th>ds</th>\n",
              "    </tr>\n",
              "  </thead>\n",
              "  <tbody>\n",
              "    <tr>\n",
              "      <th>64</th>\n",
              "      <td>2020-03-26</td>\n",
              "    </tr>\n",
              "    <tr>\n",
              "      <th>65</th>\n",
              "      <td>2020-03-27</td>\n",
              "    </tr>\n",
              "    <tr>\n",
              "      <th>66</th>\n",
              "      <td>2020-03-28</td>\n",
              "    </tr>\n",
              "    <tr>\n",
              "      <th>67</th>\n",
              "      <td>2020-03-29</td>\n",
              "    </tr>\n",
              "    <tr>\n",
              "      <th>68</th>\n",
              "      <td>2020-03-30</td>\n",
              "    </tr>\n",
              "  </tbody>\n",
              "</table>\n",
              "</div>"
            ],
            "text/plain": [
              "           ds\n",
              "64 2020-03-26\n",
              "65 2020-03-27\n",
              "66 2020-03-28\n",
              "67 2020-03-29\n",
              "68 2020-03-30"
            ]
          },
          "metadata": {
            "tags": []
          },
          "execution_count": 49
        }
      ]
    },
    {
      "cell_type": "code",
      "metadata": {
        "id": "5yAFR7chbZgj",
        "colab_type": "code",
        "outputId": "a7131788-a1f0-4552-f923-d4b2a0088b54",
        "colab": {
          "base_uri": "https://localhost:8080/",
          "height": 204
        }
      },
      "source": [
        "forecast = m.predict(future)\n",
        "forecast[['ds', 'yhat', 'yhat_lower', 'yhat_upper']].tail()"
      ],
      "execution_count": 50,
      "outputs": [
        {
          "output_type": "execute_result",
          "data": {
            "text/html": [
              "<div>\n",
              "<style scoped>\n",
              "    .dataframe tbody tr th:only-of-type {\n",
              "        vertical-align: middle;\n",
              "    }\n",
              "\n",
              "    .dataframe tbody tr th {\n",
              "        vertical-align: top;\n",
              "    }\n",
              "\n",
              "    .dataframe thead th {\n",
              "        text-align: right;\n",
              "    }\n",
              "</style>\n",
              "<table border=\"1\" class=\"dataframe\">\n",
              "  <thead>\n",
              "    <tr style=\"text-align: right;\">\n",
              "      <th></th>\n",
              "      <th>ds</th>\n",
              "      <th>yhat</th>\n",
              "      <th>yhat_lower</th>\n",
              "      <th>yhat_upper</th>\n",
              "    </tr>\n",
              "  </thead>\n",
              "  <tbody>\n",
              "    <tr>\n",
              "      <th>64</th>\n",
              "      <td>2020-03-26</td>\n",
              "      <td>15411.877522</td>\n",
              "      <td>14506.669158</td>\n",
              "      <td>16322.757255</td>\n",
              "    </tr>\n",
              "    <tr>\n",
              "      <th>65</th>\n",
              "      <td>2020-03-27</td>\n",
              "      <td>16199.617603</td>\n",
              "      <td>15187.307521</td>\n",
              "      <td>17260.231237</td>\n",
              "    </tr>\n",
              "    <tr>\n",
              "      <th>66</th>\n",
              "      <td>2020-03-28</td>\n",
              "      <td>17006.904589</td>\n",
              "      <td>16003.567990</td>\n",
              "      <td>17949.461483</td>\n",
              "    </tr>\n",
              "    <tr>\n",
              "      <th>67</th>\n",
              "      <td>2020-03-29</td>\n",
              "      <td>17831.505383</td>\n",
              "      <td>16830.760736</td>\n",
              "      <td>18853.197424</td>\n",
              "    </tr>\n",
              "    <tr>\n",
              "      <th>68</th>\n",
              "      <td>2020-03-30</td>\n",
              "      <td>18490.986176</td>\n",
              "      <td>17395.392854</td>\n",
              "      <td>19622.449331</td>\n",
              "    </tr>\n",
              "  </tbody>\n",
              "</table>\n",
              "</div>"
            ],
            "text/plain": [
              "           ds          yhat    yhat_lower    yhat_upper\n",
              "64 2020-03-26  15411.877522  14506.669158  16322.757255\n",
              "65 2020-03-27  16199.617603  15187.307521  17260.231237\n",
              "66 2020-03-28  17006.904589  16003.567990  17949.461483\n",
              "67 2020-03-29  17831.505383  16830.760736  18853.197424\n",
              "68 2020-03-30  18490.986176  17395.392854  19622.449331"
            ]
          },
          "metadata": {
            "tags": []
          },
          "execution_count": 50
        }
      ]
    },
    {
      "cell_type": "code",
      "metadata": {
        "id": "uKVaQnPebdJc",
        "colab_type": "code",
        "outputId": "996a6a6d-949a-41b9-9f2e-462a3c9de99a",
        "colab": {
          "base_uri": "https://localhost:8080/",
          "height": 441
        }
      },
      "source": [
        "deaths_forecast_plot = m.plot(forecast)"
      ],
      "execution_count": 51,
      "outputs": [
        {
          "output_type": "display_data",
          "data": {
            "image/png": "[encoded data removed]",
            "text/plain": [
              "<Figure size 720x432 with 1 Axes>"
            ]
          },
          "metadata": {
            "tags": []
          }
        }
      ]
    },
    {
      "cell_type": "code",
      "metadata": {
        "id": "DB9Qq43peepR",
        "colab_type": "code",
        "outputId": "7f4ef810-6ae9-465d-9e2f-6071cd6ecca1",
        "colab": {
          "base_uri": "https://localhost:8080/",
          "height": 441
        }
      },
      "source": [
        "deaths_forecast_plot = m.plot_components(forecast)"
      ],
      "execution_count": 52,
      "outputs": [
        {
          "output_type": "display_data",
          "data": {
            "image/png": "[encoded data removed]",
            "text/plain": [
              "<Figure size 648x432 with 2 Axes>"
            ]
          },
          "metadata": {
            "tags": []
          }
        }
      ]
    },
    {
      "cell_type": "markdown",
      "metadata": {
        "id": "BEo4E8R8dy0_",
        "colab_type": "text"
      },
      "source": [
        "##4.3 Forecasting Worldwide Recovered Cases with Prophet (Base model)\n",
        "\n",
        "Generating a week ahead forecast of confirmed cases of NCOVID-19 using Prophet, with 95% prediction interval by creating a base model with no tweaking of seasonality-related parameters and additional regressors."
      ]
    },
    {
      "cell_type": "code",
      "metadata": {
        "id": "Z1keUssrdvYN",
        "colab_type": "code",
        "colab": {}
      },
      "source": [
        "recovered.columns = ['ds','y']\n",
        "recovered['ds'] = pd.to_datetime(recovered['ds'])"
      ],
      "execution_count": 0,
      "outputs": []
    },
    {
      "cell_type": "code",
      "metadata": {
        "id": "EaggMuv7d-1D",
        "colab_type": "code",
        "outputId": "aa583d01-7da1-483a-9d9e-c752a8b7f3d9",
        "colab": {
          "base_uri": "https://localhost:8080/",
          "height": 238
        }
      },
      "source": [
        "m = Prophet(interval_width=0.95)\n",
        "m.fit(recovered)\n",
        "future = m.make_future_dataframe(periods=7)\n",
        "future.tail()"
      ],
      "execution_count": 54,
      "outputs": [
        {
          "output_type": "stream",
          "text": [
            "INFO:fbprophet:Disabling yearly seasonality. Run prophet with yearly_seasonality=True to override this.\n",
            "INFO:fbprophet:Disabling daily seasonality. Run prophet with daily_seasonality=True to override this.\n"
          ],
          "name": "stderr"
        },
        {
          "output_type": "execute_result",
          "data": {
            "text/html": [
              "<div>\n",
              "<style scoped>\n",
              "    .dataframe tbody tr th:only-of-type {\n",
              "        vertical-align: middle;\n",
              "    }\n",
              "\n",
              "    .dataframe tbody tr th {\n",
              "        vertical-align: top;\n",
              "    }\n",
              "\n",
              "    .dataframe thead th {\n",
              "        text-align: right;\n",
              "    }\n",
              "</style>\n",
              "<table border=\"1\" class=\"dataframe\">\n",
              "  <thead>\n",
              "    <tr style=\"text-align: right;\">\n",
              "      <th></th>\n",
              "      <th>ds</th>\n",
              "    </tr>\n",
              "  </thead>\n",
              "  <tbody>\n",
              "    <tr>\n",
              "      <th>64</th>\n",
              "      <td>2020-03-26</td>\n",
              "    </tr>\n",
              "    <tr>\n",
              "      <th>65</th>\n",
              "      <td>2020-03-27</td>\n",
              "    </tr>\n",
              "    <tr>\n",
              "      <th>66</th>\n",
              "      <td>2020-03-28</td>\n",
              "    </tr>\n",
              "    <tr>\n",
              "      <th>67</th>\n",
              "      <td>2020-03-29</td>\n",
              "    </tr>\n",
              "    <tr>\n",
              "      <th>68</th>\n",
              "      <td>2020-03-30</td>\n",
              "    </tr>\n",
              "  </tbody>\n",
              "</table>\n",
              "</div>"
            ],
            "text/plain": [
              "           ds\n",
              "64 2020-03-26\n",
              "65 2020-03-27\n",
              "66 2020-03-28\n",
              "67 2020-03-29\n",
              "68 2020-03-30"
            ]
          },
          "metadata": {
            "tags": []
          },
          "execution_count": 54
        }
      ]
    },
    {
      "cell_type": "code",
      "metadata": {
        "id": "QwTHSHVheAYS",
        "colab_type": "code",
        "outputId": "672c665e-45b0-4319-e2a3-3752ecbf91ff",
        "colab": {
          "base_uri": "https://localhost:8080/",
          "height": 204
        }
      },
      "source": [
        "forecast = m.predict(future)\n",
        "forecast[['ds', 'yhat', 'yhat_lower', 'yhat_upper']].tail()"
      ],
      "execution_count": 55,
      "outputs": [
        {
          "output_type": "execute_result",
          "data": {
            "text/html": [
              "<div>\n",
              "<style scoped>\n",
              "    .dataframe tbody tr th:only-of-type {\n",
              "        vertical-align: middle;\n",
              "    }\n",
              "\n",
              "    .dataframe tbody tr th {\n",
              "        vertical-align: top;\n",
              "    }\n",
              "\n",
              "    .dataframe thead th {\n",
              "        text-align: right;\n",
              "    }\n",
              "</style>\n",
              "<table border=\"1\" class=\"dataframe\">\n",
              "  <thead>\n",
              "    <tr style=\"text-align: right;\">\n",
              "      <th></th>\n",
              "      <th>ds</th>\n",
              "      <th>yhat</th>\n",
              "      <th>yhat_lower</th>\n",
              "      <th>yhat_upper</th>\n",
              "    </tr>\n",
              "  </thead>\n",
              "  <tbody>\n",
              "    <tr>\n",
              "      <th>64</th>\n",
              "      <td>2020-03-26</td>\n",
              "      <td>103001.351662</td>\n",
              "      <td>101359.098917</td>\n",
              "      <td>104790.865779</td>\n",
              "    </tr>\n",
              "    <tr>\n",
              "      <th>65</th>\n",
              "      <td>2020-03-27</td>\n",
              "      <td>105338.025042</td>\n",
              "      <td>103511.427640</td>\n",
              "      <td>107186.654750</td>\n",
              "    </tr>\n",
              "    <tr>\n",
              "      <th>66</th>\n",
              "      <td>2020-03-28</td>\n",
              "      <td>108256.310813</td>\n",
              "      <td>106164.977407</td>\n",
              "      <td>110342.080514</td>\n",
              "    </tr>\n",
              "    <tr>\n",
              "      <th>67</th>\n",
              "      <td>2020-03-29</td>\n",
              "      <td>111119.296170</td>\n",
              "      <td>108883.270128</td>\n",
              "      <td>113720.821121</td>\n",
              "    </tr>\n",
              "    <tr>\n",
              "      <th>68</th>\n",
              "      <td>2020-03-30</td>\n",
              "      <td>113244.961749</td>\n",
              "      <td>110502.195947</td>\n",
              "      <td>116097.871868</td>\n",
              "    </tr>\n",
              "  </tbody>\n",
              "</table>\n",
              "</div>"
            ],
            "text/plain": [
              "           ds           yhat     yhat_lower     yhat_upper\n",
              "64 2020-03-26  103001.351662  101359.098917  104790.865779\n",
              "65 2020-03-27  105338.025042  103511.427640  107186.654750\n",
              "66 2020-03-28  108256.310813  106164.977407  110342.080514\n",
              "67 2020-03-29  111119.296170  108883.270128  113720.821121\n",
              "68 2020-03-30  113244.961749  110502.195947  116097.871868"
            ]
          },
          "metadata": {
            "tags": []
          },
          "execution_count": 55
        }
      ]
    },
    {
      "cell_type": "code",
      "metadata": {
        "id": "EAp07XxTeCuy",
        "colab_type": "code",
        "outputId": "d430b53d-59d7-4b5c-c6ed-83cf1919f832",
        "colab": {
          "base_uri": "https://localhost:8080/",
          "height": 441
        }
      },
      "source": [
        "recovered_forecast_plot = m.plot(forecast)"
      ],
      "execution_count": 56,
      "outputs": [
        {
          "output_type": "display_data",
          "data": {
            "image/png": "[encoded data removed]",
            "text/plain": [
              "<Figure size 720x432 with 1 Axes>"
            ]
          },
          "metadata": {
            "tags": []
          }
        }
      ]
    },
    {
      "cell_type": "code",
      "metadata": {
        "id": "UQVIYNZReFSB",
        "colab_type": "code",
        "outputId": "9ad1b5f4-df8b-477c-f075-4d062c83559d",
        "colab": {
          "base_uri": "https://localhost:8080/",
          "height": 441
        }
      },
      "source": [
        "recovered_forecast_plot = m.plot_components(forecast)\n"
      ],
      "execution_count": 57,
      "outputs": [
        {
          "output_type": "display_data",
          "data": {
            "image/png": "[encoded data removed]",
            "text/plain": [
              "<Figure size 648x432 with 2 Axes>"
            ]
          },
          "metadata": {
            "tags": []
          }
        }
      ]
    },
    {
      "cell_type": "markdown",
      "metadata": {
        "id": "0ilBIKIyfNBh",
        "colab_type": "text"
      },
      "source": [
        "##4.4 Inference from the above Analysis and Forecast\n",
        "###Will Indian become the next Italy/ S.Korea/ Wuhan?\n"
      ]
    },
    {
      "cell_type": "markdown",
      "metadata": {
        "id": "keoi2cnWoBoX",
        "colab_type": "text"
      },
      "source": [
        "Yes, if you look at the world's data and its forecast you can say that India might face one of its worst days if we are not taking strict measures against COVID-19.\n",
        "\n",
        "###**A Humble Request to all our YouTube viewers please TEST, TEST, TEST: COVID-19** \n",
        "Don't take your cough and cold lighly as before. If you look at the data number of cases in India is rising but not like in Italy, Wuhan, S.Korea, Spain, or USA. Don't get fool by these numbers (COVID cases in India). I think the number is less because of low awareness and less tests being conducted in India. Currently India is a deadly and risky zone as there are very few COVID-19 test centres in India.  Imagine how many infected people are still around you and are infecting others unknowingly. Remember **India ranks 145** in terms of global healthcare rank while [Italy is on 2nd](https://worldpopulationreview.com/countries/best-healthcare-in-the-world/).\n"
      ]
    },
    {
      "cell_type": "markdown",
      "metadata": {
        "id": "kD1CbMKJlejt",
        "colab_type": "text"
      },
      "source": [
        "- Indian government's decision for today confirms that the above prediction is definitely something we pay attention to.\n",
        "- Please stay home/indoors for all 21 days. This will definitely help us tackle the situation. It won't stop the pandemic, but it would definitely help us reduce the exponential rate at which it is increasing. \n",
        "- Let's give a hand in fighting this pandemic atleast by quarantining ourselves by staying indoors and protecting you and your family. \n",
        "- Go and get a checkup done in case you are suffering from cough,cold, fever, shortness of breath and breathing difficulties. Can't tell for sure but(due to lack of data) , but it might be possible that we don't have the exact number of the COVID-19 cases in India becasuse sometimes it takes weeks to see the first sign/symptom for it. \n",
        "- If you're not getting the checkup done, you might add in spreading the virus unintentionally\n",
        "- Its time we take this pandemic seriously - **LIVE & HELP OTHERS LIVE**\n",
        "- Take precautions, stay indoors, and utilize this time to develop your machine learning skill with edureka's AI-ML PGP and help the world with your machine learning models."
      ]
    },
    {
      "cell_type": "markdown",
      "metadata": {
        "id": "H3zb5fj0H-v2",
        "colab_type": "text"
      },
      "source": [
        "### Indian streets today!\n",
        "![alt text](https://i.imgur.com/jIE1kro.jpg)\n",
        "\n",
        "- Nature is sending us a message with the coronavirus pandemic and the ongoing climate crisis, according to the UN’s environment chief, Inger Andersen.\n",
        "- Think on a positive side, this lockdown will help the environment to heal better, reduce different kinds of pollution, and improve air quality\n"
      ]
    },
    {
      "cell_type": "markdown",
      "metadata": {
        "id": "tA2o-l9lGNR8",
        "colab_type": "text"
      },
      "source": [
        "#COVID-19 Symptoms\n"
      ]
    },
    {
      "cell_type": "markdown",
      "metadata": {
        "id": "9wQkckrgoQAH",
        "colab_type": "text"
      },
      "source": [
        "![alt text](https://i.imgur.com/POA1WGb.png)"
      ]
    },
    {
      "cell_type": "markdown",
      "metadata": {
        "id": "z2zVUbxbJq7d",
        "colab_type": "text"
      },
      "source": [
        "#**Data Source:**\n",
        "- https://www.mohfw.gov.in/\n",
        "- https://www.kaggle.com/sudalairajkumar/novel-corona-virus-2019-dataset"
      ]
    }
  ]
}